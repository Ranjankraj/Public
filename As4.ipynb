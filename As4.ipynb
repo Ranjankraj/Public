{
  "nbformat": 4,
  "nbformat_minor": 0,
  "metadata": {
    "colab": {
      "name": "As4.ipynb",
      "provenance": [],
      "authorship_tag": "ABX9TyOE8nc0a1GF8r4w3fwdqUeq",
      "include_colab_link": true
    },
    "kernelspec": {
      "name": "python3",
      "display_name": "Python 3"
    }
  },
  "cells": [
    {
      "cell_type": "markdown",
      "metadata": {
        "id": "view-in-github",
        "colab_type": "text"
      },
      "source": [
        "<a href=\"https://colab.research.google.com/github/Ranjankraj/Shala/blob/main/As4.ipynb\" target=\"_parent\"><img src=\"https://colab.research.google.com/assets/colab-badge.svg\" alt=\"Open In Colab\"/></a>"
      ]
    },
    {
      "cell_type": "code",
      "metadata": {
        "id": "gw1K3VOmoc8N"
      },
      "source": [
        "import numpy as np\r\n",
        "import pandas as pd\r\n",
        "import matplotlib.pyplot as plt\r\n",
        "import seaborn as sns\r\n",
        "import scipy as stats"
      ],
      "execution_count": 69,
      "outputs": []
    },
    {
      "cell_type": "code",
      "metadata": {
        "colab": {
          "base_uri": "https://localhost:8080/",
          "height": 206
        },
        "id": "DROMcTlaQznK",
        "outputId": "38d389f9-721d-4035-da0b-2a7ddea3d760"
      },
      "source": [
        "url = 'https://raw.githubusercontent.com/Ipsit1234/SHALA/master/q4.csv'\r\n",
        "data = pd.read_csv(url, header=None)\r\n",
        "data.head()"
      ],
      "execution_count": 19,
      "outputs": [
        {
          "output_type": "execute_result",
          "data": {
            "text/html": [
              "<div>\n",
              "<style scoped>\n",
              "    .dataframe tbody tr th:only-of-type {\n",
              "        vertical-align: middle;\n",
              "    }\n",
              "\n",
              "    .dataframe tbody tr th {\n",
              "        vertical-align: top;\n",
              "    }\n",
              "\n",
              "    .dataframe thead th {\n",
              "        text-align: right;\n",
              "    }\n",
              "</style>\n",
              "<table border=\"1\" class=\"dataframe\">\n",
              "  <thead>\n",
              "    <tr style=\"text-align: right;\">\n",
              "      <th></th>\n",
              "      <th>0</th>\n",
              "      <th>1</th>\n",
              "    </tr>\n",
              "  </thead>\n",
              "  <tbody>\n",
              "    <tr>\n",
              "      <th>0</th>\n",
              "      <td>0</td>\n",
              "      <td>0.019404</td>\n",
              "    </tr>\n",
              "    <tr>\n",
              "      <th>1</th>\n",
              "      <td>1</td>\n",
              "      <td>0.043634</td>\n",
              "    </tr>\n",
              "    <tr>\n",
              "      <th>2</th>\n",
              "      <td>2</td>\n",
              "      <td>0.023797</td>\n",
              "    </tr>\n",
              "    <tr>\n",
              "      <th>3</th>\n",
              "      <td>3</td>\n",
              "      <td>0.444340</td>\n",
              "    </tr>\n",
              "    <tr>\n",
              "      <th>4</th>\n",
              "      <td>4</td>\n",
              "      <td>0.578160</td>\n",
              "    </tr>\n",
              "  </tbody>\n",
              "</table>\n",
              "</div>"
            ],
            "text/plain": [
              "   0         1\n",
              "0  0  0.019404\n",
              "1  1  0.043634\n",
              "2  2  0.023797\n",
              "3  3  0.444340\n",
              "4  4  0.578160"
            ]
          },
          "metadata": {
            "tags": []
          },
          "execution_count": 19
        }
      ]
    },
    {
      "cell_type": "code",
      "metadata": {
        "colab": {
          "base_uri": "https://localhost:8080/"
        },
        "id": "P-B5RNIvQ5qB",
        "outputId": "b78bf745-ac5c-4d02-ab50-cc89f16662e0"
      },
      "source": [
        "def pdf_exp(lamb, x):\r\n",
        "  return lamb * np.exp(-1*lamb*x)\r\n",
        "\r\n",
        "likelihood1 = 1\r\n",
        "likelihood2 = 1\r\n",
        "for aa in data[1].values:\r\n",
        "  likelihood1 = likelihood1 * pdf_exp(x= aa, lamb=1)\r\n",
        "  likelihood2 = likelihood2 * pdf_exp(x= aa, lamb=2)\r\n",
        "\r\n",
        "log_likelihood1 = np.log(likelihood1)\r\n",
        "log_likelihood2 = np.log(likelihood2)\r\n",
        "print(log_likelihood1 - log_likelihood2)\r\n"
      ],
      "execution_count": 30,
      "outputs": [
        {
          "output_type": "stream",
          "text": [
            "-20.366416970604874\n"
          ],
          "name": "stdout"
        }
      ]
    },
    {
      "cell_type": "code",
      "metadata": {
        "colab": {
          "base_uri": "https://localhost:8080/",
          "height": 318
        },
        "id": "bTjWhlT4WKgB",
        "outputId": "be6728d0-725e-41b7-ac1f-57a01fe9d87f"
      },
      "source": [
        "sample1 = pd.read_csv('https://raw.githubusercontent.com/Ipsit1234/SHALA/master/q4_1.csv',header=None)\r\n",
        "sample2 = pd.read_csv('https://raw.githubusercontent.com/Ipsit1234/SHALA/master/q4_2.csv',header=None)\r\n",
        "\r\n",
        "print(sample1.head())\r\n",
        "sample2.head()"
      ],
      "execution_count": 36,
      "outputs": [
        {
          "output_type": "stream",
          "text": [
            "   0         1\n",
            "0  0 -0.179278\n",
            "1  1  0.236714\n",
            "2  2  0.255502\n",
            "3  3 -0.029321\n",
            "4  4  0.004818\n"
          ],
          "name": "stdout"
        },
        {
          "output_type": "execute_result",
          "data": {
            "text/html": [
              "<div>\n",
              "<style scoped>\n",
              "    .dataframe tbody tr th:only-of-type {\n",
              "        vertical-align: middle;\n",
              "    }\n",
              "\n",
              "    .dataframe tbody tr th {\n",
              "        vertical-align: top;\n",
              "    }\n",
              "\n",
              "    .dataframe thead th {\n",
              "        text-align: right;\n",
              "    }\n",
              "</style>\n",
              "<table border=\"1\" class=\"dataframe\">\n",
              "  <thead>\n",
              "    <tr style=\"text-align: right;\">\n",
              "      <th></th>\n",
              "      <th>0</th>\n",
              "      <th>1</th>\n",
              "    </tr>\n",
              "  </thead>\n",
              "  <tbody>\n",
              "    <tr>\n",
              "      <th>0</th>\n",
              "      <td>0</td>\n",
              "      <td>0.680541</td>\n",
              "    </tr>\n",
              "    <tr>\n",
              "      <th>1</th>\n",
              "      <td>1</td>\n",
              "      <td>0.436810</td>\n",
              "    </tr>\n",
              "    <tr>\n",
              "      <th>2</th>\n",
              "      <td>2</td>\n",
              "      <td>0.604089</td>\n",
              "    </tr>\n",
              "    <tr>\n",
              "      <th>3</th>\n",
              "      <td>3</td>\n",
              "      <td>0.518702</td>\n",
              "    </tr>\n",
              "    <tr>\n",
              "      <th>4</th>\n",
              "      <td>4</td>\n",
              "      <td>0.479711</td>\n",
              "    </tr>\n",
              "  </tbody>\n",
              "</table>\n",
              "</div>"
            ],
            "text/plain": [
              "   0         1\n",
              "0  0  0.680541\n",
              "1  1  0.436810\n",
              "2  2  0.604089\n",
              "3  3  0.518702\n",
              "4  4  0.479711"
            ]
          },
          "metadata": {
            "tags": []
          },
          "execution_count": 36
        }
      ]
    },
    {
      "cell_type": "code",
      "metadata": {
        "id": "UH2HQKvcXn4V"
      },
      "source": [
        "significance = 0.05\r\n",
        "# sample1[1].mean()\r\n",
        "mu1= sample1[1].mean()\r\n",
        "mu2 = sample2[1].mean()\r\n",
        "\r\n",
        "s1 = np.var(sample1[1].values)\r\n",
        "s2 = np.var(sample2[1].values)\r\n",
        "\r\n",
        "n1 = sample1[1].shape[0]\r\n",
        "n2 = sample2[1].shape[0]"
      ],
      "execution_count": 73,
      "outputs": []
    },
    {
      "cell_type": "code",
      "metadata": {
        "id": "nt7LE4WgZ9iC"
      },
      "source": [
        "# T = (mu1 - mu2)/(np.sqrt(s1**2/n1) + (s2**2/n2))\r\n",
        "T = (mu1 - mu2) / np.sqrt((s1/n1) + (s2 / n2))\r\n",
        "\r\n",
        "\r\n",
        "df = np.square((s1/n1) + (s2 / n2)) / (((s1/n1)**2)/(n1-1) + ((s2/n2)**2)/(n2-1))\r\n"
      ],
      "execution_count": 74,
      "outputs": []
    },
    {
      "cell_type": "code",
      "metadata": {
        "colab": {
          "base_uri": "https://localhost:8080/"
        },
        "id": "iLDfK6XgcoBp",
        "outputId": "b99174b1-4642-4241-b7f3-0fefd8e60a54"
      },
      "source": [
        "!pip install scipy"
      ],
      "execution_count": 64,
      "outputs": [
        {
          "output_type": "stream",
          "text": [
            "Requirement already satisfied: scipy in /usr/local/lib/python3.6/dist-packages (1.4.1)\n",
            "Requirement already satisfied: numpy>=1.13.3 in /usr/local/lib/python3.6/dist-packages (from scipy) (1.19.4)\n"
          ],
          "name": "stdout"
        }
      ]
    },
    {
      "cell_type": "code",
      "metadata": {
        "colab": {
          "base_uri": "https://localhost:8080/"
        },
        "id": "NGDL5osna8_w",
        "outputId": "8f2dd59c-27ce-4746-fcee-812063df9cff"
      },
      "source": [
        "from scipy.stats import t\r\n",
        "\r\n",
        "critical_value = t.pdf((1-significance)/2,df)\r\n",
        "print('T : {}, Critical Value : {}'.format(np.abs(T),critical_value))\r\n",
        "if np.abs(T) > critical_value:\r\n",
        "#   print('Null hypothesis is rejected')\r\n",
        "    print('YES')\r\n",
        "else:\r\n",
        "#   print('Null hypothesis is not rejected')\r\n",
        "    print('NO')\r\n",
        "  "
      ],
      "execution_count": 75,
      "outputs": [
        {
          "output_type": "stream",
          "text": [
            "T : 16.930142459567165, Critical Value : 0.3555330885897884\n",
            "YES\n"
          ],
          "name": "stdout"
        }
      ]
    },
    {
      "cell_type": "code",
      "metadata": {
        "colab": {
          "base_uri": "https://localhost:8080/",
          "height": 360
        },
        "id": "NCeV7fC7eDF7",
        "outputId": "761eb04f-283c-4fbd-d3be-6243e979a549"
      },
      "source": [
        "sns.distplot(sample1[1].values)\r\n",
        "\r\n",
        "sns.distplot(sample2[1].values)\r\n",
        "plt.legend(['first sample','second sample'])\r\n",
        "plt.show()"
      ],
      "execution_count": 76,
      "outputs": [
        {
          "output_type": "stream",
          "text": [
            "/usr/local/lib/python3.6/dist-packages/seaborn/distributions.py:2551: FutureWarning: `distplot` is a deprecated function and will be removed in a future version. Please adapt your code to use either `displot` (a figure-level function with similar flexibility) or `histplot` (an axes-level function for histograms).\n",
            "  warnings.warn(msg, FutureWarning)\n",
            "/usr/local/lib/python3.6/dist-packages/seaborn/distributions.py:2551: FutureWarning: `distplot` is a deprecated function and will be removed in a future version. Please adapt your code to use either `displot` (a figure-level function with similar flexibility) or `histplot` (an axes-level function for histograms).\n",
            "  warnings.warn(msg, FutureWarning)\n"
          ],
          "name": "stderr"
        },
        {
          "output_type": "display_data",
          "data": {
            "image/png": "[encoded data removed]",
            "text/plain": [
              "<Figure size 432x288 with 1 Axes>"
            ]
          },
          "metadata": {
            "tags": [],
            "needs_background": "light"
          }
        }
      ]
    }
  ]
}