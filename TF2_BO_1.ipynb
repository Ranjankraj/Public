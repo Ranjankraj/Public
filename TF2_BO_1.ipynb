{
  "nbformat": 4,
  "nbformat_minor": 0,
  "metadata": {
    "colab": {
      "name": "TF2-BO_1.ipynb",
      "provenance": [],
      "authorship_tag": "ABX9TyM8DNriU8PkgsxFX0lTW273",
      "include_colab_link": true
    },
    "kernelspec": {
      "name": "python3",
      "display_name": "Python 3"
    }
  },
  "cells": [
    {
      "cell_type": "markdown",
      "metadata": {
        "id": "view-in-github",
        "colab_type": "text"
      },
      "source": [
        "<a href=\"https://colab.research.google.com/github/Ranjankraj/Shala/blob/main/TF2_BO_1.ipynb\" target=\"_parent\"><img src=\"https://colab.research.google.com/assets/colab-badge.svg\" alt=\"Open In Colab\"/></a>"
      ]
    },
    {
      "cell_type": "code",
      "metadata": {
        "colab": {
          "base_uri": "https://localhost:8080/"
        },
        "id": "XMTLnUxq1nQG",
        "outputId": "024a24b4-3d5a-4a72-fd7c-c80976ca9af1"
      },
      "source": [
        "import tensorflow as tf\r\n",
        "\r\n",
        "print(tf.__version__)\r\n",
        "\r\n",
        "# gpu = tf.config.experimental.list_physical_devices('GPU')\r\n",
        "# tf.config.experimental.set_memory_growth(gpu[0], True)"
      ],
      "execution_count": 3,
      "outputs": [
        {
          "output_type": "stream",
          "text": [
            "2.4.0\n"
          ],
          "name": "stdout"
        }
      ]
    },
    {
      "cell_type": "code",
      "metadata": {
        "colab": {
          "base_uri": "https://localhost:8080/"
        },
        "id": "BvgK-ljT2YAr",
        "outputId": "7e299612-d0dc-40c1-8787-3acb4c0c8ec9"
      },
      "source": [
        "hello = tf.constant(\"Hello World\")\r\n",
        "\r\n",
        "print(\"Tensor Object:\", hello)\r\n",
        "print(\"Numpy:\", hello.numpy())"
      ],
      "execution_count": 4,
      "outputs": [
        {
          "output_type": "stream",
          "text": [
            "Tensor Object: tf.Tensor(b'Hello World', shape=(), dtype=string)\n",
            "Numpy: b'Hello World'\n"
          ],
          "name": "stdout"
        }
      ]
    },
    {
      "cell_type": "code",
      "metadata": {
        "colab": {
          "base_uri": "https://localhost:8080/"
        },
        "id": "Km0XkpXK2tPW",
        "outputId": "bfc64f20-ad44-4e36-9185-391537409ad7"
      },
      "source": [
        "a = tf.constant(2)\r\n",
        "b = tf.constant(3)\r\n",
        "c = tf.constant(4)\r\n",
        "\r\n",
        "print(\"Tensor Object:\", a, b, c)\r\n",
        "print('Numpy:', a.numpy(), b.numpy(), c.numpy())"
      ],
      "execution_count": 6,
      "outputs": [
        {
          "output_type": "stream",
          "text": [
            "Tensor Object: tf.Tensor(2, shape=(), dtype=int32) tf.Tensor(3, shape=(), dtype=int32) tf.Tensor(4, shape=(), dtype=int32)\n",
            "Numpy: 2 3 4\n"
          ],
          "name": "stdout"
        }
      ]
    },
    {
      "cell_type": "code",
      "metadata": {
        "colab": {
          "base_uri": "https://localhost:8080/"
        },
        "id": "benr42RN3RRe",
        "outputId": "ac3e9fa3-6164-449e-95ab-0a027a5d26e0"
      },
      "source": [
        "add = tf.add(a,b)\r\n",
        "print('add=', add)\r\n",
        "\r\n",
        "sub = tf.subtract(a,b)\r\n",
        "print('subtract=', sub)\r\n",
        "\r\n",
        "mul = tf.multiply(a,b)\r\n",
        "print('multiply=', mul)\r\n",
        "\r\n",
        "div = tf.divide(a,b)\r\n",
        "print('div=', div)"
      ],
      "execution_count": 7,
      "outputs": [
        {
          "output_type": "stream",
          "text": [
            "add= tf.Tensor(5, shape=(), dtype=int32)\n",
            "subtract= tf.Tensor(-1, shape=(), dtype=int32)\n",
            "multiply= tf.Tensor(6, shape=(), dtype=int32)\n",
            "div= tf.Tensor(0.6666666666666666, shape=(), dtype=float64)\n"
          ],
          "name": "stdout"
        }
      ]
    },
    {
      "cell_type": "code",
      "metadata": {
        "colab": {
          "base_uri": "https://localhost:8080/"
        },
        "id": "XvpT8Gzl4HJp",
        "outputId": "635f66ed-339d-4588-b66e-9a450abdb4d2"
      },
      "source": [
        "add = a + b\r\n",
        "print(\"a + b =\", add)\r\n",
        "\r\n",
        "sub = a - b\r\n",
        "print(\"a - b =\", sub)\r\n",
        "\r\n",
        "mul = a * b\r\n",
        "print(\"a * b =\", mul)\r\n",
        "\r\n",
        "div = a / b\r\n",
        "print(\"a / b =\", div)"
      ],
      "execution_count": 8,
      "outputs": [
        {
          "output_type": "stream",
          "text": [
            "a + b = tf.Tensor(5, shape=(), dtype=int32)\n",
            "a - b = tf.Tensor(-1, shape=(), dtype=int32)\n",
            "a * b = tf.Tensor(6, shape=(), dtype=int32)\n",
            "a / b = tf.Tensor(0.6666666666666666, shape=(), dtype=float64)\n"
          ],
          "name": "stdout"
        }
      ]
    },
    {
      "cell_type": "code",
      "metadata": {
        "colab": {
          "base_uri": "https://localhost:8080/"
        },
        "id": "JNkXAOhB4OiC",
        "outputId": "f9cb2261-bb93-4805-c1e8-ee07d8826f8d"
      },
      "source": [
        "print('Mean=', tf.reduce_mean([a, b, c]))\r\n",
        "\r\n",
        "print('Sum=', tf.reduce_sum([a, b, c]))"
      ],
      "execution_count": 9,
      "outputs": [
        {
          "output_type": "stream",
          "text": [
            "Mean= tf.Tensor(3, shape=(), dtype=int32)\n",
            "Sum= tf.Tensor(9, shape=(), dtype=int32)\n"
          ],
          "name": "stdout"
        }
      ]
    },
    {
      "cell_type": "code",
      "metadata": {
        "colab": {
          "base_uri": "https://localhost:8080/"
        },
        "id": "k7C3ZRsR49GI",
        "outputId": "e0f5937f-ae47-41f5-f82f-24dcbb7c5eee"
      },
      "source": [
        "mat1 = tf.constant([\r\n",
        "    [1., 2.],\r\n",
        "    [3., 4.]\r\n",
        "])\r\n",
        "\r\n",
        "mat2 = tf.constant([\r\n",
        "    [5., 6.],\r\n",
        "    [7., 8.]\r\n",
        "])\r\n",
        "\r\n",
        "print('Matrix multiplacation=', tf.matmul(mat1, mat2))"
      ],
      "execution_count": 10,
      "outputs": [
        {
          "output_type": "stream",
          "text": [
            "Matrix multiplacation= tf.Tensor(\n",
            "[[19. 22.]\n",
            " [43. 50.]], shape=(2, 2), dtype=float32)\n"
          ],
          "name": "stdout"
        }
      ]
    },
    {
      "cell_type": "code",
      "metadata": {
        "colab": {
          "base_uri": "https://localhost:8080/"
        },
        "id": "v4INKhi858LP",
        "outputId": "c52744cc-7df7-41e7-f704-fa96bb283509"
      },
      "source": [
        "const = tf.constant(10.)    #Broadcasting technique in tensor\r\n",
        "\r\n",
        "print('mat1 * mat2 + const= ', tf.add(tf.matmul(mat1, mat2), const))"
      ],
      "execution_count": 12,
      "outputs": [
        {
          "output_type": "stream",
          "text": [
            "mat1 * mat2 + const=  tf.Tensor(\n",
            "[[29. 32.]\n",
            " [53. 60.]], shape=(2, 2), dtype=float32)\n"
          ],
          "name": "stdout"
        }
      ]
    }
  ]
}