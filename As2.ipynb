{
  "nbformat": 4,
  "nbformat_minor": 0,
  "metadata": {
    "colab": {
      "name": "Untitled0.ipynb",
      "provenance": [],
      "collapsed_sections": [],
      "authorship_tag": "ABX9TyP/iY1aJhTq7U98cOiGoN3r",
      "include_colab_link": true
    },
    "kernelspec": {
      "name": "python3",
      "display_name": "Python 3"
    }
  },
  "cells": [
    {
      "cell_type": "markdown",
      "metadata": {
        "id": "view-in-github",
        "colab_type": "text"
      },
      "source": [
        "<a href=\"https://colab.research.google.com/github/Ranjankraj/Shala/blob/main/As2.ipynb\" target=\"_parent\"><img src=\"https://colab.research.google.com/assets/colab-badge.svg\" alt=\"Open In Colab\"/></a>"
      ]
    },
    {
      "cell_type": "code",
      "metadata": {
        "id": "m_xhiIzJG4qY"
      },
      "source": [
        "import numpy as np\r\n",
        "import pandas as pd\r\n",
        "from matplotlib import pyplot as plt\r\n",
        "import seaborn as sns"
      ],
      "execution_count": 76,
      "outputs": []
    },
    {
      "cell_type": "code",
      "metadata": {
        "colab": {
          "base_uri": "https://localhost:8080/"
        },
        "id": "KPCDnW53L76o",
        "outputId": "f4e1b831-51b4-431e-97f0-8dff5e820799"
      },
      "source": [
        "import requests\r\n",
        "import io\r\n",
        "    \r\n",
        "# Downloading the csv file from your GitHub account\r\n",
        "\r\n",
        "url_1 = \"https://raw.githubusercontent.com/shala2020/shala2020.github.io/master/Lecture_Materials/Assignments/DataScience/L2/train.csv\"\r\n",
        "download_1 = requests.get(url_1).content\r\n",
        "\r\n",
        "url_2 = \"https://raw.githubusercontent.com/shala2020/shala2020.github.io/master/Lecture_Materials/Assignments/DataScience/L2/moviesData.csv\"\r\n",
        "download_2 = requests.get(url_2).content\r\n",
        "\r\n",
        "# Reading the downloaded content and turning it into a pandas dataframe\r\n",
        "\r\n",
        "df = pd.read_csv(io.StringIO(download_1.decode('utf-8')))\r\n",
        "\r\n",
        "movies = pd.read_csv(io.StringIO(download_2.decode('utf-8')))\r\n",
        "\r\n",
        "# Printing out the first 5 rows of the dataframe\r\n",
        "\r\n",
        "print (df.head(10))"
      ],
      "execution_count": 6,
      "outputs": [
        {
          "output_type": "stream",
          "text": [
            "   Age  Attrition  ... YearsWithCurrManager  ID\n",
            "0   41          1  ...                    5   0\n",
            "1   49          0  ...                    7   1\n",
            "2   37          1  ...                    0   2\n",
            "3   33          0  ...                    0   3\n",
            "4   27          0  ...                    2   4\n",
            "5   32          0  ...                    6   5\n",
            "6   59          0  ...                    0   6\n",
            "7   30          0  ...                    0   7\n",
            "8   38          0  ...                    8   8\n",
            "9   36          0  ...                    7   9\n",
            "\n",
            "[10 rows x 34 columns]\n",
            "(600, 31)\n"
          ],
          "name": "stdout"
        }
      ]
    },
    {
      "cell_type": "code",
      "metadata": {
        "colab": {
          "base_uri": "https://localhost:8080/",
          "height": 556
        },
        "id": "eIE2GfuTNDgH",
        "outputId": "722a652d-5544-4c1e-88d8-b6c3654df25d"
      },
      "source": [
        "pd.set_option('display.max_columns', None)\r\n",
        "df.head(10)"
      ],
      "execution_count": 8,
      "outputs": [
        {
          "output_type": "execute_result",
          "data": {
            "text/html": [
              "<div>\n",
              "<style scoped>\n",
              "    .dataframe tbody tr th:only-of-type {\n",
              "        vertical-align: middle;\n",
              "    }\n",
              "\n",
              "    .dataframe tbody tr th {\n",
              "        vertical-align: top;\n",
              "    }\n",
              "\n",
              "    .dataframe thead th {\n",
              "        text-align: right;\n",
              "    }\n",
              "</style>\n",
              "<table border=\"1\" class=\"dataframe\">\n",
              "  <thead>\n",
              "    <tr style=\"text-align: right;\">\n",
              "      <th></th>\n",
              "      <th>Age</th>\n",
              "      <th>Attrition</th>\n",
              "      <th>BusinessTravel</th>\n",
              "      <th>DailyRate</th>\n",
              "      <th>Department</th>\n",
              "      <th>DistanceFromHome</th>\n",
              "      <th>Education</th>\n",
              "      <th>EducationField</th>\n",
              "      <th>EmployeeCount</th>\n",
              "      <th>EmployeeNumber</th>\n",
              "      <th>EnvironmentSatisfaction</th>\n",
              "      <th>Gender</th>\n",
              "      <th>HourlyRate</th>\n",
              "      <th>JobInvolvement</th>\n",
              "      <th>JobLevel</th>\n",
              "      <th>JobRole</th>\n",
              "      <th>JobSatisfaction</th>\n",
              "      <th>MaritalStatus</th>\n",
              "      <th>MonthlyIncome</th>\n",
              "      <th>MonthlyRate</th>\n",
              "      <th>NumCompaniesWorked</th>\n",
              "      <th>OverTime</th>\n",
              "      <th>PercentSalaryHike</th>\n",
              "      <th>PerformanceRating</th>\n",
              "      <th>RelationshipSatisfaction</th>\n",
              "      <th>StockOptionLevel</th>\n",
              "      <th>TotalWorkingYears</th>\n",
              "      <th>TrainingTimesLastYear</th>\n",
              "      <th>WorkLifeBalance</th>\n",
              "      <th>YearsAtCompany</th>\n",
              "      <th>YearsInCurrentRole</th>\n",
              "      <th>YearsSinceLastPromotion</th>\n",
              "      <th>YearsWithCurrManager</th>\n",
              "      <th>ID</th>\n",
              "    </tr>\n",
              "  </thead>\n",
              "  <tbody>\n",
              "    <tr>\n",
              "      <th>0</th>\n",
              "      <td>41</td>\n",
              "      <td>1</td>\n",
              "      <td>Travel_Rarely</td>\n",
              "      <td>1102</td>\n",
              "      <td>Sales</td>\n",
              "      <td>1</td>\n",
              "      <td>2</td>\n",
              "      <td>Life Sciences</td>\n",
              "      <td>1</td>\n",
              "      <td>1</td>\n",
              "      <td>2</td>\n",
              "      <td>Female</td>\n",
              "      <td>94</td>\n",
              "      <td>3</td>\n",
              "      <td>2</td>\n",
              "      <td>Sales Executive</td>\n",
              "      <td>4</td>\n",
              "      <td>Single</td>\n",
              "      <td>5993</td>\n",
              "      <td>19479</td>\n",
              "      <td>8</td>\n",
              "      <td>Yes</td>\n",
              "      <td>11</td>\n",
              "      <td>3</td>\n",
              "      <td>1</td>\n",
              "      <td>0</td>\n",
              "      <td>8</td>\n",
              "      <td>0</td>\n",
              "      <td>1</td>\n",
              "      <td>6</td>\n",
              "      <td>4</td>\n",
              "      <td>0</td>\n",
              "      <td>5</td>\n",
              "      <td>0</td>\n",
              "    </tr>\n",
              "    <tr>\n",
              "      <th>1</th>\n",
              "      <td>49</td>\n",
              "      <td>0</td>\n",
              "      <td>Travel_Frequently</td>\n",
              "      <td>279</td>\n",
              "      <td>Research &amp; Development</td>\n",
              "      <td>8</td>\n",
              "      <td>1</td>\n",
              "      <td>Life Sciences</td>\n",
              "      <td>1</td>\n",
              "      <td>2</td>\n",
              "      <td>3</td>\n",
              "      <td>Male</td>\n",
              "      <td>61</td>\n",
              "      <td>2</td>\n",
              "      <td>2</td>\n",
              "      <td>Research Scientist</td>\n",
              "      <td>2</td>\n",
              "      <td>Married</td>\n",
              "      <td>5130</td>\n",
              "      <td>24907</td>\n",
              "      <td>1</td>\n",
              "      <td>No</td>\n",
              "      <td>23</td>\n",
              "      <td>4</td>\n",
              "      <td>4</td>\n",
              "      <td>1</td>\n",
              "      <td>10</td>\n",
              "      <td>3</td>\n",
              "      <td>3</td>\n",
              "      <td>10</td>\n",
              "      <td>7</td>\n",
              "      <td>1</td>\n",
              "      <td>7</td>\n",
              "      <td>1</td>\n",
              "    </tr>\n",
              "    <tr>\n",
              "      <th>2</th>\n",
              "      <td>37</td>\n",
              "      <td>1</td>\n",
              "      <td>Travel_Rarely</td>\n",
              "      <td>1373</td>\n",
              "      <td>Research &amp; Development</td>\n",
              "      <td>2</td>\n",
              "      <td>2</td>\n",
              "      <td>Other</td>\n",
              "      <td>1</td>\n",
              "      <td>4</td>\n",
              "      <td>4</td>\n",
              "      <td>Male</td>\n",
              "      <td>92</td>\n",
              "      <td>2</td>\n",
              "      <td>1</td>\n",
              "      <td>Laboratory Technician</td>\n",
              "      <td>3</td>\n",
              "      <td>Single</td>\n",
              "      <td>2090</td>\n",
              "      <td>2396</td>\n",
              "      <td>6</td>\n",
              "      <td>Yes</td>\n",
              "      <td>15</td>\n",
              "      <td>3</td>\n",
              "      <td>2</td>\n",
              "      <td>0</td>\n",
              "      <td>7</td>\n",
              "      <td>3</td>\n",
              "      <td>3</td>\n",
              "      <td>0</td>\n",
              "      <td>0</td>\n",
              "      <td>0</td>\n",
              "      <td>0</td>\n",
              "      <td>2</td>\n",
              "    </tr>\n",
              "    <tr>\n",
              "      <th>3</th>\n",
              "      <td>33</td>\n",
              "      <td>0</td>\n",
              "      <td>Travel_Frequently</td>\n",
              "      <td>1392</td>\n",
              "      <td>Research &amp; Development</td>\n",
              "      <td>3</td>\n",
              "      <td>4</td>\n",
              "      <td>Life Sciences</td>\n",
              "      <td>1</td>\n",
              "      <td>5</td>\n",
              "      <td>4</td>\n",
              "      <td>Female</td>\n",
              "      <td>56</td>\n",
              "      <td>3</td>\n",
              "      <td>1</td>\n",
              "      <td>Research Scientist</td>\n",
              "      <td>3</td>\n",
              "      <td>Married</td>\n",
              "      <td>2909</td>\n",
              "      <td>23159</td>\n",
              "      <td>1</td>\n",
              "      <td>Yes</td>\n",
              "      <td>11</td>\n",
              "      <td>3</td>\n",
              "      <td>3</td>\n",
              "      <td>0</td>\n",
              "      <td>8</td>\n",
              "      <td>3</td>\n",
              "      <td>3</td>\n",
              "      <td>8</td>\n",
              "      <td>7</td>\n",
              "      <td>3</td>\n",
              "      <td>0</td>\n",
              "      <td>3</td>\n",
              "    </tr>\n",
              "    <tr>\n",
              "      <th>4</th>\n",
              "      <td>27</td>\n",
              "      <td>0</td>\n",
              "      <td>Travel_Rarely</td>\n",
              "      <td>591</td>\n",
              "      <td>Research &amp; Development</td>\n",
              "      <td>2</td>\n",
              "      <td>1</td>\n",
              "      <td>Medical</td>\n",
              "      <td>1</td>\n",
              "      <td>7</td>\n",
              "      <td>1</td>\n",
              "      <td>Male</td>\n",
              "      <td>40</td>\n",
              "      <td>3</td>\n",
              "      <td>1</td>\n",
              "      <td>Laboratory Technician</td>\n",
              "      <td>2</td>\n",
              "      <td>Married</td>\n",
              "      <td>3468</td>\n",
              "      <td>16632</td>\n",
              "      <td>9</td>\n",
              "      <td>No</td>\n",
              "      <td>12</td>\n",
              "      <td>3</td>\n",
              "      <td>4</td>\n",
              "      <td>1</td>\n",
              "      <td>6</td>\n",
              "      <td>3</td>\n",
              "      <td>3</td>\n",
              "      <td>2</td>\n",
              "      <td>2</td>\n",
              "      <td>2</td>\n",
              "      <td>2</td>\n",
              "      <td>4</td>\n",
              "    </tr>\n",
              "    <tr>\n",
              "      <th>5</th>\n",
              "      <td>32</td>\n",
              "      <td>0</td>\n",
              "      <td>Travel_Frequently</td>\n",
              "      <td>1005</td>\n",
              "      <td>Research &amp; Development</td>\n",
              "      <td>2</td>\n",
              "      <td>2</td>\n",
              "      <td>Life Sciences</td>\n",
              "      <td>1</td>\n",
              "      <td>8</td>\n",
              "      <td>4</td>\n",
              "      <td>Male</td>\n",
              "      <td>79</td>\n",
              "      <td>3</td>\n",
              "      <td>1</td>\n",
              "      <td>Laboratory Technician</td>\n",
              "      <td>4</td>\n",
              "      <td>Single</td>\n",
              "      <td>3068</td>\n",
              "      <td>11864</td>\n",
              "      <td>0</td>\n",
              "      <td>No</td>\n",
              "      <td>13</td>\n",
              "      <td>3</td>\n",
              "      <td>3</td>\n",
              "      <td>0</td>\n",
              "      <td>8</td>\n",
              "      <td>2</td>\n",
              "      <td>2</td>\n",
              "      <td>7</td>\n",
              "      <td>7</td>\n",
              "      <td>3</td>\n",
              "      <td>6</td>\n",
              "      <td>5</td>\n",
              "    </tr>\n",
              "    <tr>\n",
              "      <th>6</th>\n",
              "      <td>59</td>\n",
              "      <td>0</td>\n",
              "      <td>Travel_Rarely</td>\n",
              "      <td>1324</td>\n",
              "      <td>Research &amp; Development</td>\n",
              "      <td>3</td>\n",
              "      <td>3</td>\n",
              "      <td>Medical</td>\n",
              "      <td>1</td>\n",
              "      <td>10</td>\n",
              "      <td>3</td>\n",
              "      <td>Female</td>\n",
              "      <td>81</td>\n",
              "      <td>4</td>\n",
              "      <td>1</td>\n",
              "      <td>Laboratory Technician</td>\n",
              "      <td>1</td>\n",
              "      <td>Married</td>\n",
              "      <td>2670</td>\n",
              "      <td>9964</td>\n",
              "      <td>4</td>\n",
              "      <td>Yes</td>\n",
              "      <td>20</td>\n",
              "      <td>4</td>\n",
              "      <td>1</td>\n",
              "      <td>3</td>\n",
              "      <td>12</td>\n",
              "      <td>3</td>\n",
              "      <td>2</td>\n",
              "      <td>1</td>\n",
              "      <td>0</td>\n",
              "      <td>0</td>\n",
              "      <td>0</td>\n",
              "      <td>6</td>\n",
              "    </tr>\n",
              "    <tr>\n",
              "      <th>7</th>\n",
              "      <td>30</td>\n",
              "      <td>0</td>\n",
              "      <td>Travel_Rarely</td>\n",
              "      <td>1358</td>\n",
              "      <td>Research &amp; Development</td>\n",
              "      <td>24</td>\n",
              "      <td>1</td>\n",
              "      <td>Life Sciences</td>\n",
              "      <td>1</td>\n",
              "      <td>11</td>\n",
              "      <td>4</td>\n",
              "      <td>Male</td>\n",
              "      <td>67</td>\n",
              "      <td>3</td>\n",
              "      <td>1</td>\n",
              "      <td>Laboratory Technician</td>\n",
              "      <td>3</td>\n",
              "      <td>Divorced</td>\n",
              "      <td>2693</td>\n",
              "      <td>13335</td>\n",
              "      <td>1</td>\n",
              "      <td>No</td>\n",
              "      <td>22</td>\n",
              "      <td>4</td>\n",
              "      <td>2</td>\n",
              "      <td>1</td>\n",
              "      <td>1</td>\n",
              "      <td>2</td>\n",
              "      <td>3</td>\n",
              "      <td>1</td>\n",
              "      <td>0</td>\n",
              "      <td>0</td>\n",
              "      <td>0</td>\n",
              "      <td>7</td>\n",
              "    </tr>\n",
              "    <tr>\n",
              "      <th>8</th>\n",
              "      <td>38</td>\n",
              "      <td>0</td>\n",
              "      <td>Travel_Frequently</td>\n",
              "      <td>216</td>\n",
              "      <td>Research &amp; Development</td>\n",
              "      <td>23</td>\n",
              "      <td>3</td>\n",
              "      <td>Life Sciences</td>\n",
              "      <td>1</td>\n",
              "      <td>12</td>\n",
              "      <td>4</td>\n",
              "      <td>Male</td>\n",
              "      <td>44</td>\n",
              "      <td>2</td>\n",
              "      <td>3</td>\n",
              "      <td>Manufacturing Director</td>\n",
              "      <td>3</td>\n",
              "      <td>Single</td>\n",
              "      <td>9526</td>\n",
              "      <td>8787</td>\n",
              "      <td>0</td>\n",
              "      <td>No</td>\n",
              "      <td>21</td>\n",
              "      <td>4</td>\n",
              "      <td>2</td>\n",
              "      <td>0</td>\n",
              "      <td>10</td>\n",
              "      <td>2</td>\n",
              "      <td>3</td>\n",
              "      <td>9</td>\n",
              "      <td>7</td>\n",
              "      <td>1</td>\n",
              "      <td>8</td>\n",
              "      <td>8</td>\n",
              "    </tr>\n",
              "    <tr>\n",
              "      <th>9</th>\n",
              "      <td>36</td>\n",
              "      <td>0</td>\n",
              "      <td>Travel_Rarely</td>\n",
              "      <td>1299</td>\n",
              "      <td>Research &amp; Development</td>\n",
              "      <td>27</td>\n",
              "      <td>3</td>\n",
              "      <td>Medical</td>\n",
              "      <td>1</td>\n",
              "      <td>13</td>\n",
              "      <td>3</td>\n",
              "      <td>Male</td>\n",
              "      <td>94</td>\n",
              "      <td>3</td>\n",
              "      <td>2</td>\n",
              "      <td>Healthcare Representative</td>\n",
              "      <td>3</td>\n",
              "      <td>Married</td>\n",
              "      <td>5237</td>\n",
              "      <td>16577</td>\n",
              "      <td>6</td>\n",
              "      <td>No</td>\n",
              "      <td>13</td>\n",
              "      <td>3</td>\n",
              "      <td>2</td>\n",
              "      <td>2</td>\n",
              "      <td>17</td>\n",
              "      <td>3</td>\n",
              "      <td>2</td>\n",
              "      <td>7</td>\n",
              "      <td>7</td>\n",
              "      <td>7</td>\n",
              "      <td>7</td>\n",
              "      <td>9</td>\n",
              "    </tr>\n",
              "  </tbody>\n",
              "</table>\n",
              "</div>"
            ],
            "text/plain": [
              "   Age  Attrition     BusinessTravel  DailyRate              Department  \\\n",
              "0   41          1      Travel_Rarely       1102                   Sales   \n",
              "1   49          0  Travel_Frequently        279  Research & Development   \n",
              "2   37          1      Travel_Rarely       1373  Research & Development   \n",
              "3   33          0  Travel_Frequently       1392  Research & Development   \n",
              "4   27          0      Travel_Rarely        591  Research & Development   \n",
              "5   32          0  Travel_Frequently       1005  Research & Development   \n",
              "6   59          0      Travel_Rarely       1324  Research & Development   \n",
              "7   30          0      Travel_Rarely       1358  Research & Development   \n",
              "8   38          0  Travel_Frequently        216  Research & Development   \n",
              "9   36          0      Travel_Rarely       1299  Research & Development   \n",
              "\n",
              "   DistanceFromHome  Education EducationField  EmployeeCount  EmployeeNumber  \\\n",
              "0                 1          2  Life Sciences              1               1   \n",
              "1                 8          1  Life Sciences              1               2   \n",
              "2                 2          2          Other              1               4   \n",
              "3                 3          4  Life Sciences              1               5   \n",
              "4                 2          1        Medical              1               7   \n",
              "5                 2          2  Life Sciences              1               8   \n",
              "6                 3          3        Medical              1              10   \n",
              "7                24          1  Life Sciences              1              11   \n",
              "8                23          3  Life Sciences              1              12   \n",
              "9                27          3        Medical              1              13   \n",
              "\n",
              "   EnvironmentSatisfaction  Gender  HourlyRate  JobInvolvement  JobLevel  \\\n",
              "0                        2  Female          94               3         2   \n",
              "1                        3    Male          61               2         2   \n",
              "2                        4    Male          92               2         1   \n",
              "3                        4  Female          56               3         1   \n",
              "4                        1    Male          40               3         1   \n",
              "5                        4    Male          79               3         1   \n",
              "6                        3  Female          81               4         1   \n",
              "7                        4    Male          67               3         1   \n",
              "8                        4    Male          44               2         3   \n",
              "9                        3    Male          94               3         2   \n",
              "\n",
              "                     JobRole  JobSatisfaction MaritalStatus  MonthlyIncome  \\\n",
              "0            Sales Executive                4        Single           5993   \n",
              "1         Research Scientist                2       Married           5130   \n",
              "2      Laboratory Technician                3        Single           2090   \n",
              "3         Research Scientist                3       Married           2909   \n",
              "4      Laboratory Technician                2       Married           3468   \n",
              "5      Laboratory Technician                4        Single           3068   \n",
              "6      Laboratory Technician                1       Married           2670   \n",
              "7      Laboratory Technician                3      Divorced           2693   \n",
              "8     Manufacturing Director                3        Single           9526   \n",
              "9  Healthcare Representative                3       Married           5237   \n",
              "\n",
              "   MonthlyRate  NumCompaniesWorked OverTime  PercentSalaryHike  \\\n",
              "0        19479                   8      Yes                 11   \n",
              "1        24907                   1       No                 23   \n",
              "2         2396                   6      Yes                 15   \n",
              "3        23159                   1      Yes                 11   \n",
              "4        16632                   9       No                 12   \n",
              "5        11864                   0       No                 13   \n",
              "6         9964                   4      Yes                 20   \n",
              "7        13335                   1       No                 22   \n",
              "8         8787                   0       No                 21   \n",
              "9        16577                   6       No                 13   \n",
              "\n",
              "   PerformanceRating  RelationshipSatisfaction  StockOptionLevel  \\\n",
              "0                  3                         1                 0   \n",
              "1                  4                         4                 1   \n",
              "2                  3                         2                 0   \n",
              "3                  3                         3                 0   \n",
              "4                  3                         4                 1   \n",
              "5                  3                         3                 0   \n",
              "6                  4                         1                 3   \n",
              "7                  4                         2                 1   \n",
              "8                  4                         2                 0   \n",
              "9                  3                         2                 2   \n",
              "\n",
              "   TotalWorkingYears  TrainingTimesLastYear  WorkLifeBalance  YearsAtCompany  \\\n",
              "0                  8                      0                1               6   \n",
              "1                 10                      3                3              10   \n",
              "2                  7                      3                3               0   \n",
              "3                  8                      3                3               8   \n",
              "4                  6                      3                3               2   \n",
              "5                  8                      2                2               7   \n",
              "6                 12                      3                2               1   \n",
              "7                  1                      2                3               1   \n",
              "8                 10                      2                3               9   \n",
              "9                 17                      3                2               7   \n",
              "\n",
              "   YearsInCurrentRole  YearsSinceLastPromotion  YearsWithCurrManager  ID  \n",
              "0                   4                        0                     5   0  \n",
              "1                   7                        1                     7   1  \n",
              "2                   0                        0                     0   2  \n",
              "3                   7                        3                     0   3  \n",
              "4                   2                        2                     2   4  \n",
              "5                   7                        3                     6   5  \n",
              "6                   0                        0                     0   6  \n",
              "7                   0                        0                     0   7  \n",
              "8                   7                        1                     8   8  \n",
              "9                   7                        7                     7   9  "
            ]
          },
          "metadata": {
            "tags": []
          },
          "execution_count": 8
        }
      ]
    },
    {
      "cell_type": "code",
      "metadata": {
        "colab": {
          "base_uri": "https://localhost:8080/"
        },
        "id": "q4-kBVuUNdm7",
        "outputId": "e914f41e-cda0-492c-e0a4-e3c44503cd36"
      },
      "source": [
        "print(df.MonthlyRate.head(5))\r\n",
        "df.MonthlyRate.describe()\r\n",
        "# print(df.MonthlyRate.mean())\r\n",
        "# print(df.MonthlyRate.max())\r\n",
        "# print(df.MonthlyRate.min())\r\n",
        "# print(df.MonthlyRate.argmax())\r\n",
        "# print(df.MonthlyRate.std())\r\n",
        "# print(df.MonthlyRate.var())"
      ],
      "execution_count": 22,
      "outputs": [
        {
          "output_type": "stream",
          "text": [
            "0    19479\n",
            "1    24907\n",
            "2     2396\n",
            "3    23159\n",
            "4    16632\n",
            "Name: MonthlyRate, dtype: int64\n"
          ],
          "name": "stdout"
        },
        {
          "output_type": "execute_result",
          "data": {
            "text/plain": [
              "count     1028.000000\n",
              "mean     14243.531128\n",
              "std       7048.768076\n",
              "min       2094.000000\n",
              "25%       8259.750000\n",
              "50%      14074.500000\n",
              "75%      20342.250000\n",
              "max      26999.000000\n",
              "Name: MonthlyRate, dtype: float64"
            ]
          },
          "metadata": {
            "tags": []
          },
          "execution_count": 22
        }
      ]
    },
    {
      "cell_type": "code",
      "metadata": {
        "colab": {
          "base_uri": "https://localhost:8080/"
        },
        "id": "Xgnp7cC-OCPL",
        "outputId": "04147b0a-8e8c-4675-de0d-1555ab43d241"
      },
      "source": [
        "df.isna().sum()\r\n",
        "print(df.size)\r\n",
        "print(df.shape)\r\n",
        "df.dropna()\r\n",
        "print(df.size)\r\n"
      ],
      "execution_count": 25,
      "outputs": [
        {
          "output_type": "stream",
          "text": [
            "34952\n",
            "(1028, 34)\n",
            "34952\n"
          ],
          "name": "stdout"
        }
      ]
    },
    {
      "cell_type": "code",
      "metadata": {
        "colab": {
          "base_uri": "https://localhost:8080/"
        },
        "id": "u0aKDsLXPFS9",
        "outputId": "d7fb45e0-245d-4e68-d383-b14a203911c7"
      },
      "source": [
        "df['MonthlyRateNew'] = (df.MonthlyRate - df.MonthlyRate.mean())/df.MonthlyRate.std()\r\n",
        "print(df.MonthlyRateNew)"
      ],
      "execution_count": 28,
      "outputs": [
        {
          "output_type": "stream",
          "text": [
            "0       0.742749\n",
            "1       1.512813\n",
            "2      -1.680795\n",
            "3       1.264827\n",
            "4       0.338849\n",
            "          ...   \n",
            "1023   -0.531941\n",
            "1024    1.767609\n",
            "1025    0.137254\n",
            "1026    1.290930\n",
            "1027   -1.494663\n",
            "Name: MonthlyRateNew, Length: 1028, dtype: float64\n"
          ],
          "name": "stdout"
        }
      ]
    },
    {
      "cell_type": "code",
      "metadata": {
        "colab": {
          "base_uri": "https://localhost:8080/"
        },
        "id": "_SDq8iQuPunw",
        "outputId": "cbe2e91f-04d2-4de9-e52a-bd9bef02d803"
      },
      "source": [
        "print(movies.isna().sum())\r\n",
        "# movies = movies.dropna()\r\n",
        "# movies.size\r\n",
        "# movies.shape\r\n",
        "movies.isna().sum()\r\n",
        "movies.runtime.fillna(movies.runtime.mean())\r\n",
        "movies.studio.fillna(movies.studio.mode())\r\n",
        "movies.dvd_rel_year.fillna(movies.dvd_rel_year.mean())\r\n",
        "movies.dvd_rel_month.fillna(movies.dvd_rel_month.mean())\r\n",
        "movies.dvd_rel_day.fillna(movies.dvd_rel_day.mean())\r\n",
        "print(movies.isna().sum())"
      ],
      "execution_count": 46,
      "outputs": [
        {
          "output_type": "stream",
          "text": [
            "Unnamed: 0          0\n",
            "title               0\n",
            "title_type          0\n",
            "genre               0\n",
            "runtime             0\n",
            "mpaa_rating         0\n",
            "studio              0\n",
            "thtr_rel_year       0\n",
            "thtr_rel_month      0\n",
            "thtr_rel_day        0\n",
            "dvd_rel_year        0\n",
            "dvd_rel_month       0\n",
            "dvd_rel_day         0\n",
            "imdb_rating         0\n",
            "imdb_num_votes      0\n",
            "critics_rating      0\n",
            "critics_score       0\n",
            "audience_rating     0\n",
            "audience_score      0\n",
            "best_pic_nom        0\n",
            "best_pic_win        0\n",
            "best_actor_win      0\n",
            "best_actress_win    0\n",
            "best_dir_win        0\n",
            "top200_box          0\n",
            "director            0\n",
            "actor1              0\n",
            "actor2              0\n",
            "actor3              0\n",
            "actor4              0\n",
            "actor5              0\n",
            "dtype: int64\n",
            "Unnamed: 0          0\n",
            "title               0\n",
            "title_type          0\n",
            "genre               0\n",
            "runtime             0\n",
            "mpaa_rating         0\n",
            "studio              0\n",
            "thtr_rel_year       0\n",
            "thtr_rel_month      0\n",
            "thtr_rel_day        0\n",
            "dvd_rel_year        0\n",
            "dvd_rel_month       0\n",
            "dvd_rel_day         0\n",
            "imdb_rating         0\n",
            "imdb_num_votes      0\n",
            "critics_rating      0\n",
            "critics_score       0\n",
            "audience_rating     0\n",
            "audience_score      0\n",
            "best_pic_nom        0\n",
            "best_pic_win        0\n",
            "best_actor_win      0\n",
            "best_actress_win    0\n",
            "best_dir_win        0\n",
            "top200_box          0\n",
            "director            0\n",
            "actor1              0\n",
            "actor2              0\n",
            "actor3              0\n",
            "actor4              0\n",
            "actor5              0\n",
            "dtype: int64\n"
          ],
          "name": "stdout"
        }
      ]
    },
    {
      "cell_type": "code",
      "metadata": {
        "colab": {
          "base_uri": "https://localhost:8080/"
        },
        "id": "0rKCUSnlTKrU",
        "outputId": "e2267e86-65d5-45e7-ffed-8f8d0e5177b3"
      },
      "source": [
        "from sklearn.impute import SimpleImputer\r\n",
        "imp = SimpleImputer(missing_values=np.nan, strategy=\"mean\")\r\n",
        "movies[\"runtime\"] = imp.fit_transform(movies[[\"runtime\"]]).ravel()\r\n",
        "print(movies.isna().sum())"
      ],
      "execution_count": 47,
      "outputs": [
        {
          "output_type": "stream",
          "text": [
            "Unnamed: 0          0\n",
            "title               0\n",
            "title_type          0\n",
            "genre               0\n",
            "runtime             0\n",
            "mpaa_rating         0\n",
            "studio              0\n",
            "thtr_rel_year       0\n",
            "thtr_rel_month      0\n",
            "thtr_rel_day        0\n",
            "dvd_rel_year        0\n",
            "dvd_rel_month       0\n",
            "dvd_rel_day         0\n",
            "imdb_rating         0\n",
            "imdb_num_votes      0\n",
            "critics_rating      0\n",
            "critics_score       0\n",
            "audience_rating     0\n",
            "audience_score      0\n",
            "best_pic_nom        0\n",
            "best_pic_win        0\n",
            "best_actor_win      0\n",
            "best_actress_win    0\n",
            "best_dir_win        0\n",
            "top200_box          0\n",
            "director            0\n",
            "actor1              0\n",
            "actor2              0\n",
            "actor3              0\n",
            "actor4              0\n",
            "actor5              0\n",
            "dtype: int64\n"
          ],
          "name": "stdout"
        }
      ]
    },
    {
      "cell_type": "code",
      "metadata": {
        "colab": {
          "base_uri": "https://localhost:8080/",
          "height": 302
        },
        "id": "hoL9lTA6TjMA",
        "outputId": "ecd32e6b-2c6f-4cec-bad1-deade551a0ec"
      },
      "source": [
        "#plt.hist(df.Age, bins=30)\r\n",
        "plt.scatter(df.Age, df.Attrition, c='red')\r\n",
        "plt.legend()"
      ],
      "execution_count": 60,
      "outputs": [
        {
          "output_type": "stream",
          "text": [
            "No handles with labels found to put in legend.\n"
          ],
          "name": "stderr"
        },
        {
          "output_type": "execute_result",
          "data": {
            "text/plain": [
              "<matplotlib.legend.Legend at 0x7f51fe30d630>"
            ]
          },
          "metadata": {
            "tags": []
          },
          "execution_count": 60
        },
        {
          "output_type": "display_data",
          "data": {
            "image/png": "[encoded data removed]",
            "text/plain": [
              "<Figure size 432x288 with 1 Axes>"
            ]
          },
          "metadata": {
            "tags": [],
            "needs_background": "light"
          }
        }
      ]
    },
    {
      "cell_type": "code",
      "metadata": {
        "colab": {
          "base_uri": "https://localhost:8080/",
          "height": 355
        },
        "id": "n2Q3o6RgVde2",
        "outputId": "534f6fdb-5017-4bfa-d082-e9affedf1368"
      },
      "source": [
        "df.Attrition.value_counts()\r\n",
        "sns.countplot(df.Attrition)\r\n"
      ],
      "execution_count": 66,
      "outputs": [
        {
          "output_type": "stream",
          "text": [
            "/usr/local/lib/python3.6/dist-packages/seaborn/_decorators.py:43: FutureWarning: Pass the following variable as a keyword arg: x. From version 0.12, the only valid positional argument will be `data`, and passing other arguments without an explicit keyword will result in an error or misinterpretation.\n",
            "  FutureWarning\n"
          ],
          "name": "stderr"
        },
        {
          "output_type": "execute_result",
          "data": {
            "text/plain": [
              "<matplotlib.axes._subplots.AxesSubplot at 0x7f51fde656a0>"
            ]
          },
          "metadata": {
            "tags": []
          },
          "execution_count": 66
        },
        {
          "output_type": "display_data",
          "data": {
            "image/png": "[encoded data removed]",
            "text/plain": [
              "<Figure size 432x288 with 1 Axes>"
            ]
          },
          "metadata": {
            "tags": [],
            "needs_background": "light"
          }
        }
      ]
    },
    {
      "cell_type": "code",
      "metadata": {
        "colab": {
          "base_uri": "https://localhost:8080/",
          "height": 376
        },
        "id": "O-ShRvuJYFAE",
        "outputId": "bfb05f02-d94a-4ec1-b028-e90b0b20c12f"
      },
      "source": [
        "# sns.bar(df.Attrition, df.BusinessTravel)\r\n",
        "pd.crosstab( df.BusinessTravel, df.Attrition).plot(kind='bar')\r\n",
        "plt.ylabel('No. of attrition')"
      ],
      "execution_count": 80,
      "outputs": [
        {
          "output_type": "execute_result",
          "data": {
            "text/plain": [
              "Text(0, 0.5, 'No. of attrition')"
            ]
          },
          "metadata": {
            "tags": []
          },
          "execution_count": 80
        },
        {
          "output_type": "display_data",
          "data": {
            "image/png": "[encoded data removed]",
            "text/plain": [
              "<Figure size 432x288 with 1 Axes>"
            ]
          },
          "metadata": {
            "tags": [],
            "needs_background": "light"
          }
        }
      ]
    },
    {
      "cell_type": "code",
      "metadata": {
        "colab": {
          "base_uri": "https://localhost:8080/",
          "height": 342
        },
        "id": "iw4jMUxgaEqw",
        "outputId": "d866d4b5-3213-4a58-f7f8-4ac95d6a9cc1"
      },
      "source": [
        "plt.figure(figsize=(10,10))\r\n",
        "table = pd.crosstab(df.Gender, df.Attrition)\r\n",
        "table.plot(kind='bar', stacked=True)\r\n",
        "plt.ylabel('no. of attrition')"
      ],
      "execution_count": 85,
      "outputs": [
        {
          "output_type": "execute_result",
          "data": {
            "text/plain": [
              "Text(0, 0.5, 'no. of attrition')"
            ]
          },
          "metadata": {
            "tags": []
          },
          "execution_count": 85
        },
        {
          "output_type": "display_data",
          "data": {
            "text/plain": [
              "<Figure size 720x720 with 0 Axes>"
            ]
          },
          "metadata": {
            "tags": []
          }
        },
        {
          "output_type": "display_data",
          "data": {
            "image/png": "[encoded data removed]",
            "text/plain": [
              "<Figure size 432x288 with 1 Axes>"
            ]
          },
          "metadata": {
            "tags": [],
            "needs_background": "light"
          }
        }
      ]
    },
    {
      "cell_type": "code",
      "metadata": {
        "colab": {
          "base_uri": "https://localhost:8080/",
          "height": 471
        },
        "id": "_8nusX0CbQZD",
        "outputId": "f9443510-f2e7-4745-ffad-eff7d4fc3c6b"
      },
      "source": [
        "plt.hist(df.TotalWorkingYears, bins=30)\r\n",
        "plt.hist(df.YearsAtCompany, bins=30)"
      ],
      "execution_count": 87,
      "outputs": [
        {
          "output_type": "execute_result",
          "data": {
            "text/plain": [
              "(array([156.,  84.,  93., 202.,  57.,  62., 121.,  78.,  23.,  24.,  10.,\n",
              "         12.,  16.,  11.,   9.,  31.,   9.,   0.,  10.,   3.,   2.,   2.,\n",
              "          0.,   3.,   6.,   1.,   0.,   2.,   0.,   1.]),\n",
              " array([ 0.        ,  1.33333333,  2.66666667,  4.        ,  5.33333333,\n",
              "         6.66666667,  8.        ,  9.33333333, 10.66666667, 12.        ,\n",
              "        13.33333333, 14.66666667, 16.        , 17.33333333, 18.66666667,\n",
              "        20.        , 21.33333333, 22.66666667, 24.        , 25.33333333,\n",
              "        26.66666667, 28.        , 29.33333333, 30.66666667, 32.        ,\n",
              "        33.33333333, 34.66666667, 36.        , 37.33333333, 38.66666667,\n",
              "        40.        ]),\n",
              " <a list of 30 Patch objects>)"
            ]
          },
          "metadata": {
            "tags": []
          },
          "execution_count": 87
        },
        {
          "output_type": "display_data",
          "data": {
            "image/png": "[encoded data removed]",
            "text/plain": [
              "<Figure size 432x288 with 1 Axes>"
            ]
          },
          "metadata": {
            "tags": [],
            "needs_background": "light"
          }
        }
      ]
    },
    {
      "cell_type": "code",
      "metadata": {
        "colab": {
          "base_uri": "https://localhost:8080/",
          "height": 355
        },
        "id": "mYY2WJv1b7lm",
        "outputId": "054240e3-80a5-435a-9185-0a353fefc403"
      },
      "source": [
        "sns.boxplot('Department', 'MonthlyIncome', data=df)"
      ],
      "execution_count": 92,
      "outputs": [
        {
          "output_type": "stream",
          "text": [
            "/usr/local/lib/python3.6/dist-packages/seaborn/_decorators.py:43: FutureWarning: Pass the following variables as keyword args: x, y. From version 0.12, the only valid positional argument will be `data`, and passing other arguments without an explicit keyword will result in an error or misinterpretation.\n",
            "  FutureWarning\n"
          ],
          "name": "stderr"
        },
        {
          "output_type": "execute_result",
          "data": {
            "text/plain": [
              "<matplotlib.axes._subplots.AxesSubplot at 0x7f51fd6d6dd8>"
            ]
          },
          "metadata": {
            "tags": []
          },
          "execution_count": 92
        },
        {
          "output_type": "display_data",
          "data": {
            "image/png": "[encoded data removed]",
            "text/plain": [
              "<Figure size 432x288 with 1 Axes>"
            ]
          },
          "metadata": {
            "tags": [],
            "needs_background": "light"
          }
        }
      ]
    },
    {
      "cell_type": "code",
      "metadata": {
        "colab": {
          "base_uri": "https://localhost:8080/",
          "height": 585
        },
        "id": "h6PO2xlLckEN",
        "outputId": "ae9c11f6-9b65-4803-eada-876ac18b6bf4"
      },
      "source": [
        "Role_count = df.JobRole.value_counts()\r\n",
        "plt.pie(Role_count, labels=Role_count.index.tolist())"
      ],
      "execution_count": 97,
      "outputs": [
        {
          "output_type": "execute_result",
          "data": {
            "text/plain": [
              "([<matplotlib.patches.Wedge at 0x7f51fdac3e80>,\n",
              "  <matplotlib.patches.Wedge at 0x7f51fdadc9e8>,\n",
              "  <matplotlib.patches.Wedge at 0x7f51fdadcef0>,\n",
              "  <matplotlib.patches.Wedge at 0x7f51fdadc7f0>,\n",
              "  <matplotlib.patches.Wedge at 0x7f51fde54358>,\n",
              "  <matplotlib.patches.Wedge at 0x7f51fde546a0>,\n",
              "  <matplotlib.patches.Wedge at 0x7f51fdaa3048>,\n",
              "  <matplotlib.patches.Wedge at 0x7f51fdaa3c18>,\n",
              "  <matplotlib.patches.Wedge at 0x7f51fdae1978>],\n",
              " [Text(0.8542961340812947, 0.6929488547459725, 'Sales Executive'),\n",
              "  Text(-0.45945693362420414, 0.9994495115535571, 'Research Scientist'),\n",
              "  Text(-1.0981462091349679, -0.06383496974620964, 'Laboratory Technician'),\n",
              "  Text(-0.6503653604759383, -0.8871442373667334, 'Manufacturing Director'),\n",
              "  Text(-0.05712202505487643, -1.0985158507065933, 'Healthcare Representative'),\n",
              "  Text(0.47770465248811617, -0.9908573383647155, 'Manager'),\n",
              "  Text(0.841447151537986, -0.708496077031207, 'Research Director'),\n",
              "  Text(1.03505987357499, -0.37235877606808926, 'Sales Representative'),\n",
              "  Text(1.09597534812125, -0.0940108308148859, 'Human Resources')])"
            ]
          },
          "metadata": {
            "tags": []
          },
          "execution_count": 97
        },
        {
          "output_type": "display_data",
          "data": {
            "image/png": "[encoded data removed]",
            "text/plain": [
              "<Figure size 432x288 with 1 Axes>"
            ]
          },
          "metadata": {
            "tags": []
          }
        }
      ]
    },
    {
      "cell_type": "code",
      "metadata": {
        "id": "ce1KcC4SZC8F"
      },
      "source": [
        ""
      ],
      "execution_count": null,
      "outputs": []
    }
  ]
}