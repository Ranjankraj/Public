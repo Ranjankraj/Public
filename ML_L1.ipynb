{
  "nbformat": 4,
  "nbformat_minor": 0,
  "metadata": {
    "colab": {
      "name": "ML_L1.ipynb",
      "provenance": [],
      "authorship_tag": "ABX9TyO4zNy2Q9ThElGDxcSREo+m",
      "include_colab_link": true
    },
    "kernelspec": {
      "name": "python3",
      "display_name": "Python 3"
    }
  },
  "cells": [
    {
      "cell_type": "markdown",
      "metadata": {
        "id": "view-in-github",
        "colab_type": "text"
      },
      "source": [
        "<a href=\"https://colab.research.google.com/github/Ranjankraj/Shala/blob/main/ML_L1.ipynb\" target=\"_parent\"><img src=\"https://colab.research.google.com/assets/colab-badge.svg\" alt=\"Open In Colab\"/></a>"
      ]
    },
    {
      "cell_type": "code",
      "metadata": {
        "id": "XEZql9gOH0E3"
      },
      "source": [
        "import pandas as pd\r\n",
        "import numpy as np\r\n",
        "import matplotlib.pyplot as plt\r\n",
        "import seaborn as sns"
      ],
      "execution_count": 66,
      "outputs": []
    },
    {
      "cell_type": "code",
      "metadata": {
        "id": "2WeY2w-wITBp"
      },
      "source": [
        "from xgboost import XGBClassifier\r\n",
        "import xgboost as xgb\r\n",
        "from sklearn.ensemble import AdaBoostClassifier, RandomForestRegressor, RandomForestClassifier\r\n",
        "from sklearn.model_selection import train_test_split, StratifiedKFold, GridSearchCV\r\n",
        "from sklearn.metrics import mean_absolute_error, accuracy_score, confusion_matrix, classification_report, roc_auc_score\r\n",
        "from sklearn.preprocessing import StandardScaler\r\n",
        "from sklearn.impute import SimpleImputer"
      ],
      "execution_count": 67,
      "outputs": []
    },
    {
      "cell_type": "code",
      "metadata": {
        "id": "hdgA-i7zJ3w1"
      },
      "source": [
        "# Loading the candy data from an url\r\n",
        "candy_url = \"https://raw.githubusercontent.com/shala2020/shala2020.github.io/master/Lecture_Materials/Google_Colab_Notebooks/MachineLearning/L1/candy-data.csv\"\r\n",
        "candy_data = pd.read_csv(candy_url)"
      ],
      "execution_count": null,
      "outputs": []
    },
    {
      "cell_type": "code",
      "metadata": {
        "colab": {
          "base_uri": "https://localhost:8080/"
        },
        "id": "nx5i62cULoya",
        "outputId": "abbf4b68-4c31-4b40-9895-858336dfde68"
      },
      "source": [
        "candy_data.head()\r\n",
        "\r\n",
        "X = candy_data.drop(['winpercent', 'competitorname'], axis=1)\r\n",
        "y = candy_data['winpercent']\r\n"
      ],
      "execution_count": null,
      "outputs": [
        {
          "output_type": "execute_result",
          "data": {
            "text/plain": [
              "0     66.971725\n",
              "1     67.602936\n",
              "2     32.261086\n",
              "3     46.116505\n",
              "4     52.341465\n",
              "        ...    \n",
              "80    45.466282\n",
              "81    39.011898\n",
              "82    44.375519\n",
              "83    41.904308\n",
              "84    49.524113\n",
              "Name: winpercent, Length: 85, dtype: float64"
            ]
          },
          "metadata": {
            "tags": []
          },
          "execution_count": 8
        }
      ]
    },
    {
      "cell_type": "code",
      "metadata": {
        "colab": {
          "base_uri": "https://localhost:8080/"
        },
        "id": "csnSoREgMS7a",
        "outputId": "8e3235f6-b568-4345-e25f-b174602ed7fd"
      },
      "source": [
        "X_train, X_test, y_train, y_test = train_test_split(X, y, test_size=0.2, random_state=123)\r\n",
        "\r\n",
        "rfr = RandomForestRegressor(n_estimators=25, random_state=1111, max_features=4)\r\n",
        "\r\n",
        "# rfr = RandomForestRegressor()           ->Can also be passed this way\r\n",
        "\r\n",
        "rfr.fit(X_train, y_train)\r\n",
        "\r\n",
        "print('The error of the Training set is {0:.2f}'.format(mean_absolute_error(y_train, rfr.predict(X_train))))\r\n",
        "print('The error of the Test set is {0:.2f}'.format(mean_absolute_error(y_test, rfr.predict(X_test))))"
      ],
      "execution_count": null,
      "outputs": [
        {
          "output_type": "stream",
          "text": [
            "The error of the Training set is 3.99\n",
            "The error of the Test set is 8.57\n"
          ],
          "name": "stdout"
        }
      ]
    },
    {
      "cell_type": "code",
      "metadata": {
        "colab": {
          "base_uri": "https://localhost:8080/"
        },
        "id": "KPBjO11iQfKk",
        "outputId": "ce9fadae-5151-48ab-b467-cf40b26008fe"
      },
      "source": [
        "rfr.get_params()"
      ],
      "execution_count": null,
      "outputs": [
        {
          "output_type": "execute_result",
          "data": {
            "text/plain": [
              "{'bootstrap': True,\n",
              " 'ccp_alpha': 0.0,\n",
              " 'criterion': 'mse',\n",
              " 'max_depth': None,\n",
              " 'max_features': 4,\n",
              " 'max_leaf_nodes': None,\n",
              " 'max_samples': None,\n",
              " 'min_impurity_decrease': 0.0,\n",
              " 'min_impurity_split': None,\n",
              " 'min_samples_leaf': 1,\n",
              " 'min_samples_split': 2,\n",
              " 'min_weight_fraction_leaf': 0.0,\n",
              " 'n_estimators': 25,\n",
              " 'n_jobs': None,\n",
              " 'oob_score': False,\n",
              " 'random_state': 1111,\n",
              " 'verbose': 0,\n",
              " 'warm_start': False}"
            ]
          },
          "metadata": {
            "tags": []
          },
          "execution_count": 13
        }
      ]
    },
    {
      "cell_type": "code",
      "metadata": {
        "colab": {
          "base_uri": "https://localhost:8080/",
          "height": 284
        },
        "id": "5ILWzr66RC7q",
        "outputId": "85c4f89f-efe6-47ed-f343-05b39368b2b5"
      },
      "source": [
        "plt.plot(y_test, 'o')\r\n",
        "plt.plot(rfr.predict(X_test), '+')"
      ],
      "execution_count": null,
      "outputs": [
        {
          "output_type": "execute_result",
          "data": {
            "text/plain": [
              "[<matplotlib.lines.Line2D at 0x7f94f6e6e630>]"
            ]
          },
          "metadata": {
            "tags": []
          },
          "execution_count": 24
        },
        {
          "output_type": "display_data",
          "data": {
            "image/png": "[encoded data removed]",
            "text/plain": [
              "<Figure size 432x288 with 1 Axes>"
            ]
          },
          "metadata": {
            "tags": [],
            "needs_background": "light"
          }
        }
      ]
    },
    {
      "cell_type": "code",
      "metadata": {
        "id": "sMbBWYLPRxyC",
        "colab": {
          "base_uri": "https://localhost:8080/"
        },
        "outputId": "c4e9aa5d-5fa3-4b8d-c97b-76ab4177778f"
      },
      "source": [
        "# Loading the tic_tac data from an url \r\n",
        "tic_tac_url = \"https://raw.githubusercontent.com/shala2020/shala2020.github.io/master/Lecture_Materials/Google_Colab_Notebooks/MachineLearning/L1/tic-tac-toe_csv.csv\"\r\n",
        "tic_tac_data = pd.read_csv(tic_tac_url)\r\n",
        "\r\n",
        "# Printing the dimensions of tic tac data \r\n",
        "tic_tac_data.shape"
      ],
      "execution_count": 68,
      "outputs": [
        {
          "output_type": "execute_result",
          "data": {
            "text/plain": [
              "(958, 10)"
            ]
          },
          "metadata": {
            "tags": []
          },
          "execution_count": 68
        }
      ]
    },
    {
      "cell_type": "code",
      "metadata": {
        "colab": {
          "base_uri": "https://localhost:8080/",
          "height": 206
        },
        "id": "Q-TEal73UuUA",
        "outputId": "c8b5c13a-e44b-47fd-ece9-ce67a68bedd6"
      },
      "source": [
        "tic_tac_data.head()"
      ],
      "execution_count": 47,
      "outputs": [
        {
          "output_type": "execute_result",
          "data": {
            "text/html": [
              "<div>\n",
              "<style scoped>\n",
              "    .dataframe tbody tr th:only-of-type {\n",
              "        vertical-align: middle;\n",
              "    }\n",
              "\n",
              "    .dataframe tbody tr th {\n",
              "        vertical-align: top;\n",
              "    }\n",
              "\n",
              "    .dataframe thead th {\n",
              "        text-align: right;\n",
              "    }\n",
              "</style>\n",
              "<table border=\"1\" class=\"dataframe\">\n",
              "  <thead>\n",
              "    <tr style=\"text-align: right;\">\n",
              "      <th></th>\n",
              "      <th>TL</th>\n",
              "      <th>TM</th>\n",
              "      <th>TR</th>\n",
              "      <th>ML</th>\n",
              "      <th>MM</th>\n",
              "      <th>MR</th>\n",
              "      <th>BL</th>\n",
              "      <th>BM</th>\n",
              "      <th>BR</th>\n",
              "      <th>class</th>\n",
              "    </tr>\n",
              "  </thead>\n",
              "  <tbody>\n",
              "    <tr>\n",
              "      <th>0</th>\n",
              "      <td>x</td>\n",
              "      <td>x</td>\n",
              "      <td>x</td>\n",
              "      <td>x</td>\n",
              "      <td>o</td>\n",
              "      <td>o</td>\n",
              "      <td>x</td>\n",
              "      <td>o</td>\n",
              "      <td>o</td>\n",
              "      <td>True</td>\n",
              "    </tr>\n",
              "    <tr>\n",
              "      <th>1</th>\n",
              "      <td>x</td>\n",
              "      <td>x</td>\n",
              "      <td>x</td>\n",
              "      <td>x</td>\n",
              "      <td>o</td>\n",
              "      <td>o</td>\n",
              "      <td>o</td>\n",
              "      <td>x</td>\n",
              "      <td>o</td>\n",
              "      <td>True</td>\n",
              "    </tr>\n",
              "    <tr>\n",
              "      <th>2</th>\n",
              "      <td>x</td>\n",
              "      <td>x</td>\n",
              "      <td>x</td>\n",
              "      <td>x</td>\n",
              "      <td>o</td>\n",
              "      <td>o</td>\n",
              "      <td>o</td>\n",
              "      <td>o</td>\n",
              "      <td>x</td>\n",
              "      <td>True</td>\n",
              "    </tr>\n",
              "    <tr>\n",
              "      <th>3</th>\n",
              "      <td>x</td>\n",
              "      <td>x</td>\n",
              "      <td>x</td>\n",
              "      <td>x</td>\n",
              "      <td>o</td>\n",
              "      <td>o</td>\n",
              "      <td>o</td>\n",
              "      <td>b</td>\n",
              "      <td>b</td>\n",
              "      <td>True</td>\n",
              "    </tr>\n",
              "    <tr>\n",
              "      <th>4</th>\n",
              "      <td>x</td>\n",
              "      <td>x</td>\n",
              "      <td>x</td>\n",
              "      <td>x</td>\n",
              "      <td>o</td>\n",
              "      <td>o</td>\n",
              "      <td>b</td>\n",
              "      <td>o</td>\n",
              "      <td>b</td>\n",
              "      <td>True</td>\n",
              "    </tr>\n",
              "  </tbody>\n",
              "</table>\n",
              "</div>"
            ],
            "text/plain": [
              "  TL TM TR ML MM MR BL BM BR  class\n",
              "0  x  x  x  x  o  o  x  o  o   True\n",
              "1  x  x  x  x  o  o  o  x  o   True\n",
              "2  x  x  x  x  o  o  o  o  x   True\n",
              "3  x  x  x  x  o  o  o  b  b   True\n",
              "4  x  x  x  x  o  o  b  o  b   True"
            ]
          },
          "metadata": {
            "tags": []
          },
          "execution_count": 47
        }
      ]
    },
    {
      "cell_type": "code",
      "metadata": {
        "id": "EnBmpB7pU_8u"
      },
      "source": [
        "tic_tac_data.rename(columns={'class': 'target'}, inplace=True)\r\n",
        "# tic_tac_data"
      ],
      "execution_count": 69,
      "outputs": []
    },
    {
      "cell_type": "code",
      "metadata": {
        "colab": {
          "base_uri": "https://localhost:8080/"
        },
        "id": "3Im5pVlnVY_H",
        "outputId": "71c347b6-7c17-4c2d-8a6c-543022ba4f43"
      },
      "source": [
        "mapping_for_moves = {'x':1, 'o':0}\r\n",
        "\r\n",
        "tic_tac_data.target.value_counts()"
      ],
      "execution_count": 70,
      "outputs": [
        {
          "output_type": "execute_result",
          "data": {
            "text/plain": [
              "True     626\n",
              "False    332\n",
              "Name: target, dtype: int64"
            ]
          },
          "metadata": {
            "tags": []
          },
          "execution_count": 70
        }
      ]
    },
    {
      "cell_type": "code",
      "metadata": {
        "colab": {
          "base_uri": "https://localhost:8080/"
        },
        "id": "P6ipCiR2W2Ow",
        "outputId": "8c521956-9dcd-4799-df84-634dff659f71"
      },
      "source": [
        "tic_tac_data.target = tic_tac_data.target.apply(lambda x: 0 if x==False else 1)\r\n",
        "\r\n",
        "tic_tac_data.target.value_counts()"
      ],
      "execution_count": 71,
      "outputs": [
        {
          "output_type": "execute_result",
          "data": {
            "text/plain": [
              "1    626\n",
              "0    332\n",
              "Name: target, dtype: int64"
            ]
          },
          "metadata": {
            "tags": []
          },
          "execution_count": 71
        }
      ]
    },
    {
      "cell_type": "code",
      "metadata": {
        "id": "tDnu4sx3YdGo"
      },
      "source": [
        "y = tic_tac_data['target']\r\n",
        "tic_tac_data = tic_tac_data.drop(['target'], axis=1)"
      ],
      "execution_count": 72,
      "outputs": []
    },
    {
      "cell_type": "code",
      "metadata": {
        "colab": {
          "base_uri": "https://localhost:8080/",
          "height": 206
        },
        "id": "9zxZ09t5Yt-u",
        "outputId": "7e3b69ce-18f5-47b9-98fa-249707dd4476"
      },
      "source": [
        "for i in tic_tac_data.columns:\r\n",
        "  tic_tac_data[i] = tic_tac_data[i].map(mapping_for_moves)\r\n",
        "\r\n",
        "tic_tac_data.head()"
      ],
      "execution_count": 73,
      "outputs": [
        {
          "output_type": "execute_result",
          "data": {
            "text/html": [
              "<div>\n",
              "<style scoped>\n",
              "    .dataframe tbody tr th:only-of-type {\n",
              "        vertical-align: middle;\n",
              "    }\n",
              "\n",
              "    .dataframe tbody tr th {\n",
              "        vertical-align: top;\n",
              "    }\n",
              "\n",
              "    .dataframe thead th {\n",
              "        text-align: right;\n",
              "    }\n",
              "</style>\n",
              "<table border=\"1\" class=\"dataframe\">\n",
              "  <thead>\n",
              "    <tr style=\"text-align: right;\">\n",
              "      <th></th>\n",
              "      <th>TL</th>\n",
              "      <th>TM</th>\n",
              "      <th>TR</th>\n",
              "      <th>ML</th>\n",
              "      <th>MM</th>\n",
              "      <th>MR</th>\n",
              "      <th>BL</th>\n",
              "      <th>BM</th>\n",
              "      <th>BR</th>\n",
              "    </tr>\n",
              "  </thead>\n",
              "  <tbody>\n",
              "    <tr>\n",
              "      <th>0</th>\n",
              "      <td>1.0</td>\n",
              "      <td>1.0</td>\n",
              "      <td>1.0</td>\n",
              "      <td>1.0</td>\n",
              "      <td>0.0</td>\n",
              "      <td>0.0</td>\n",
              "      <td>1.0</td>\n",
              "      <td>0.0</td>\n",
              "      <td>0.0</td>\n",
              "    </tr>\n",
              "    <tr>\n",
              "      <th>1</th>\n",
              "      <td>1.0</td>\n",
              "      <td>1.0</td>\n",
              "      <td>1.0</td>\n",
              "      <td>1.0</td>\n",
              "      <td>0.0</td>\n",
              "      <td>0.0</td>\n",
              "      <td>0.0</td>\n",
              "      <td>1.0</td>\n",
              "      <td>0.0</td>\n",
              "    </tr>\n",
              "    <tr>\n",
              "      <th>2</th>\n",
              "      <td>1.0</td>\n",
              "      <td>1.0</td>\n",
              "      <td>1.0</td>\n",
              "      <td>1.0</td>\n",
              "      <td>0.0</td>\n",
              "      <td>0.0</td>\n",
              "      <td>0.0</td>\n",
              "      <td>0.0</td>\n",
              "      <td>1.0</td>\n",
              "    </tr>\n",
              "    <tr>\n",
              "      <th>3</th>\n",
              "      <td>1.0</td>\n",
              "      <td>1.0</td>\n",
              "      <td>1.0</td>\n",
              "      <td>1.0</td>\n",
              "      <td>0.0</td>\n",
              "      <td>0.0</td>\n",
              "      <td>0.0</td>\n",
              "      <td>NaN</td>\n",
              "      <td>NaN</td>\n",
              "    </tr>\n",
              "    <tr>\n",
              "      <th>4</th>\n",
              "      <td>1.0</td>\n",
              "      <td>1.0</td>\n",
              "      <td>1.0</td>\n",
              "      <td>1.0</td>\n",
              "      <td>0.0</td>\n",
              "      <td>0.0</td>\n",
              "      <td>NaN</td>\n",
              "      <td>0.0</td>\n",
              "      <td>NaN</td>\n",
              "    </tr>\n",
              "  </tbody>\n",
              "</table>\n",
              "</div>"
            ],
            "text/plain": [
              "    TL   TM   TR   ML   MM   MR   BL   BM   BR\n",
              "0  1.0  1.0  1.0  1.0  0.0  0.0  1.0  0.0  0.0\n",
              "1  1.0  1.0  1.0  1.0  0.0  0.0  0.0  1.0  0.0\n",
              "2  1.0  1.0  1.0  1.0  0.0  0.0  0.0  0.0  1.0\n",
              "3  1.0  1.0  1.0  1.0  0.0  0.0  0.0  NaN  NaN\n",
              "4  1.0  1.0  1.0  1.0  0.0  0.0  NaN  0.0  NaN"
            ]
          },
          "metadata": {
            "tags": []
          },
          "execution_count": 73
        }
      ]
    },
    {
      "cell_type": "code",
      "metadata": {
        "id": "E-deUGDLZ9mh"
      },
      "source": [
        "X = SimpleImputer().fit_transform(tic_tac_data)\r\n",
        "\r\n"
      ],
      "execution_count": 74,
      "outputs": []
    },
    {
      "cell_type": "code",
      "metadata": {
        "id": "BuuLXutHaKGc"
      },
      "source": [
        "X_train, X_test, y_train, y_test = train_test_split(X, y, test_size=0.25, random_state = 123)"
      ],
      "execution_count": 75,
      "outputs": []
    },
    {
      "cell_type": "code",
      "metadata": {
        "colab": {
          "base_uri": "https://localhost:8080/"
        },
        "id": "wsK1W6lwnMwr",
        "outputId": "a7b534c1-907e-4da4-d866-0f679c9a1814"
      },
      "source": [
        "from sklearn.metrics import accuracy_score\r\n",
        "\r\n",
        "train_scores, test_scores = [], []\r\n",
        "for i in [1, 2, 3, 4, 5, 10, 20,50]:\r\n",
        "\r\n",
        "  rfc = RandomForestClassifier(n_estimators=i, random_state=1111)\r\n",
        "  rfc.fit(X_train, y_train)\r\n",
        "\r\n",
        "  train_predictions = rfc.predict(X_train)\r\n",
        "  test_predictions = rfc.predict(X_test)\r\n",
        "\r\n",
        "  train_scores.append(round(accuracy_score(y_train, train_predictions), 2))\r\n",
        "  test_scores.append(round(accuracy_score(y_test, test_predictions), 2))\r\n",
        "\r\n",
        "print('The training scores were: {} '.format(train_scores))\r\n",
        "print('The test scores were: {} '.format(test_scores))\r\n",
        "\r\n"
      ],
      "execution_count": 79,
      "outputs": [
        {
          "output_type": "stream",
          "text": [
            "The training scores were: [0.94, 0.95, 0.98, 0.99, 0.99, 1.0, 1.0, 1.0] \n",
            "The test scores were: [0.8, 0.8, 0.9, 0.91, 0.93, 0.96, 0.98, 1.0] \n"
          ],
          "name": "stdout"
        }
      ]
    },
    {
      "cell_type": "code",
      "metadata": {
        "colab": {
          "base_uri": "https://localhost:8080/",
          "height": 284
        },
        "id": "gyrw_9xmr8Es",
        "outputId": "c68e85c8-c160-4433-e30d-2694c268b278"
      },
      "source": [
        "z = [1, 2, 3, 4, 5, 10, 20, 50]\r\n",
        "plt.plot(z, train_scores, linewidth=2)\r\n",
        "plt.plot(z, test_scores, linewidth=2)\r\n",
        "plt.legend(['train_score', 'test_score'], loc='center')"
      ],
      "execution_count": 92,
      "outputs": [
        {
          "output_type": "execute_result",
          "data": {
            "text/plain": [
              "<matplotlib.legend.Legend at 0x7f94f6bb9be0>"
            ]
          },
          "metadata": {
            "tags": []
          },
          "execution_count": 92
        },
        {
          "output_type": "display_data",
          "data": {
            "image/png": "[encoded data removed]",
            "text/plain": [
              "<Figure size 432x288 with 1 Axes>"
            ]
          },
          "metadata": {
            "tags": [],
            "needs_background": "light"
          }
        }
      ]
    },
    {
      "cell_type": "code",
      "metadata": {
        "id": "XJCyuN23uuQ9"
      },
      "source": [
        "toy_url = \"https://raw.githubusercontent.com/shala2020/shala2020.github.io/master/Lecture_Materials/Google_Colab_Notebooks/MachineLearning/L1/toy_data.csv\"\r\n",
        "data_set = pd.read_csv(toy_url) "
      ],
      "execution_count": 93,
      "outputs": []
    },
    {
      "cell_type": "code",
      "metadata": {
        "colab": {
          "base_uri": "https://localhost:8080/",
          "height": 206
        },
        "id": "GAfIvE5Ms_8r",
        "outputId": "32734a24-71f9-49a3-92f2-00cff1e2c175"
      },
      "source": [
        "data_set.head()"
      ],
      "execution_count": 94,
      "outputs": [
        {
          "output_type": "execute_result",
          "data": {
            "text/html": [
              "<div>\n",
              "<style scoped>\n",
              "    .dataframe tbody tr th:only-of-type {\n",
              "        vertical-align: middle;\n",
              "    }\n",
              "\n",
              "    .dataframe tbody tr th {\n",
              "        vertical-align: top;\n",
              "    }\n",
              "\n",
              "    .dataframe thead th {\n",
              "        text-align: right;\n",
              "    }\n",
              "</style>\n",
              "<table border=\"1\" class=\"dataframe\">\n",
              "  <thead>\n",
              "    <tr style=\"text-align: right;\">\n",
              "      <th></th>\n",
              "      <th>Country</th>\n",
              "      <th>Age</th>\n",
              "      <th>Salary</th>\n",
              "      <th>Purchased</th>\n",
              "    </tr>\n",
              "  </thead>\n",
              "  <tbody>\n",
              "    <tr>\n",
              "      <th>0</th>\n",
              "      <td>France</td>\n",
              "      <td>44</td>\n",
              "      <td>72000</td>\n",
              "      <td>No</td>\n",
              "    </tr>\n",
              "    <tr>\n",
              "      <th>1</th>\n",
              "      <td>Spain</td>\n",
              "      <td>27</td>\n",
              "      <td>48000</td>\n",
              "      <td>Yes</td>\n",
              "    </tr>\n",
              "    <tr>\n",
              "      <th>2</th>\n",
              "      <td>Germany</td>\n",
              "      <td>30</td>\n",
              "      <td>54000</td>\n",
              "      <td>No</td>\n",
              "    </tr>\n",
              "    <tr>\n",
              "      <th>3</th>\n",
              "      <td>Spain</td>\n",
              "      <td>38</td>\n",
              "      <td>61000</td>\n",
              "      <td>No</td>\n",
              "    </tr>\n",
              "    <tr>\n",
              "      <th>4</th>\n",
              "      <td>Germany</td>\n",
              "      <td>40</td>\n",
              "      <td>1000</td>\n",
              "      <td>Yes</td>\n",
              "    </tr>\n",
              "  </tbody>\n",
              "</table>\n",
              "</div>"
            ],
            "text/plain": [
              "   Country  Age  Salary Purchased\n",
              "0   France   44   72000        No\n",
              "1    Spain   27   48000       Yes\n",
              "2  Germany   30   54000        No\n",
              "3    Spain   38   61000        No\n",
              "4  Germany   40    1000       Yes"
            ]
          },
          "metadata": {
            "tags": []
          },
          "execution_count": 94
        }
      ]
    },
    {
      "cell_type": "code",
      "metadata": {
        "colab": {
          "base_uri": "https://localhost:8080/",
          "height": 337
        },
        "id": "qrPH7aBRu1eS",
        "outputId": "e19dac53-df59-4afc-bdf1-7cc2a28d8c7a"
      },
      "source": [
        "data_set.hist()"
      ],
      "execution_count": 95,
      "outputs": [
        {
          "output_type": "execute_result",
          "data": {
            "text/plain": [
              "array([[<matplotlib.axes._subplots.AxesSubplot object at 0x7f94f698a128>,\n",
              "        <matplotlib.axes._subplots.AxesSubplot object at 0x7f94f68d1710>]],\n",
              "      dtype=object)"
            ]
          },
          "metadata": {
            "tags": []
          },
          "execution_count": 95
        },
        {
          "output_type": "display_data",
          "data": {
            "image/png": "[encoded data removed]",
            "text/plain": [
              "<Figure size 432x288 with 2 Axes>"
            ]
          },
          "metadata": {
            "tags": [],
            "needs_background": "light"
          }
        }
      ]
    },
    {
      "cell_type": "code",
      "metadata": {
        "colab": {
          "base_uri": "https://localhost:8080/"
        },
        "id": "JRMBiLVEvEQb",
        "outputId": "82a6ee78-ba2f-4e36-9dcc-2acb79c2d7fe"
      },
      "source": [
        "from sklearn import preprocessing\r\n",
        "\r\n",
        "x = data_set.iloc[:, 1:3]\r\n",
        "\r\n",
        "min_max_scaler = preprocessing.MinMaxScaler(feature_range = (0,1))\r\n",
        "x_after_min_max_scaler = min_max_scaler.fit_transform(x)\r\n",
        "\r\n",
        "print('\\n After min max scaling :\\n {}'.format(x_after_min_max_scaler))"
      ],
      "execution_count": 103,
      "outputs": [
        {
          "output_type": "stream",
          "text": [
            "\n",
            " After min max scaling :\n",
            " [[0.33333333 0.86585366]\n",
            " [0.         0.57317073]\n",
            " [0.05882353 0.64634146]\n",
            " [0.21568627 0.73170732]\n",
            " [0.25490196 0.        ]\n",
            " [0.15686275 0.69512195]\n",
            " [1.         0.62195122]\n",
            " [0.41176471 0.95121951]\n",
            " [0.45098039 1.        ]\n",
            " [0.19607843 0.80487805]]\n"
          ],
          "name": "stdout"
        }
      ]
    },
    {
      "cell_type": "code",
      "metadata": {
        "colab": {
          "base_uri": "https://localhost:8080/"
        },
        "id": "47MdP5twwvkM",
        "outputId": "946b5b1c-b9cb-409f-ed3a-4e117bb56c9c"
      },
      "source": [
        "standardisation = preprocessing.StandardScaler()\r\n",
        "\r\n",
        "x_after_standardisation = standardisation.fit_transform(x)\r\n",
        "\r\n",
        "print('x after standardisation is : \\n {}'.format(x_after_standardisation))"
      ],
      "execution_count": 105,
      "outputs": [
        {
          "output_type": "stream",
          "text": [
            "x after standardisation is : \n",
            " [[ 0.09536935  0.66527061]\n",
            " [-1.15176827 -0.43586695]\n",
            " [-0.93168516 -0.16058256]\n",
            " [-0.34479687  0.16058256]\n",
            " [-0.1980748  -2.59226136]\n",
            " [-0.56487998  0.02294037]\n",
            " [ 2.58964459 -0.25234403]\n",
            " [ 0.38881349  0.98643574]\n",
            " [ 0.53553557  1.16995867]\n",
            " [-0.41815791  0.43586695]]\n"
          ],
          "name": "stdout"
        }
      ]
    },
    {
      "cell_type": "code",
      "metadata": {
        "id": "nru-sSVb5GXp"
      },
      "source": [
        "# Loading the dataset\r\n",
        "diabetes_url = \"https://raw.githubusercontent.com/shala2020/shala2020.github.io/master/Lecture_Materials/Google_Colab_Notebooks/MachineLearning/L1/diabetes.csv\"\r\n",
        "diabetes_data = pd.read_csv(diabetes_url)"
      ],
      "execution_count": 106,
      "outputs": []
    },
    {
      "cell_type": "code",
      "metadata": {
        "colab": {
          "base_uri": "https://localhost:8080/"
        },
        "id": "TXqjVUh95J_L",
        "outputId": "1f142d3a-04b8-4f1f-af11-1c57aa025aa2"
      },
      "source": [
        "diabetes_data.columns"
      ],
      "execution_count": 109,
      "outputs": [
        {
          "output_type": "execute_result",
          "data": {
            "text/plain": [
              "Index(['pregnancies', 'glucose', 'diastolic', 'triceps', 'insulin', 'bmi',\n",
              "       'dpf', 'age', 'diabetes'],\n",
              "      dtype='object')"
            ]
          },
          "metadata": {
            "tags": []
          },
          "execution_count": 109
        }
      ]
    },
    {
      "cell_type": "code",
      "metadata": {
        "colab": {
          "base_uri": "https://localhost:8080/"
        },
        "id": "12tpRscr5WOL",
        "outputId": "c0800f89-c5da-4da4-ed1e-3ec5df5dcf2e"
      },
      "source": [
        "diabetes_data.shape"
      ],
      "execution_count": 110,
      "outputs": [
        {
          "output_type": "execute_result",
          "data": {
            "text/plain": [
              "(768, 9)"
            ]
          },
          "metadata": {
            "tags": []
          },
          "execution_count": 110
        }
      ]
    },
    {
      "cell_type": "code",
      "metadata": {
        "colab": {
          "base_uri": "https://localhost:8080/"
        },
        "id": "cB3Cu0do5ZkF",
        "outputId": "bd3aa184-577f-4712-b51c-8acf906673db"
      },
      "source": [
        "diabetes_data.isnull().sum()"
      ],
      "execution_count": 111,
      "outputs": [
        {
          "output_type": "execute_result",
          "data": {
            "text/plain": [
              "pregnancies    0\n",
              "glucose        0\n",
              "diastolic      0\n",
              "triceps        0\n",
              "insulin        0\n",
              "bmi            0\n",
              "dpf            0\n",
              "age            0\n",
              "diabetes       0\n",
              "dtype: int64"
            ]
          },
          "metadata": {
            "tags": []
          },
          "execution_count": 111
        }
      ]
    },
    {
      "cell_type": "code",
      "metadata": {
        "colab": {
          "base_uri": "https://localhost:8080/"
        },
        "id": "oEQJH4ds5iUx",
        "outputId": "d7e4218a-406c-4362-e024-a1a232e51915"
      },
      "source": [
        "diabetes_data.info()"
      ],
      "execution_count": 113,
      "outputs": [
        {
          "output_type": "stream",
          "text": [
            "<class 'pandas.core.frame.DataFrame'>\n",
            "RangeIndex: 768 entries, 0 to 767\n",
            "Data columns (total 9 columns):\n",
            " #   Column       Non-Null Count  Dtype  \n",
            "---  ------       --------------  -----  \n",
            " 0   pregnancies  768 non-null    int64  \n",
            " 1   glucose      768 non-null    int64  \n",
            " 2   diastolic    768 non-null    int64  \n",
            " 3   triceps      768 non-null    int64  \n",
            " 4   insulin      768 non-null    int64  \n",
            " 5   bmi          768 non-null    float64\n",
            " 6   dpf          768 non-null    float64\n",
            " 7   age          768 non-null    int64  \n",
            " 8   diabetes     768 non-null    int64  \n",
            "dtypes: float64(2), int64(7)\n",
            "memory usage: 54.1 KB\n"
          ],
          "name": "stdout"
        }
      ]
    },
    {
      "cell_type": "code",
      "metadata": {
        "colab": {
          "base_uri": "https://localhost:8080/"
        },
        "id": "bLGqhX__5uLu",
        "outputId": "9c678b26-9d91-44f6-ba80-401fc0ac954c"
      },
      "source": [
        "diabetes_data.diabetes.value_counts()"
      ],
      "execution_count": 116,
      "outputs": [
        {
          "output_type": "execute_result",
          "data": {
            "text/plain": [
              "0    500\n",
              "1    268\n",
              "Name: diabetes, dtype: int64"
            ]
          },
          "metadata": {
            "tags": []
          },
          "execution_count": 116
        }
      ]
    },
    {
      "cell_type": "code",
      "metadata": {
        "colab": {
          "base_uri": "https://localhost:8080/",
          "height": 300
        },
        "id": "Z68Vc7it56io",
        "outputId": "d604765f-70ed-4579-f8d3-f6421cb70fb0"
      },
      "source": [
        "diabetes_data.describe()"
      ],
      "execution_count": 120,
      "outputs": [
        {
          "output_type": "execute_result",
          "data": {
            "text/html": [
              "<div>\n",
              "<style scoped>\n",
              "    .dataframe tbody tr th:only-of-type {\n",
              "        vertical-align: middle;\n",
              "    }\n",
              "\n",
              "    .dataframe tbody tr th {\n",
              "        vertical-align: top;\n",
              "    }\n",
              "\n",
              "    .dataframe thead th {\n",
              "        text-align: right;\n",
              "    }\n",
              "</style>\n",
              "<table border=\"1\" class=\"dataframe\">\n",
              "  <thead>\n",
              "    <tr style=\"text-align: right;\">\n",
              "      <th></th>\n",
              "      <th>pregnancies</th>\n",
              "      <th>glucose</th>\n",
              "      <th>diastolic</th>\n",
              "      <th>triceps</th>\n",
              "      <th>insulin</th>\n",
              "      <th>bmi</th>\n",
              "      <th>dpf</th>\n",
              "      <th>age</th>\n",
              "      <th>diabetes</th>\n",
              "    </tr>\n",
              "  </thead>\n",
              "  <tbody>\n",
              "    <tr>\n",
              "      <th>count</th>\n",
              "      <td>768.000000</td>\n",
              "      <td>768.000000</td>\n",
              "      <td>768.000000</td>\n",
              "      <td>768.000000</td>\n",
              "      <td>768.000000</td>\n",
              "      <td>768.000000</td>\n",
              "      <td>768.000000</td>\n",
              "      <td>768.000000</td>\n",
              "      <td>768.000000</td>\n",
              "    </tr>\n",
              "    <tr>\n",
              "      <th>mean</th>\n",
              "      <td>3.845052</td>\n",
              "      <td>120.894531</td>\n",
              "      <td>69.105469</td>\n",
              "      <td>20.536458</td>\n",
              "      <td>79.799479</td>\n",
              "      <td>31.992578</td>\n",
              "      <td>0.471876</td>\n",
              "      <td>33.240885</td>\n",
              "      <td>0.348958</td>\n",
              "    </tr>\n",
              "    <tr>\n",
              "      <th>std</th>\n",
              "      <td>3.369578</td>\n",
              "      <td>31.972618</td>\n",
              "      <td>19.355807</td>\n",
              "      <td>15.952218</td>\n",
              "      <td>115.244002</td>\n",
              "      <td>7.884160</td>\n",
              "      <td>0.331329</td>\n",
              "      <td>11.760232</td>\n",
              "      <td>0.476951</td>\n",
              "    </tr>\n",
              "    <tr>\n",
              "      <th>min</th>\n",
              "      <td>0.000000</td>\n",
              "      <td>0.000000</td>\n",
              "      <td>0.000000</td>\n",
              "      <td>0.000000</td>\n",
              "      <td>0.000000</td>\n",
              "      <td>0.000000</td>\n",
              "      <td>0.078000</td>\n",
              "      <td>21.000000</td>\n",
              "      <td>0.000000</td>\n",
              "    </tr>\n",
              "    <tr>\n",
              "      <th>25%</th>\n",
              "      <td>1.000000</td>\n",
              "      <td>99.000000</td>\n",
              "      <td>62.000000</td>\n",
              "      <td>0.000000</td>\n",
              "      <td>0.000000</td>\n",
              "      <td>27.300000</td>\n",
              "      <td>0.243750</td>\n",
              "      <td>24.000000</td>\n",
              "      <td>0.000000</td>\n",
              "    </tr>\n",
              "    <tr>\n",
              "      <th>50%</th>\n",
              "      <td>3.000000</td>\n",
              "      <td>117.000000</td>\n",
              "      <td>72.000000</td>\n",
              "      <td>23.000000</td>\n",
              "      <td>30.500000</td>\n",
              "      <td>32.000000</td>\n",
              "      <td>0.372500</td>\n",
              "      <td>29.000000</td>\n",
              "      <td>0.000000</td>\n",
              "    </tr>\n",
              "    <tr>\n",
              "      <th>75%</th>\n",
              "      <td>6.000000</td>\n",
              "      <td>140.250000</td>\n",
              "      <td>80.000000</td>\n",
              "      <td>32.000000</td>\n",
              "      <td>127.250000</td>\n",
              "      <td>36.600000</td>\n",
              "      <td>0.626250</td>\n",
              "      <td>41.000000</td>\n",
              "      <td>1.000000</td>\n",
              "    </tr>\n",
              "    <tr>\n",
              "      <th>max</th>\n",
              "      <td>17.000000</td>\n",
              "      <td>199.000000</td>\n",
              "      <td>122.000000</td>\n",
              "      <td>99.000000</td>\n",
              "      <td>846.000000</td>\n",
              "      <td>67.100000</td>\n",
              "      <td>2.420000</td>\n",
              "      <td>81.000000</td>\n",
              "      <td>1.000000</td>\n",
              "    </tr>\n",
              "  </tbody>\n",
              "</table>\n",
              "</div>"
            ],
            "text/plain": [
              "       pregnancies     glucose   diastolic  ...         dpf         age    diabetes\n",
              "count   768.000000  768.000000  768.000000  ...  768.000000  768.000000  768.000000\n",
              "mean      3.845052  120.894531   69.105469  ...    0.471876   33.240885    0.348958\n",
              "std       3.369578   31.972618   19.355807  ...    0.331329   11.760232    0.476951\n",
              "min       0.000000    0.000000    0.000000  ...    0.078000   21.000000    0.000000\n",
              "25%       1.000000   99.000000   62.000000  ...    0.243750   24.000000    0.000000\n",
              "50%       3.000000  117.000000   72.000000  ...    0.372500   29.000000    0.000000\n",
              "75%       6.000000  140.250000   80.000000  ...    0.626250   41.000000    1.000000\n",
              "max      17.000000  199.000000  122.000000  ...    2.420000   81.000000    1.000000\n",
              "\n",
              "[8 rows x 9 columns]"
            ]
          },
          "metadata": {
            "tags": []
          },
          "execution_count": 120
        }
      ]
    },
    {
      "cell_type": "code",
      "metadata": {
        "colab": {
          "base_uri": "https://localhost:8080/",
          "height": 355
        },
        "id": "fkYtda9U60jh",
        "outputId": "607fe4cc-b03a-434a-db69-020480dcf3ae"
      },
      "source": [
        "sns.countplot(diabetes_data['diabetes'], palette='Set1')"
      ],
      "execution_count": 123,
      "outputs": [
        {
          "output_type": "stream",
          "text": [
            "/usr/local/lib/python3.6/dist-packages/seaborn/_decorators.py:43: FutureWarning: Pass the following variable as a keyword arg: x. From version 0.12, the only valid positional argument will be `data`, and passing other arguments without an explicit keyword will result in an error or misinterpretation.\n",
            "  FutureWarning\n"
          ],
          "name": "stderr"
        },
        {
          "output_type": "execute_result",
          "data": {
            "text/plain": [
              "<matplotlib.axes._subplots.AxesSubplot at 0x7f94f65c0a20>"
            ]
          },
          "metadata": {
            "tags": []
          },
          "execution_count": 123
        },
        {
          "output_type": "display_data",
          "data": {
            "image/png": "[encoded data removed]",
            "text/plain": [
              "<Figure size 432x288 with 1 Axes>"
            ]
          },
          "metadata": {
            "tags": [],
            "needs_background": "light"
          }
        }
      ]
    },
    {
      "cell_type": "code",
      "metadata": {
        "colab": {
          "base_uri": "https://localhost:8080/",
          "height": 794
        },
        "id": "PtUXcGLg7Pt_",
        "outputId": "96da187f-c3a6-4256-aed5-072390b92e7c"
      },
      "source": [
        "diabetes_data.hist(figsize=(10,10))"
      ],
      "execution_count": 125,
      "outputs": [
        {
          "output_type": "execute_result",
          "data": {
            "text/plain": [
              "array([[<matplotlib.axes._subplots.AxesSubplot object at 0x7f94f65e1358>,\n",
              "        <matplotlib.axes._subplots.AxesSubplot object at 0x7f94f61f20f0>,\n",
              "        <matplotlib.axes._subplots.AxesSubplot object at 0x7f94f619d358>],\n",
              "       [<matplotlib.axes._subplots.AxesSubplot object at 0x7f94f614f5c0>,\n",
              "        <matplotlib.axes._subplots.AxesSubplot object at 0x7f94f6181828>,\n",
              "        <matplotlib.axes._subplots.AxesSubplot object at 0x7f94f6134a90>],\n",
              "       [<matplotlib.axes._subplots.AxesSubplot object at 0x7f94f60e8cf8>,\n",
              "        <matplotlib.axes._subplots.AxesSubplot object at 0x7f94f609bf28>,\n",
              "        <matplotlib.axes._subplots.AxesSubplot object at 0x7f94f609bf98>]],\n",
              "      dtype=object)"
            ]
          },
          "metadata": {
            "tags": []
          },
          "execution_count": 125
        },
        {
          "output_type": "display_data",
          "data": {
            "image/png": "[encoded data removed]",
            "text/plain": [
              "<Figure size 720x720 with 9 Axes>"
            ]
          },
          "metadata": {
            "tags": [],
            "needs_background": "light"
          }
        }
      ]
    },
    {
      "cell_type": "code",
      "metadata": {
        "colab": {
          "base_uri": "https://localhost:8080/",
          "height": 882
        },
        "id": "7CHM1Xi77cgz",
        "outputId": "96cfec9b-7bd1-4bea-9f53-14e0b0c39b78"
      },
      "source": [
        "plt.figure(figsize=(15,15))\r\n",
        "\r\n",
        "mask = np.zeros_like(diabetes_data.corr(), dtype=np.bool)\r\n",
        "mask[np.triu_indices_from(mask)] = True\r\n",
        "\r\n",
        "sns.heatmap(diabetes_data.corr(), cmap='coolwarm', annot=True, vmin=-1, mask=mask)"
      ],
      "execution_count": 132,
      "outputs": [
        {
          "output_type": "execute_result",
          "data": {
            "text/plain": [
              "<matplotlib.axes._subplots.AxesSubplot at 0x7f94f3288470>"
            ]
          },
          "metadata": {
            "tags": []
          },
          "execution_count": 132
        },
        {
          "output_type": "display_data",
          "data": {
            "image/png": "[encoded data removed]",
            "text/plain": [
              "<Figure size 1080x1080 with 2 Axes>"
            ]
          },
          "metadata": {
            "tags": [],
            "needs_background": "light"
          }
        }
      ]
    },
    {
      "cell_type": "code",
      "metadata": {
        "id": "RAk75XSi802a"
      },
      "source": [
        "label = diabetes_data['diabetes']\r\n",
        "features_df = diabetes_data.drop(['diabetes'], axis=1)\r\n",
        "\r\n"
      ],
      "execution_count": 136,
      "outputs": []
    },
    {
      "cell_type": "code",
      "metadata": {
        "colab": {
          "base_uri": "https://localhost:8080/"
        },
        "id": "mnsr51G6K4r0",
        "outputId": "1c8be6bb-7996-40b2-c373-58bd875f6291"
      },
      "source": [
        "\r\n",
        "\r\n",
        "# Applying scaling on the features \r\n",
        "ss = StandardScaler()\r\n",
        "features_df = ss.fit_transform(features_df)\r\n"
      ],
      "execution_count": 138,
      "outputs": [
        {
          "output_type": "execute_result",
          "data": {
            "text/plain": [
              "array([[ 0.63994726,  0.84832379,  0.14964075, ...,  0.20401277,\n",
              "         0.46849198,  1.4259954 ],\n",
              "       [-0.84488505, -1.12339636, -0.16054575, ..., -0.68442195,\n",
              "        -0.36506078, -0.19067191],\n",
              "       [ 1.23388019,  1.94372388, -0.26394125, ..., -1.10325546,\n",
              "         0.60439732, -0.10558415],\n",
              "       ...,\n",
              "       [ 0.3429808 ,  0.00330087,  0.14964075, ..., -0.73518964,\n",
              "        -0.68519336, -0.27575966],\n",
              "       [-0.84488505,  0.1597866 , -0.47073225, ..., -0.24020459,\n",
              "        -0.37110101,  1.17073215],\n",
              "       [-0.84488505, -0.8730192 ,  0.04624525, ..., -0.20212881,\n",
              "        -0.47378505, -0.87137393]])"
            ]
          },
          "metadata": {
            "tags": []
          },
          "execution_count": 138
        }
      ]
    },
    {
      "cell_type": "code",
      "metadata": {
        "id": "D0Ds_7iDLAuV"
      },
      "source": [
        "X_train, X_test, y_train, y_test = train_test_split(features_df, label, train_size=0.8, random_state=123)\r\n",
        "\r\n"
      ],
      "execution_count": 139,
      "outputs": []
    },
    {
      "cell_type": "code",
      "metadata": {
        "colab": {
          "base_uri": "https://localhost:8080/"
        },
        "id": "BuP9gm8MLnTx",
        "outputId": "627512ec-6088-4628-c18d-0689fd654d1e"
      },
      "source": [
        "xgb_clf = xgb.XGBClassifier(learning_rate=0.01)\r\n",
        "xgb_clf.fit(X_train, y_train)"
      ],
      "execution_count": 140,
      "outputs": [
        {
          "output_type": "execute_result",
          "data": {
            "text/plain": [
              "XGBClassifier(base_score=0.5, booster='gbtree', colsample_bylevel=1,\n",
              "              colsample_bynode=1, colsample_bytree=1, gamma=0,\n",
              "              learning_rate=0.01, max_delta_step=0, max_depth=3,\n",
              "              min_child_weight=1, missing=None, n_estimators=100, n_jobs=1,\n",
              "              nthread=None, objective='binary:logistic', random_state=0,\n",
              "              reg_alpha=0, reg_lambda=1, scale_pos_weight=1, seed=None,\n",
              "              silent=None, subsample=1, verbosity=1)"
            ]
          },
          "metadata": {
            "tags": []
          },
          "execution_count": 140
        }
      ]
    },
    {
      "cell_type": "code",
      "metadata": {
        "colab": {
          "base_uri": "https://localhost:8080/"
        },
        "id": "7ylpK-cGL3-7",
        "outputId": "b6b232d0-a4c4-4f3c-ed0d-9e3522005d01"
      },
      "source": [
        "predictions = xgb_clf.predict(X_train)\r\n",
        "\r\n",
        "accuracy = accuracy_score(y_train, predictions)\r\n",
        "print(np.round(accuracy*100, 2),'%')"
      ],
      "execution_count": 146,
      "outputs": [
        {
          "output_type": "stream",
          "text": [
            "80.62 %\n"
          ],
          "name": "stdout"
        }
      ]
    },
    {
      "cell_type": "code",
      "metadata": {
        "colab": {
          "base_uri": "https://localhost:8080/"
        },
        "id": "GfFRRreAMUMD",
        "outputId": "1df17b80-2fad-46aa-d87e-d99f2a866aba"
      },
      "source": [
        "predictions = xgb_clf.predict(X_test)\r\n",
        "\r\n",
        "accuracy = accuracy_score(y_test, predictions)\r\n",
        "print(np.round(accuracy*100, 2), '%')"
      ],
      "execution_count": 147,
      "outputs": [
        {
          "output_type": "stream",
          "text": [
            "77.27 %\n"
          ],
          "name": "stdout"
        }
      ]
    },
    {
      "cell_type": "code",
      "metadata": {
        "colab": {
          "base_uri": "https://localhost:8080/"
        },
        "id": "V-Yvtw_wMpRU",
        "outputId": "dec7bd25-ac25-4eb9-bddb-5c3eaea5b5e4"
      },
      "source": [
        "print(confusion_matrix(y_test, predictions))\r\n",
        "print('='*60)\r\n",
        "print(classification_report(y_test, predictions))"
      ],
      "execution_count": 149,
      "outputs": [
        {
          "output_type": "stream",
          "text": [
            "[[86 10]\n",
            " [25 33]]\n",
            "============================================================\n",
            "              precision    recall  f1-score   support\n",
            "\n",
            "           0       0.77      0.90      0.83        96\n",
            "           1       0.77      0.57      0.65        58\n",
            "\n",
            "    accuracy                           0.77       154\n",
            "   macro avg       0.77      0.73      0.74       154\n",
            "weighted avg       0.77      0.77      0.76       154\n",
            "\n"
          ],
          "name": "stdout"
        }
      ]
    }
  ]
}