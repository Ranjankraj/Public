{
  "nbformat": 4,
  "nbformat_minor": 0,
  "metadata": {
    "colab": {
      "name": "TF2-LiR_2.ipynb",
      "provenance": [],
      "authorship_tag": "ABX9TyPkJCQ/23ELt6FtmOVwWFxE",
      "include_colab_link": true
    },
    "kernelspec": {
      "name": "python3",
      "display_name": "Python 3"
    }
  },
  "cells": [
    {
      "cell_type": "markdown",
      "metadata": {
        "id": "view-in-github",
        "colab_type": "text"
      },
      "source": [
        "<a href=\"https://colab.research.google.com/github/Ranjankraj/Shala/blob/main/TF2_LiR_2.ipynb\" target=\"_parent\"><img src=\"https://colab.research.google.com/assets/colab-badge.svg\" alt=\"Open In Colab\"/></a>"
      ]
    },
    {
      "cell_type": "code",
      "metadata": {
        "colab": {
          "base_uri": "https://localhost:8080/"
        },
        "id": "A09gr6qy7NaB",
        "outputId": "4bb9298b-012e-45ef-8c4c-ff1f1b2c9cad"
      },
      "source": [
        "import tensorflow as tf\r\n",
        "\r\n",
        "print(tf.__version__)"
      ],
      "execution_count": 7,
      "outputs": [
        {
          "output_type": "stream",
          "text": [
            "2.4.0\n"
          ],
          "name": "stdout"
        }
      ]
    },
    {
      "cell_type": "code",
      "metadata": {
        "id": "S3bZqWsS7k8B"
      },
      "source": [
        "import numpy as np\r\n",
        "\r\n",
        "X_data = 2 * np.random.rand(100,1)\r\n",
        "y_value = 3 * X_data + 4 + np.random.rand(100,1)"
      ],
      "execution_count": 8,
      "outputs": []
    },
    {
      "cell_type": "code",
      "metadata": {
        "colab": {
          "base_uri": "https://localhost:8080/",
          "height": 265
        },
        "id": "ZAILR8nx8JXv",
        "outputId": "4d508d47-4b6a-4f90-9de3-d2b7f7cf8f4b"
      },
      "source": [
        "%matplotlib inline\r\n",
        "import matplotlib.pyplot as plt\r\n",
        "\r\n",
        "plt.plot(X_data, y_value, 'b.')\r\n",
        "plt.axis([0,2, 0,15])\r\n",
        "plt.show() "
      ],
      "execution_count": 9,
      "outputs": [
        {
          "output_type": "display_data",
          "data": {
            "image/png": "[encoded data removed]",
            "text/plain": [
              "<Figure size 432x288 with 1 Axes>"
            ]
          },
          "metadata": {
            "tags": [],
            "needs_background": "light"
          }
        }
      ]
    },
    {
      "cell_type": "code",
      "metadata": {
        "id": "2SPzanr59AXS"
      },
      "source": [
        "# def linear_regression(X, W, b):   #LiR model eq is y = WX + b\r\n",
        "#   return tf.add(tf.matmul(W,X), b)      #we can also write W*X + b as it's operator overloading\r\n",
        "\r\n",
        "# def mean_square(y_pred, y_true):\r\n",
        "#   return tf.reduce_mean(tf.square(y_pred, y_true))\r\n",
        "\r\n",
        "\r\n",
        "# linear regression model equation y = WX + b\r\n",
        "def linear_regression(X, W, b):\r\n",
        "    return tf.add(tf.multiply(W, X), b)\r\n",
        "\r\n",
        "# mean square error loss function\r\n",
        "def mean_square(y_pred, y_true):\r\n",
        "    return tf.reduce_mean(tf.square(y_pred - y_true))"
      ],
      "execution_count": 10,
      "outputs": []
    },
    {
      "cell_type": "code",
      "metadata": {
        "id": "Plxqw9lG-NRj"
      },
      "source": [
        "# learning_rate = 0.01\r\n",
        "# optimizer = tf.optimizers.SGD(learning_rate)\r\n",
        "\r\n",
        "# def run_optimization(X, y, W, b):\r\n",
        "  \r\n",
        "#   with tf.GradientTape() as g:\r\n",
        "#     pred = linear_regression(X, W, b)\r\n",
        "#     loss = mean_square(pred, y)\r\n",
        "\r\n",
        "#   gradients = g.gradient(loss, [W, b])\r\n",
        "\r\n",
        "#   optimizer.apply_gradients(zip(gradients, [W, b]))\r\n",
        "\r\n",
        "\r\n",
        "\r\n",
        "# Stochastic Gradient Descent optimizer\r\n",
        "learning_rate = 0.01\r\n",
        "optimizer = tf.optimizers.SGD(learning_rate)\r\n",
        "\r\n",
        "# optimization function\r\n",
        "def run_optimization(X, y, W, b):\r\n",
        "    # wrap computation inside a GradientTape for automatic differentiation\r\n",
        "    with tf.GradientTape() as g:\r\n",
        "        pred = linear_regression(X, W, b)\r\n",
        "        loss = mean_square(pred, y)\r\n",
        "\r\n",
        "    # compute gradients\r\n",
        "    gradients = g.gradient(loss, [W, b])\r\n",
        "\r\n",
        "    # update W and b following gradients\r\n",
        "    optimizer.apply_gradients(zip(gradients, [W, b]))"
      ],
      "execution_count": 11,
      "outputs": []
    },
    {
      "cell_type": "code",
      "metadata": {
        "colab": {
          "base_uri": "https://localhost:8080/"
        },
        "id": "NAOqQ_PWBaqH",
        "outputId": "909441c7-10bb-4ac0-8328-0cceedb398ff"
      },
      "source": [
        "training_steps = 1000\r\n",
        "display_step = 50\r\n",
        "\r\n",
        "W = tf.Variable(np.random.rand(), name='Weight')\r\n",
        "b = tf.Variable(np.random.rand(), name='bias')\r\n",
        "\r\n",
        "for step in range(1, training_steps + 1):\r\n",
        "\r\n",
        "  run_optimization(X_data, y_value, W, b)\r\n",
        "\r\n",
        "  if step % display_step == 0:\r\n",
        "    pred = linear_regression(X_data, W, b)\r\n",
        "    loss = mean_square(pred, y_value)\r\n",
        "    print(\"step: %i, loss: %f, W: %f, b: %f\" % (step, loss, W.numpy(), b.numpy()))\r\n",
        "\r\n"
      ],
      "execution_count": 14,
      "outputs": [
        {
          "output_type": "stream",
          "text": [
            "step: 50, loss: 1.007287, W: 3.347858, b: 3.226638\n",
            "step: 100, loss: 0.280847, W: 3.594764, b: 3.704859\n",
            "step: 150, loss: 0.221549, W: 3.540304, b: 3.863959\n",
            "step: 200, loss: 0.187420, W: 3.458269, b: 3.965447\n",
            "step: 250, loss: 0.163014, W: 3.383809, b: 4.046997\n",
            "step: 300, loss: 0.145454, W: 3.319982, b: 4.115561\n",
            "step: 350, loss: 0.132816, W: 3.265746, b: 4.173642\n",
            "step: 400, loss: 0.123721, W: 3.219723, b: 4.222905\n",
            "step: 450, loss: 0.117175, W: 3.180679, b: 4.264693\n",
            "step: 500, loss: 0.112465, W: 3.147555, b: 4.300143\n",
            "step: 550, loss: 0.109075, W: 3.119456, b: 4.330216\n",
            "step: 600, loss: 0.106635, W: 3.095618, b: 4.355730\n",
            "step: 650, loss: 0.104879, W: 3.075395, b: 4.377373\n",
            "step: 700, loss: 0.103615, W: 3.058239, b: 4.395735\n",
            "step: 750, loss: 0.102706, W: 3.043685, b: 4.411311\n",
            "step: 800, loss: 0.102051, W: 3.031339, b: 4.424525\n",
            "step: 850, loss: 0.101580, W: 3.020865, b: 4.435735\n",
            "step: 900, loss: 0.101241, W: 3.011980, b: 4.445244\n",
            "step: 950, loss: 0.100997, W: 3.004443, b: 4.453312\n",
            "step: 1000, loss: 0.100822, W: 2.998047, b: 4.460157\n"
          ],
          "name": "stdout"
        }
      ]
    },
    {
      "cell_type": "code",
      "metadata": {
        "colab": {
          "base_uri": "https://localhost:8080/"
        },
        "id": "xkgD1HFJSgYt",
        "outputId": "d7742678-2dfe-4c84-d9ba-ef4437c25ba0"
      },
      "source": [
        "print(\"W=\", W.numpy(), \"b=\", b.numpy())"
      ],
      "execution_count": 15,
      "outputs": [
        {
          "output_type": "stream",
          "text": [
            "W= 2.9980469 b= 4.4601574\n"
          ],
          "name": "stdout"
        }
      ]
    },
    {
      "cell_type": "code",
      "metadata": {
        "colab": {
          "base_uri": "https://localhost:8080/",
          "height": 265
        },
        "id": "mVeprzjFSppx",
        "outputId": "9ef2c1d5-fad9-44de-a884-cd3abbb0813b"
      },
      "source": [
        "plt.plot(X_data, y_value, 'b.', label=\"data points\")\r\n",
        "plt.plot(X_data, linear_regression(X_data, W, b), \"r-\", label=\"Fited line\")\r\n",
        "plt.axis([0, 2, 0, 15])\r\n",
        "plt.legend()\r\n",
        "plt.show()"
      ],
      "execution_count": 16,
      "outputs": [
        {
          "output_type": "display_data",
          "data": {
            "image/png": "[encoded data removed]",
            "text/plain": [
              "<Figure size 432x288 with 1 Axes>"
            ]
          },
          "metadata": {
            "tags": [],
            "needs_background": "light"
          }
        }
      ]
    }
  ]
}