{
  "nbformat": 4,
  "nbformat_minor": 0,
  "metadata": {
    "colab": {
      "name": "TF2-LiR_2.ipynb",
      "provenance": [],
      "authorship_tag": "ABX9TyNC7GEe15CsIE8ANjWwuArg",
      "include_colab_link": true
    },
    "kernelspec": {
      "name": "python3",
      "display_name": "Python 3"
    }
  },
  "cells": [
    {
      "cell_type": "markdown",
      "metadata": {
        "id": "view-in-github",
        "colab_type": "text"
      },
      "source": [
        "<a href=\"https://colab.research.google.com/github/Ranjankraj/Shala/blob/main/TF2_LiR_2.ipynb\" target=\"_parent\"><img src=\"https://colab.research.google.com/assets/colab-badge.svg\" alt=\"Open In Colab\"/></a>"
      ]
    },
    {
      "cell_type": "code",
      "metadata": {
        "colab": {
          "base_uri": "https://localhost:8080/"
        },
        "id": "A09gr6qy7NaB",
        "outputId": "c16ec6db-7309-4189-b194-d264761947e0"
      },
      "source": [
        "import tensorflow as tf\r\n",
        "\r\n",
        "print(tf.__version__)"
      ],
      "execution_count": 14,
      "outputs": [
        {
          "output_type": "stream",
          "text": [
            "2.4.0\n"
          ],
          "name": "stdout"
        }
      ]
    },
    {
      "cell_type": "code",
      "metadata": {
        "id": "S3bZqWsS7k8B"
      },
      "source": [
        "import numpy as np\r\n",
        "\r\n",
        "X_data = 2 * np.random.rand(100,1)\r\n",
        "y_value = 3 * X_data + 4 + np.random.rand(100,1)"
      ],
      "execution_count": 15,
      "outputs": []
    },
    {
      "cell_type": "code",
      "metadata": {
        "colab": {
          "base_uri": "https://localhost:8080/",
          "height": 265
        },
        "id": "ZAILR8nx8JXv",
        "outputId": "96cca21d-29b0-46e2-fec5-b5a403f5e34d"
      },
      "source": [
        "%matplotlib inline\r\n",
        "import matplotlib.pyplot as plt\r\n",
        "\r\n",
        "plt.plot(X_data, y_value, 'b.')\r\n",
        "plt.axis([0,2, 0,15])\r\n",
        "plt.show() "
      ],
      "execution_count": 16,
      "outputs": [
        {
          "output_type": "display_data",
          "data": {
            "image/png": "[encoded data removed]",
            "text/plain": [
              "<Figure size 432x288 with 1 Axes>"
            ]
          },
          "metadata": {
            "tags": [],
            "needs_background": "light"
          }
        }
      ]
    },
    {
      "cell_type": "code",
      "metadata": {
        "id": "2SPzanr59AXS"
      },
      "source": [
        "def linear_regression(X, W, b):   #LiR model eq is y = WX + b\r\n",
        "  return tf.add(tf.matmul(W,X), b)      #we can also write W*X + b as it's operator overloading\r\n",
        "\r\n",
        "def mean_square(y_pred, y_true):\r\n",
        "  return tf.reduce_mean(tf.square(y_pred, y_true))"
      ],
      "execution_count": 17,
      "outputs": []
    },
    {
      "cell_type": "code",
      "metadata": {
        "id": "Plxqw9lG-NRj"
      },
      "source": [
        "learning_rate = 0.01\r\n",
        "optimizer = tf.optimizers.SGD(learning_rate)\r\n",
        "\r\n",
        "def run_optimization(X, y, W, b):\r\n",
        "  \r\n",
        "  with tf.GradientTape() as g:\r\n",
        "    pred = linear_regression(X, W, b)\r\n",
        "    loss = mean_square(pred, y)\r\n",
        "\r\n",
        "  gradients = g.gradient(loss, [W, b])\r\n",
        "\r\n",
        "  optimizer.apply_gradients(zip(gradients, [W, b]))"
      ],
      "execution_count": 18,
      "outputs": []
    },
    {
      "cell_type": "code",
      "metadata": {
        "id": "NAOqQ_PWBaqH"
      },
      "source": [
        "training_steps = 1000\r\n",
        "display_step = 50\r\n",
        "\r\n",
        "W = tf.Variable(np.random.rand(), name='Weight')\r\n",
        "b = tf.Variable(np.random.rand(), name='bias')\r\n",
        "\r\n",
        "for steps in range(1, training_steps + 1):\r\n",
        "\r\n",
        "  run_optimization(X_data, y_value, W, b)\r\n",
        "\r\n",
        "  if step % display_step == 0:\r\n",
        "    pred = linear_regression(X_data, W, b)\r\n",
        "    loss = mean_square(pred, y_value)\r\n",
        "    print(\"step: %i, loss: %f, W: %f, b: %f\" % (step, loss, W.numpy(), b.numpy()))"
      ],
      "execution_count": 20,
      "outputs": []
    }
  ]
}