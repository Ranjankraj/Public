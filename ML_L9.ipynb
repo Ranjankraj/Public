{
  "nbformat": 4,
  "nbformat_minor": 0,
  "metadata": {
    "colab": {
      "name": "ML_L9.ipynb",
      "provenance": [],
      "authorship_tag": "ABX9TyNHgBMLrt8ZodJh3/SxE6bI",
      "include_colab_link": true
    },
    "kernelspec": {
      "name": "python3",
      "display_name": "Python 3"
    }
  },
  "cells": [
    {
      "cell_type": "markdown",
      "metadata": {
        "id": "view-in-github",
        "colab_type": "text"
      },
      "source": [
        "<a href=\"https://colab.research.google.com/github/Ranjankraj/Shala/blob/main/ML_L9.ipynb\" target=\"_parent\"><img src=\"https://colab.research.google.com/assets/colab-badge.svg\" alt=\"Open In Colab\"/></a>"
      ]
    },
    {
      "cell_type": "code",
      "metadata": {
        "id": "KBm-XTRCgPO8"
      },
      "source": [
        "import numpy as np\r\n",
        "import matplotlib.pyplot as plt\r\n",
        "from sklearn.cluster import KMeans\r\n",
        "from sklearn.model_selection import train_test_split\r\n",
        "from sklearn.datasets import make_blobs"
      ],
      "execution_count": 1,
      "outputs": []
    },
    {
      "cell_type": "code",
      "metadata": {
        "colab": {
          "base_uri": "https://localhost:8080/",
          "height": 265
        },
        "id": "koFkpdk5gy59",
        "outputId": "930eff15-b27a-4d39-e223-0f2e220ea527"
      },
      "source": [
        "X, y = make_blobs(n_samples=1000, centers=5, cluster_std=.35, random_state=123)\r\n",
        "\r\n",
        "X_train, X_new = train_test_split(X, test_size=0.01)\r\n",
        "\r\n",
        "plt.scatter(X_train[:, 0], X_train[:,1])\r\n",
        "plt.show()"
      ],
      "execution_count": 2,
      "outputs": [
        {
          "output_type": "display_data",
          "data": {
            "image/png": "[encoded data removed]",
            "text/plain": [
              "<Figure size 432x288 with 1 Axes>"
            ]
          },
          "metadata": {
            "tags": [],
            "needs_background": "light"
          }
        }
      ]
    },
    {
      "cell_type": "code",
      "metadata": {
        "id": "F_YoX7T4jHw_"
      },
      "source": [
        "clusters = 4\r\n",
        "kmeans = KMeans(n_clusters=clusters)\r\n",
        "\r\n",
        "y_pred = kmeans.fit_predict(X_train)"
      ],
      "execution_count": 7,
      "outputs": []
    },
    {
      "cell_type": "code",
      "metadata": {
        "colab": {
          "base_uri": "https://localhost:8080/",
          "height": 265
        },
        "id": "GdE73qMejTSf",
        "outputId": "d6ab1104-b018-481d-a772-8a36f522a081"
      },
      "source": [
        "plt.scatter(X_train[:,0], X_train[:,1])\r\n",
        "plt.scatter(kmeans.cluster_centers_[:,0], kmeans.cluster_centers_[:,1], s=200, c='red')\r\n",
        "plt.show()"
      ],
      "execution_count": 8,
      "outputs": [
        {
          "output_type": "display_data",
          "data": {
            "image/png": "[encoded data removed]",
            "text/plain": [
              "<Figure size 432x288 with 1 Axes>"
            ]
          },
          "metadata": {
            "tags": [],
            "needs_background": "light"
          }
        }
      ]
    },
    {
      "cell_type": "code",
      "metadata": {
        "colab": {
          "base_uri": "https://localhost:8080/"
        },
        "id": "PLoMXS15j4c0",
        "outputId": "34b5d80d-577d-4f69-edba-b222aa58262f"
      },
      "source": [
        "y_pred[:20]"
      ],
      "execution_count": 9,
      "outputs": [
        {
          "output_type": "execute_result",
          "data": {
            "text/plain": [
              "array([2, 0, 3, 0, 0, 1, 0, 0, 1, 3, 2, 3, 1, 0, 2, 3, 1, 0, 3, 1],\n",
              "      dtype=int32)"
            ]
          },
          "metadata": {
            "tags": []
          },
          "execution_count": 9
        }
      ]
    },
    {
      "cell_type": "code",
      "metadata": {
        "colab": {
          "base_uri": "https://localhost:8080/"
        },
        "id": "2YP3zpnvkH90",
        "outputId": "c4652311-fcac-422d-9efa-e10497b3c9e3"
      },
      "source": [
        "kmeans.inertia_"
      ],
      "execution_count": 10,
      "outputs": [
        {
          "output_type": "execute_result",
          "data": {
            "text/plain": [
              "1008.6559084798537"
            ]
          },
          "metadata": {
            "tags": []
          },
          "execution_count": 10
        }
      ]
    },
    {
      "cell_type": "code",
      "metadata": {
        "colab": {
          "base_uri": "https://localhost:8080/"
        },
        "id": "Sy-hrYPYkZkF",
        "outputId": "329b452c-1a90-413c-9fd7-0ac793d42f84"
      },
      "source": [
        "kmeans.cluster_centers_"
      ],
      "execution_count": 11,
      "outputs": [
        {
          "output_type": "execute_result",
          "data": {
            "text/plain": [
              "array([[-0.43652711, -2.13166928],\n",
              "       [ 9.64567577,  3.69734956],\n",
              "       [-5.47526274,  1.04643951],\n",
              "       [ 4.15980534, -2.93435595]])"
            ]
          },
          "metadata": {
            "tags": []
          },
          "execution_count": 11
        }
      ]
    },
    {
      "cell_type": "code",
      "metadata": {
        "colab": {
          "base_uri": "https://localhost:8080/"
        },
        "id": "-7BncsNmkhfk",
        "outputId": "aa4faaf6-78c2-4c0c-af69-3c172956f493"
      },
      "source": [
        "kmeans.predict(X_new)"
      ],
      "execution_count": 12,
      "outputs": [
        {
          "output_type": "execute_result",
          "data": {
            "text/plain": [
              "array([1, 2, 0, 2, 0, 3, 1, 1, 2, 3], dtype=int32)"
            ]
          },
          "metadata": {
            "tags": []
          },
          "execution_count": 12
        }
      ]
    },
    {
      "cell_type": "code",
      "metadata": {
        "colab": {
          "base_uri": "https://localhost:8080/"
        },
        "id": "CYzc9fLhkrNH",
        "outputId": "69a31c4e-0220-4697-fb85-c2c2517a7d6f"
      },
      "source": [
        "kmeans.transform(X_new)"
      ],
      "execution_count": 13,
      "outputs": [
        {
          "output_type": "execute_result",
          "data": {
            "text/plain": [
              "array([[12.01289873,  0.3714535 , 15.67694382,  8.97120364],\n",
              "       [ 6.45217954, 15.73929374,  0.49556335, 10.91736607],\n",
              "       [ 0.17907021, 11.67593735,  6.10137769,  4.57696462],\n",
              "       [ 5.78717819, 15.40066844,  0.3162416 , 10.3002555 ],\n",
              "       [ 0.27078735, 11.69522417,  5.70020541,  4.87576522],\n",
              "       [ 4.63270067,  9.47160196, 10.54272548,  0.92567137],\n",
              "       [11.79835159,  0.15260606, 15.4920211 ,  8.75242863],\n",
              "       [11.34279043,  0.32327398, 15.10581061,  8.28337393],\n",
              "       [ 6.23189584, 15.27645151,  0.48697436, 10.6218586 ],\n",
              "       [ 5.21997198,  9.4631612 , 11.14010049,  1.24477191]])"
            ]
          },
          "metadata": {
            "tags": []
          },
          "execution_count": 13
        }
      ]
    },
    {
      "cell_type": "code",
      "metadata": {
        "colab": {
          "base_uri": "https://localhost:8080/",
          "height": 339
        },
        "id": "ZnPhLBdznU3w",
        "outputId": "7574e2c9-1032-4b61-926a-337088cc3fa8"
      },
      "source": [
        "from sklearn.metrics import silhouette_score\r\n",
        "kmeans_models = [KMeans(n_clusters=k, random_state=123).fit(X) for k in range(1,10)]\r\n",
        "\r\n",
        "silhouette_scores = [silhouette_score(X, model.labels_) for model in kmeans_models[1:]]\r\n",
        "\r\n",
        "plt.figure(figsize=(10,5))\r\n",
        "plt.plot(range(2, 10), silhouette_scores, \"bo-\")\r\n",
        "plt.xlabel('$k$', fontsize=14)\r\n",
        "plt.ylabel('Silhouette score', fontsize=14)\r\n",
        "plt.show()"
      ],
      "execution_count": 16,
      "outputs": [
        {
          "output_type": "display_data",
          "data": {
            "image/png": "[encoded data removed]",
            "text/plain": [
              "<Figure size 720x360 with 1 Axes>"
            ]
          },
          "metadata": {
            "tags": [],
            "needs_background": "light"
          }
        }
      ]
    },
    {
      "cell_type": "code",
      "metadata": {
        "colab": {
          "base_uri": "https://localhost:8080/",
          "height": 265
        },
        "id": "MhSu93q4pLSE",
        "outputId": "51ecb289-378e-43f0-ef92-0a1d38d80c86"
      },
      "source": [
        "kmeans = KMeans(n_clusters=5)\r\n",
        "\r\n",
        "y_pred = kmeans.fit_predict(X_train)\r\n",
        "\r\n",
        "plt.scatter(X_train[:,0], X_train[:,1])\r\n",
        "plt.scatter(kmeans.cluster_centers_[:, 0], kmeans.cluster_centers_[:, 1], s=200, c='red')\r\n",
        "plt.show()"
      ],
      "execution_count": 17,
      "outputs": [
        {
          "output_type": "display_data",
          "data": {
            "image/png": "[encoded data removed]",
            "text/plain": [
              "<Figure size 432x288 with 1 Axes>"
            ]
          },
          "metadata": {
            "tags": [],
            "needs_background": "light"
          }
        }
      ]
    }
  ]
}