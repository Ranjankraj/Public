{
  "nbformat": 4,
  "nbformat_minor": 0,
  "metadata": {
    "colab": {
      "name": "TF2_NN_4.ipynb",
      "provenance": [],
      "authorship_tag": "ABX9TyNef4Q531QsPXKWW1c276T1",
      "include_colab_link": true
    },
    "kernelspec": {
      "name": "python3",
      "display_name": "Python 3"
    }
  },
  "cells": [
    {
      "cell_type": "markdown",
      "metadata": {
        "id": "view-in-github",
        "colab_type": "text"
      },
      "source": [
        "<a href=\"https://colab.research.google.com/github/Ranjankraj/Shala/blob/main/TF2_NN_4.ipynb\" target=\"_parent\"><img src=\"https://colab.research.google.com/assets/colab-badge.svg\" alt=\"Open In Colab\"/></a>"
      ]
    },
    {
      "cell_type": "code",
      "metadata": {
        "colab": {
          "base_uri": "https://localhost:8080/"
        },
        "id": "tt-eV7IxiIDY",
        "outputId": "fa5a207a-f64a-419a-fefe-b013fd6159ea"
      },
      "source": [
        "# import tensorflow module. Check API version.\r\n",
        "import tensorflow as tf\r\n",
        "\r\n",
        "print (tf.__version__)\r\n",
        "\r\n",
        "\r\n",
        "# required for TF to run within docker using GPU (ignore otherwise)\r\n",
        "\r\n",
        "# gpu = tf.config.experimental.list_physical_devices('GPU')\r\n",
        "# tf.config.experimental.set_memory_growth(gpu[0], True)"
      ],
      "execution_count": 1,
      "outputs": [
        {
          "output_type": "stream",
          "text": [
            "2.4.0\n"
          ],
          "name": "stdout"
        }
      ]
    },
    {
      "cell_type": "code",
      "metadata": {
        "colab": {
          "base_uri": "https://localhost:8080/"
        },
        "id": "hkRgwGaFr3HI",
        "outputId": "8852c80a-fc15-4217-9279-fe800a8934cc"
      },
      "source": [
        "# grabing the MNIST dataset (may take time the first time)\r\n",
        "print(\"[INFO] downloading MNIST...\")\r\n",
        "\r\n",
        "mnist = tf.keras.datasets.mnist\r\n",
        "\r\n",
        "(x_train, y_train), (x_test, y_test) = mnist.load_data()\r\n",
        "\r\n",
        "# scaleing data to normalized 0.0 - 1.0 range\r\n",
        "x_train, x_test = x_train / 255.0, x_test / 255.0"
      ],
      "execution_count": 2,
      "outputs": [
        {
          "output_type": "stream",
          "text": [
            "[INFO] downloading MNIST...\n",
            "Downloading data from https://storage.googleapis.com/tensorflow/tf-keras-datasets/mnist.npz\n",
            "11493376/11490434 [==============================] - 0s 0us/step\n"
          ],
          "name": "stdout"
        }
      ]
    },
    {
      "cell_type": "code",
      "metadata": {
        "id": "D7LONNkUr6gL"
      },
      "source": [
        "# useing tf.keras sequential API to define simple multiple layer perceptron model\r\n",
        "model = tf.keras.Sequential([tf.keras.layers.Flatten(input_shape=(28, 28)),   #flattening 28*28 input into 784 * 1\r\n",
        "                            tf.keras.layers.Dense(units=128, activation='relu'),    #128 perceptrons for first layer\r\n",
        "                            tf.keras.layers.Dense(units=10) ])                        # output with 10 classes\r\n"
      ],
      "execution_count": 3,
      "outputs": []
    },
    {
      "cell_type": "code",
      "metadata": {
        "colab": {
          "base_uri": "https://localhost:8080/"
        },
        "id": "Uo09_xFVw8wC",
        "outputId": "eb147cfa-db0e-4131-b931-7710d2317db6"
      },
      "source": [
        "#compling the model\r\n",
        "model.compile(\r\n",
        "    optimizer=tf.keras.optimizers.SGD(lr=0.01),                           #Stochastic Gradient Descent\r\n",
        "    loss=tf.keras.losses.SparseCategoricalCrossentropy(from_logits=True),\r\n",
        "    metrics=['accuracy']\r\n",
        ")\r\n",
        "\r\n",
        "#printing the summary of the model\r\n",
        "model.summary()"
      ],
      "execution_count": 4,
      "outputs": [
        {
          "output_type": "stream",
          "text": [
            "Model: \"sequential\"\n",
            "_________________________________________________________________\n",
            "Layer (type)                 Output Shape              Param #   \n",
            "=================================================================\n",
            "flatten (Flatten)            (None, 784)               0         \n",
            "_________________________________________________________________\n",
            "dense (Dense)                (None, 128)               100480    \n",
            "_________________________________________________________________\n",
            "dense_1 (Dense)              (None, 10)                1290      \n",
            "=================================================================\n",
            "Total params: 101,770\n",
            "Trainable params: 101,770\n",
            "Non-trainable params: 0\n",
            "_________________________________________________________________\n"
          ],
          "name": "stdout"
        }
      ]
    },
    {
      "cell_type": "code",
      "metadata": {
        "colab": {
          "base_uri": "https://localhost:8080/"
        },
        "id": "5LjsUVmJ0zK7",
        "outputId": "e2934962-7110-45f6-af1a-fe86a32138eb"
      },
      "source": [
        "x_train.shape"
      ],
      "execution_count": 5,
      "outputs": [
        {
          "output_type": "execute_result",
          "data": {
            "text/plain": [
              "(60000, 28, 28)"
            ]
          },
          "metadata": {
            "tags": []
          },
          "execution_count": 5
        }
      ]
    },
    {
      "cell_type": "code",
      "metadata": {
        "colab": {
          "base_uri": "https://localhost:8080/"
        },
        "id": "w6XRGHtO01qk",
        "outputId": "e2d43a1d-70e7-4fcf-fcb4-44a3738115c7"
      },
      "source": [
        "y_train.shape"
      ],
      "execution_count": 6,
      "outputs": [
        {
          "output_type": "execute_result",
          "data": {
            "text/plain": [
              "(60000,)"
            ]
          },
          "metadata": {
            "tags": []
          },
          "execution_count": 6
        }
      ]
    },
    {
      "cell_type": "code",
      "metadata": {
        "colab": {
          "base_uri": "https://localhost:8080/"
        },
        "id": "0XtwJPnm03N9",
        "outputId": "c8655301-6b16-4b7a-9d8d-9db2643b14b9"
      },
      "source": [
        "model.fit(x_train, y_train, epochs=20)"
      ],
      "execution_count": 7,
      "outputs": [
        {
          "output_type": "stream",
          "text": [
            "Epoch 1/20\n",
            "1875/1875 [==============================] - 3s 1ms/step - loss: 1.0655 - accuracy: 0.7168\n",
            "Epoch 2/20\n",
            "1875/1875 [==============================] - 3s 1ms/step - loss: 0.3605 - accuracy: 0.8998\n",
            "Epoch 3/20\n",
            "1875/1875 [==============================] - 3s 1ms/step - loss: 0.2972 - accuracy: 0.9171\n",
            "Epoch 4/20\n",
            "1875/1875 [==============================] - 3s 1ms/step - loss: 0.2696 - accuracy: 0.9242\n",
            "Epoch 5/20\n",
            "1875/1875 [==============================] - 3s 1ms/step - loss: 0.2421 - accuracy: 0.9328\n",
            "Epoch 6/20\n",
            "1875/1875 [==============================] - 3s 2ms/step - loss: 0.2268 - accuracy: 0.9375\n",
            "Epoch 7/20\n",
            "1875/1875 [==============================] - 3s 2ms/step - loss: 0.2024 - accuracy: 0.9443\n",
            "Epoch 8/20\n",
            "1875/1875 [==============================] - 3s 2ms/step - loss: 0.1937 - accuracy: 0.9466\n",
            "Epoch 9/20\n",
            "1875/1875 [==============================] - 3s 1ms/step - loss: 0.1825 - accuracy: 0.9502\n",
            "Epoch 10/20\n",
            "1875/1875 [==============================] - 3s 1ms/step - loss: 0.1714 - accuracy: 0.9522\n",
            "Epoch 11/20\n",
            "1875/1875 [==============================] - 3s 1ms/step - loss: 0.1564 - accuracy: 0.9560\n",
            "Epoch 12/20\n",
            "1875/1875 [==============================] - 3s 1ms/step - loss: 0.1468 - accuracy: 0.9587\n",
            "Epoch 13/20\n",
            "1875/1875 [==============================] - 3s 1ms/step - loss: 0.1458 - accuracy: 0.9598\n",
            "Epoch 14/20\n",
            "1875/1875 [==============================] - 3s 1ms/step - loss: 0.1346 - accuracy: 0.9621\n",
            "Epoch 15/20\n",
            "1875/1875 [==============================] - 3s 1ms/step - loss: 0.1297 - accuracy: 0.9649\n",
            "Epoch 16/20\n",
            "1875/1875 [==============================] - 3s 1ms/step - loss: 0.1234 - accuracy: 0.9658\n",
            "Epoch 17/20\n",
            "1875/1875 [==============================] - 3s 1ms/step - loss: 0.1202 - accuracy: 0.9670\n",
            "Epoch 18/20\n",
            "1875/1875 [==============================] - 3s 1ms/step - loss: 0.1135 - accuracy: 0.9685\n",
            "Epoch 19/20\n",
            "1875/1875 [==============================] - 3s 1ms/step - loss: 0.1086 - accuracy: 0.9699\n",
            "Epoch 20/20\n",
            "1875/1875 [==============================] - 3s 1ms/step - loss: 0.1064 - accuracy: 0.9696\n"
          ],
          "name": "stdout"
        },
        {
          "output_type": "execute_result",
          "data": {
            "text/plain": [
              "<tensorflow.python.keras.callbacks.History at 0x7f3958d4b550>"
            ]
          },
          "metadata": {
            "tags": []
          },
          "execution_count": 7
        }
      ]
    },
    {
      "cell_type": "code",
      "metadata": {
        "colab": {
          "base_uri": "https://localhost:8080/"
        },
        "id": "21AeTXfm1Pnz",
        "outputId": "5223e438-363f-4d59-bc0b-fe05bd5961c0"
      },
      "source": [
        "loss, accuracy = model.evaluate(x_test, y_test, verbose=2)"
      ],
      "execution_count": 8,
      "outputs": [
        {
          "output_type": "stream",
          "text": [
            "313/313 - 0s - loss: 0.1143 - accuracy: 0.9658\n"
          ],
          "name": "stdout"
        }
      ]
    },
    {
      "cell_type": "code",
      "metadata": {
        "colab": {
          "base_uri": "https://localhost:8080/",
          "height": 239
        },
        "id": "JaxwLWfG14B3",
        "outputId": "733c5cc3-90ac-4bbd-aac0-972814970142"
      },
      "source": [
        "%matplotlib inline\r\n",
        "import matplotlib.pyplot as plt\r\n",
        "import numpy as np\r\n",
        "\r\n",
        "# seting up matplotlib fig, and size to fit 3x4 pics\r\n",
        "nrows = 1\r\n",
        "ncols = 5\r\n",
        "fig = plt.gcf()\r\n",
        "fig.set_size_inches(ncols*4, nrows*4)\r\n",
        "\r\n",
        "# predict images from validation set\r\n",
        "n_images = 5\r\n",
        "test_images = x_test[:n_images]\r\n",
        "predictions = model.predict(test_images)\r\n",
        "\r\n",
        "# visualize image and model prediction\r\n",
        "for i in range(n_images):\r\n",
        "    # set up subplot; subplot indices start at 1\r\n",
        "    sp = plt.subplot(nrows, ncols, i + 1, title=\"pred: %i\" % np.argmax(predictions[i]))\r\n",
        "    sp.axis('Off') # don't show axes (or gridlines)\r\n",
        "    plt.imshow(np.reshape(test_images[i], [28, 28]), cmap='gray')\r\n",
        "\r\n",
        "plt.show()"
      ],
      "execution_count": 9,
      "outputs": [
        {
          "output_type": "display_data",
          "data": {
            "image/png": "[encoded data removed]",
            "text/plain": [
              "<Figure size 1440x288 with 5 Axes>"
            ]
          },
          "metadata": {
            "tags": [],
            "needs_background": "light"
          }
        }
      ]
    },
    {
      "cell_type": "code",
      "metadata": {
        "colab": {
          "base_uri": "https://localhost:8080/"
        },
        "id": "f3A_szCS4CVy",
        "outputId": "9f51daca-ff7e-4caa-87c1-015ae84f2ee1"
      },
      "source": [
        "# add softmax layer to extend the model\r\n",
        "probability_model = tf.keras.Sequential([ model, tf.keras.layers.Softmax()] )   #here we do not have more training data to use\r\n",
        "\r\n",
        "probability_model.summary()"
      ],
      "execution_count": 10,
      "outputs": [
        {
          "output_type": "stream",
          "text": [
            "Model: \"sequential_1\"\n",
            "_________________________________________________________________\n",
            "Layer (type)                 Output Shape              Param #   \n",
            "=================================================================\n",
            "sequential (Sequential)      (None, 10)                101770    \n",
            "_________________________________________________________________\n",
            "softmax (Softmax)            (None, 10)                0         \n",
            "=================================================================\n",
            "Total params: 101,770\n",
            "Trainable params: 101,770\n",
            "Non-trainable params: 0\n",
            "_________________________________________________________________\n"
          ],
          "name": "stdout"
        }
      ]
    },
    {
      "cell_type": "code",
      "metadata": {
        "colab": {
          "base_uri": "https://localhost:8080/"
        },
        "id": "HjGhKAJN4g2D",
        "outputId": "398456e1-74cc-486b-fa01-e679a9721b64"
      },
      "source": [
        "print (model.predict(x_test[5].reshape(1, 28, 28)))   #prints numbers associated with the model"
      ],
      "execution_count": 11,
      "outputs": [
        {
          "output_type": "stream",
          "text": [
            "[[-4.5924883   9.158184    0.12222873  1.0143241  -1.5707972  -1.5195698\n",
            "  -2.7778819   3.719855    1.8253453  -0.5955988 ]]\n"
          ],
          "name": "stdout"
        }
      ]
    },
    {
      "cell_type": "code",
      "metadata": {
        "colab": {
          "base_uri": "https://localhost:8080/"
        },
        "id": "f04Q95dB4p4j",
        "outputId": "6e3f8eb6-ea16-4ce5-cfa2-8290496d1fb4"
      },
      "source": [
        "print (probability_model.predict(x_test[5].reshape(1, 28, 28)))   #prints probability associated with the model because of softmax output"
      ],
      "execution_count": 12,
      "outputs": [
        {
          "output_type": "stream",
          "text": [
            "[[1.0611284e-06 9.9450976e-01 1.1839776e-04 2.8891870e-04 2.1780699e-05\n",
            "  2.2925544e-05 6.5139075e-06 4.3228772e-03 6.5012602e-04 5.7755697e-05]]\n"
          ],
          "name": "stdout"
        }
      ]
    },
    {
      "cell_type": "code",
      "metadata": {
        "colab": {
          "base_uri": "https://localhost:8080/"
        },
        "id": "nICd-6UZ4sAb",
        "outputId": "fa45cebe-4573-478c-85bf-8934ef3b4ae6"
      },
      "source": [
        "print (np.argmax(probability_model.predict(x_test[5].reshape(1, 28, 28))))    #prints argument"
      ],
      "execution_count": 13,
      "outputs": [
        {
          "output_type": "stream",
          "text": [
            "1\n"
          ],
          "name": "stdout"
        }
      ]
    },
    {
      "cell_type": "code",
      "metadata": {
        "id": "Ea30z6gGsxgz"
      },
      "source": [
        "# use tf.keras Functional API to define simple Multi Layer Perceptron model\r\n",
        "x_i = tf.keras.layers.Input(shape=(28,28))\r\n",
        "x_1 = tf.keras.layers.Flatten()(x_i)\r\n",
        "x_2 = tf.keras.layers.Dense(units=128, activation='relu')(x_1)\r\n",
        "x3 = tf.keras.layers.Dense(units=10)(x_2)\r\n",
        "x_o = tf.keras.layers.Softmax()(x3)\r\n",
        "\r\n",
        "model2 = tf.keras.Model(inputs=x_i, outputs=x_o)"
      ],
      "execution_count": 14,
      "outputs": []
    },
    {
      "cell_type": "code",
      "metadata": {
        "colab": {
          "base_uri": "https://localhost:8080/"
        },
        "id": "pTLnNH1xumYm",
        "outputId": "d26b178d-e7b4-4c0d-a270-fd949edae2e7"
      },
      "source": [
        "#compile the model\r\n",
        "\r\n",
        "model2.compile(optimizer=tf.keras.optimizers.SGD(lr=0.01),\r\n",
        "               loss=tf.keras.losses.SparseCategoricalCrossentropy(from_logits=True),\r\n",
        "               metrics=['accuracy']\r\n",
        ")\r\n",
        "\r\n",
        "model2.summary()"
      ],
      "execution_count": 16,
      "outputs": [
        {
          "output_type": "stream",
          "text": [
            "Model: \"model\"\n",
            "_________________________________________________________________\n",
            "Layer (type)                 Output Shape              Param #   \n",
            "=================================================================\n",
            "input_1 (InputLayer)         [(None, 28, 28)]          0         \n",
            "_________________________________________________________________\n",
            "flatten_1 (Flatten)          (None, 784)               0         \n",
            "_________________________________________________________________\n",
            "dense_2 (Dense)              (None, 128)               100480    \n",
            "_________________________________________________________________\n",
            "dense_3 (Dense)              (None, 10)                1290      \n",
            "_________________________________________________________________\n",
            "softmax_1 (Softmax)          (None, 10)                0         \n",
            "=================================================================\n",
            "Total params: 101,770\n",
            "Trainable params: 101,770\n",
            "Non-trainable params: 0\n",
            "_________________________________________________________________\n"
          ],
          "name": "stdout"
        }
      ]
    },
    {
      "cell_type": "code",
      "metadata": {
        "colab": {
          "base_uri": "https://localhost:8080/"
        },
        "id": "19BOOXJsvW_R",
        "outputId": "c17c3dfe-03de-4147-b7a9-6f0f76c3d702"
      },
      "source": [
        "model2.fit(x_train, y_train, epochs=20)"
      ],
      "execution_count": 17,
      "outputs": [
        {
          "output_type": "stream",
          "text": [
            "Epoch 1/20\n",
            "1875/1875 [==============================] - 3s 2ms/step - loss: 2.2003 - accuracy: 0.3103\n",
            "Epoch 2/20\n",
            "1875/1875 [==============================] - 3s 2ms/step - loss: 1.8045 - accuracy: 0.7608\n",
            "Epoch 3/20\n",
            "1875/1875 [==============================] - 3s 2ms/step - loss: 1.7133 - accuracy: 0.7996\n",
            "Epoch 4/20\n",
            "1875/1875 [==============================] - 3s 2ms/step - loss: 1.6850 - accuracy: 0.8101\n",
            "Epoch 5/20\n",
            "1875/1875 [==============================] - 3s 2ms/step - loss: 1.6712 - accuracy: 0.8157\n",
            "Epoch 6/20\n",
            "1875/1875 [==============================] - 3s 2ms/step - loss: 1.6637 - accuracy: 0.8196\n",
            "Epoch 7/20\n",
            "1875/1875 [==============================] - 3s 2ms/step - loss: 1.6565 - accuracy: 0.8231\n",
            "Epoch 8/20\n",
            "1875/1875 [==============================] - 3s 2ms/step - loss: 1.6535 - accuracy: 0.8243\n",
            "Epoch 9/20\n",
            "1875/1875 [==============================] - 3s 2ms/step - loss: 1.6473 - accuracy: 0.8294\n",
            "Epoch 10/20\n",
            "1875/1875 [==============================] - 3s 2ms/step - loss: 1.6446 - accuracy: 0.8298\n",
            "Epoch 11/20\n",
            "1875/1875 [==============================] - 3s 2ms/step - loss: 1.5866 - accuracy: 0.9027\n",
            "Epoch 12/20\n",
            "1875/1875 [==============================] - 3s 2ms/step - loss: 1.5714 - accuracy: 0.9115\n",
            "Epoch 13/20\n",
            "1875/1875 [==============================] - 3s 2ms/step - loss: 1.5643 - accuracy: 0.9162\n",
            "Epoch 14/20\n",
            "1875/1875 [==============================] - 3s 2ms/step - loss: 1.5611 - accuracy: 0.9175\n",
            "Epoch 15/20\n",
            "1875/1875 [==============================] - 3s 2ms/step - loss: 1.5580 - accuracy: 0.9185\n",
            "Epoch 16/20\n",
            "1875/1875 [==============================] - 3s 2ms/step - loss: 1.5548 - accuracy: 0.9221\n",
            "Epoch 17/20\n",
            "1875/1875 [==============================] - 3s 2ms/step - loss: 1.5519 - accuracy: 0.9237\n",
            "Epoch 18/20\n",
            "1875/1875 [==============================] - 3s 2ms/step - loss: 1.5473 - accuracy: 0.9279\n",
            "Epoch 19/20\n",
            "1875/1875 [==============================] - 3s 2ms/step - loss: 1.5467 - accuracy: 0.9279\n",
            "Epoch 20/20\n",
            "1875/1875 [==============================] - 3s 2ms/step - loss: 1.5458 - accuracy: 0.9285\n"
          ],
          "name": "stdout"
        },
        {
          "output_type": "execute_result",
          "data": {
            "text/plain": [
              "<tensorflow.python.keras.callbacks.History at 0x7f39555f8630>"
            ]
          },
          "metadata": {
            "tags": []
          },
          "execution_count": 17
        }
      ]
    },
    {
      "cell_type": "code",
      "metadata": {
        "colab": {
          "base_uri": "https://localhost:8080/"
        },
        "id": "SHdcQqGivv3E",
        "outputId": "ceeb8af4-eeb2-476e-c186-e19ea8252b9c"
      },
      "source": [
        "loss, accuracy = model2.evaluate(x_test, y_test, verbose=2)"
      ],
      "execution_count": 22,
      "outputs": [
        {
          "output_type": "stream",
          "text": [
            "313/313 - 0s - loss: 1.5416 - accuracy: 0.9329\n"
          ],
          "name": "stdout"
        }
      ]
    }
  ]
}