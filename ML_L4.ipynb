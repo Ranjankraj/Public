{
  "nbformat": 4,
  "nbformat_minor": 0,
  "metadata": {
    "colab": {
      "name": "ML_L4.ipynb",
      "provenance": [],
      "authorship_tag": "ABX9TyNIjPU39+8yqshCPcAqKePY",
      "include_colab_link": true
    },
    "kernelspec": {
      "name": "python3",
      "display_name": "Python 3"
    }
  },
  "cells": [
    {
      "cell_type": "markdown",
      "metadata": {
        "id": "view-in-github",
        "colab_type": "text"
      },
      "source": [
        "<a href=\"https://colab.research.google.com/github/Ranjankraj/Shala/blob/main/ML_L4.ipynb\" target=\"_parent\"><img src=\"https://colab.research.google.com/assets/colab-badge.svg\" alt=\"Open In Colab\"/></a>"
      ]
    },
    {
      "cell_type": "code",
      "metadata": {
        "id": "bTeYWhBrUwkf"
      },
      "source": [
        "import pandas as pd\r\n",
        "import numpy as np\r\n",
        "import matplotlib.pyplot as plt\r\n",
        "import seaborn as sns\r\n",
        "\r\n",
        "import matplotlib.ticker as ticker\r\n",
        "from sklearn.datasets import california_housing\r\n",
        "from scipy import stats\r\n",
        "\r\n",
        "from sklearn import linear_model\r\n",
        "from sklearn import preprocessing\r\n",
        "from sklearn.model_selection import train_test_split\r\n",
        "from sklearn.linear_model import LinearRegression, Ridge\r\n",
        "from sklearn.metrics import r2_score, mean_squared_error\r\n",
        "from sklearn.linear_model import LogisticRegression\r\n",
        "from sklearn import metrics\r\n",
        "from sklearn import svm\r\n",
        "\r\n",
        "import warnings\r\n",
        "warnings.filterwarnings(\"ignore\")"
      ],
      "execution_count": 61,
      "outputs": []
    },
    {
      "cell_type": "code",
      "metadata": {
        "colab": {
          "base_uri": "https://localhost:8080/"
        },
        "id": "IM8gO9MvW-Af",
        "outputId": "accf9d14-66d6-490e-dcc0-fa8c3fd34d86"
      },
      "source": [
        "housing_data = california_housing.fetch_california_housing()\r\n",
        "housing_data"
      ],
      "execution_count": 62,
      "outputs": [
        {
          "output_type": "execute_result",
          "data": {
            "text/plain": [
              "{'DESCR': '.. _california_housing_dataset:\\n\\nCalifornia Housing dataset\\n--------------------------\\n\\n**Data Set Characteristics:**\\n\\n    :Number of Instances: 20640\\n\\n    :Number of Attributes: 8 numeric, predictive attributes and the target\\n\\n    :Attribute Information:\\n        - MedInc        median income in block\\n        - HouseAge      median house age in block\\n        - AveRooms      average number of rooms\\n        - AveBedrms     average number of bedrooms\\n        - Population    block population\\n        - AveOccup      average house occupancy\\n        - Latitude      house block latitude\\n        - Longitude     house block longitude\\n\\n    :Missing Attribute Values: None\\n\\nThis dataset was obtained from the StatLib repository.\\nhttp://lib.stat.cmu.edu/datasets/\\n\\nThe target variable is the median house value for California districts.\\n\\nThis dataset was derived from the 1990 U.S. census, using one row per census\\nblock group. A block group is the smallest geographical unit for which the U.S.\\nCensus Bureau publishes sample data (a block group typically has a population\\nof 600 to 3,000 people).\\n\\nIt can be downloaded/loaded using the\\n:func:`sklearn.datasets.fetch_california_housing` function.\\n\\n.. topic:: References\\n\\n    - Pace, R. Kelley and Ronald Barry, Sparse Spatial Autoregressions,\\n      Statistics and Probability Letters, 33 (1997) 291-297\\n',\n",
              " 'data': array([[   8.3252    ,   41.        ,    6.98412698, ...,    2.55555556,\n",
              "           37.88      , -122.23      ],\n",
              "        [   8.3014    ,   21.        ,    6.23813708, ...,    2.10984183,\n",
              "           37.86      , -122.22      ],\n",
              "        [   7.2574    ,   52.        ,    8.28813559, ...,    2.80225989,\n",
              "           37.85      , -122.24      ],\n",
              "        ...,\n",
              "        [   1.7       ,   17.        ,    5.20554273, ...,    2.3256351 ,\n",
              "           39.43      , -121.22      ],\n",
              "        [   1.8672    ,   18.        ,    5.32951289, ...,    2.12320917,\n",
              "           39.43      , -121.32      ],\n",
              "        [   2.3886    ,   16.        ,    5.25471698, ...,    2.61698113,\n",
              "           39.37      , -121.24      ]]),\n",
              " 'feature_names': ['MedInc',\n",
              "  'HouseAge',\n",
              "  'AveRooms',\n",
              "  'AveBedrms',\n",
              "  'Population',\n",
              "  'AveOccup',\n",
              "  'Latitude',\n",
              "  'Longitude'],\n",
              " 'target': array([4.526, 3.585, 3.521, ..., 0.923, 0.847, 0.894])}"
            ]
          },
          "metadata": {
            "tags": []
          },
          "execution_count": 62
        }
      ]
    },
    {
      "cell_type": "code",
      "metadata": {
        "colab": {
          "base_uri": "https://localhost:8080/",
          "height": 423
        },
        "id": "AQNkFS9dX9KK",
        "outputId": "327d0d09-8ad0-46aa-8d2a-9773071d002a"
      },
      "source": [
        "Features = pd.DataFrame(housing_data.data, columns=housing_data.feature_names)\r\n",
        "Target = pd.DataFrame(housing_data.target, columns=['Target'])\r\n",
        "df = Features.join(Target)\r\n",
        "df"
      ],
      "execution_count": 63,
      "outputs": [
        {
          "output_type": "execute_result",
          "data": {
            "text/html": [
              "<div>\n",
              "<style scoped>\n",
              "    .dataframe tbody tr th:only-of-type {\n",
              "        vertical-align: middle;\n",
              "    }\n",
              "\n",
              "    .dataframe tbody tr th {\n",
              "        vertical-align: top;\n",
              "    }\n",
              "\n",
              "    .dataframe thead th {\n",
              "        text-align: right;\n",
              "    }\n",
              "</style>\n",
              "<table border=\"1\" class=\"dataframe\">\n",
              "  <thead>\n",
              "    <tr style=\"text-align: right;\">\n",
              "      <th></th>\n",
              "      <th>MedInc</th>\n",
              "      <th>HouseAge</th>\n",
              "      <th>AveRooms</th>\n",
              "      <th>AveBedrms</th>\n",
              "      <th>Population</th>\n",
              "      <th>AveOccup</th>\n",
              "      <th>Latitude</th>\n",
              "      <th>Longitude</th>\n",
              "      <th>Target</th>\n",
              "    </tr>\n",
              "  </thead>\n",
              "  <tbody>\n",
              "    <tr>\n",
              "      <th>0</th>\n",
              "      <td>8.3252</td>\n",
              "      <td>41.0</td>\n",
              "      <td>6.984127</td>\n",
              "      <td>1.023810</td>\n",
              "      <td>322.0</td>\n",
              "      <td>2.555556</td>\n",
              "      <td>37.88</td>\n",
              "      <td>-122.23</td>\n",
              "      <td>4.526</td>\n",
              "    </tr>\n",
              "    <tr>\n",
              "      <th>1</th>\n",
              "      <td>8.3014</td>\n",
              "      <td>21.0</td>\n",
              "      <td>6.238137</td>\n",
              "      <td>0.971880</td>\n",
              "      <td>2401.0</td>\n",
              "      <td>2.109842</td>\n",
              "      <td>37.86</td>\n",
              "      <td>-122.22</td>\n",
              "      <td>3.585</td>\n",
              "    </tr>\n",
              "    <tr>\n",
              "      <th>2</th>\n",
              "      <td>7.2574</td>\n",
              "      <td>52.0</td>\n",
              "      <td>8.288136</td>\n",
              "      <td>1.073446</td>\n",
              "      <td>496.0</td>\n",
              "      <td>2.802260</td>\n",
              "      <td>37.85</td>\n",
              "      <td>-122.24</td>\n",
              "      <td>3.521</td>\n",
              "    </tr>\n",
              "    <tr>\n",
              "      <th>3</th>\n",
              "      <td>5.6431</td>\n",
              "      <td>52.0</td>\n",
              "      <td>5.817352</td>\n",
              "      <td>1.073059</td>\n",
              "      <td>558.0</td>\n",
              "      <td>2.547945</td>\n",
              "      <td>37.85</td>\n",
              "      <td>-122.25</td>\n",
              "      <td>3.413</td>\n",
              "    </tr>\n",
              "    <tr>\n",
              "      <th>4</th>\n",
              "      <td>3.8462</td>\n",
              "      <td>52.0</td>\n",
              "      <td>6.281853</td>\n",
              "      <td>1.081081</td>\n",
              "      <td>565.0</td>\n",
              "      <td>2.181467</td>\n",
              "      <td>37.85</td>\n",
              "      <td>-122.25</td>\n",
              "      <td>3.422</td>\n",
              "    </tr>\n",
              "    <tr>\n",
              "      <th>...</th>\n",
              "      <td>...</td>\n",
              "      <td>...</td>\n",
              "      <td>...</td>\n",
              "      <td>...</td>\n",
              "      <td>...</td>\n",
              "      <td>...</td>\n",
              "      <td>...</td>\n",
              "      <td>...</td>\n",
              "      <td>...</td>\n",
              "    </tr>\n",
              "    <tr>\n",
              "      <th>20635</th>\n",
              "      <td>1.5603</td>\n",
              "      <td>25.0</td>\n",
              "      <td>5.045455</td>\n",
              "      <td>1.133333</td>\n",
              "      <td>845.0</td>\n",
              "      <td>2.560606</td>\n",
              "      <td>39.48</td>\n",
              "      <td>-121.09</td>\n",
              "      <td>0.781</td>\n",
              "    </tr>\n",
              "    <tr>\n",
              "      <th>20636</th>\n",
              "      <td>2.5568</td>\n",
              "      <td>18.0</td>\n",
              "      <td>6.114035</td>\n",
              "      <td>1.315789</td>\n",
              "      <td>356.0</td>\n",
              "      <td>3.122807</td>\n",
              "      <td>39.49</td>\n",
              "      <td>-121.21</td>\n",
              "      <td>0.771</td>\n",
              "    </tr>\n",
              "    <tr>\n",
              "      <th>20637</th>\n",
              "      <td>1.7000</td>\n",
              "      <td>17.0</td>\n",
              "      <td>5.205543</td>\n",
              "      <td>1.120092</td>\n",
              "      <td>1007.0</td>\n",
              "      <td>2.325635</td>\n",
              "      <td>39.43</td>\n",
              "      <td>-121.22</td>\n",
              "      <td>0.923</td>\n",
              "    </tr>\n",
              "    <tr>\n",
              "      <th>20638</th>\n",
              "      <td>1.8672</td>\n",
              "      <td>18.0</td>\n",
              "      <td>5.329513</td>\n",
              "      <td>1.171920</td>\n",
              "      <td>741.0</td>\n",
              "      <td>2.123209</td>\n",
              "      <td>39.43</td>\n",
              "      <td>-121.32</td>\n",
              "      <td>0.847</td>\n",
              "    </tr>\n",
              "    <tr>\n",
              "      <th>20639</th>\n",
              "      <td>2.3886</td>\n",
              "      <td>16.0</td>\n",
              "      <td>5.254717</td>\n",
              "      <td>1.162264</td>\n",
              "      <td>1387.0</td>\n",
              "      <td>2.616981</td>\n",
              "      <td>39.37</td>\n",
              "      <td>-121.24</td>\n",
              "      <td>0.894</td>\n",
              "    </tr>\n",
              "  </tbody>\n",
              "</table>\n",
              "<p>20640 rows × 9 columns</p>\n",
              "</div>"
            ],
            "text/plain": [
              "       MedInc  HouseAge  AveRooms  ...  Latitude  Longitude  Target\n",
              "0      8.3252      41.0  6.984127  ...     37.88    -122.23   4.526\n",
              "1      8.3014      21.0  6.238137  ...     37.86    -122.22   3.585\n",
              "2      7.2574      52.0  8.288136  ...     37.85    -122.24   3.521\n",
              "3      5.6431      52.0  5.817352  ...     37.85    -122.25   3.413\n",
              "4      3.8462      52.0  6.281853  ...     37.85    -122.25   3.422\n",
              "...       ...       ...       ...  ...       ...        ...     ...\n",
              "20635  1.5603      25.0  5.045455  ...     39.48    -121.09   0.781\n",
              "20636  2.5568      18.0  6.114035  ...     39.49    -121.21   0.771\n",
              "20637  1.7000      17.0  5.205543  ...     39.43    -121.22   0.923\n",
              "20638  1.8672      18.0  5.329513  ...     39.43    -121.32   0.847\n",
              "20639  2.3886      16.0  5.254717  ...     39.37    -121.24   0.894\n",
              "\n",
              "[20640 rows x 9 columns]"
            ]
          },
          "metadata": {
            "tags": []
          },
          "execution_count": 63
        }
      ]
    },
    {
      "cell_type": "code",
      "metadata": {
        "colab": {
          "base_uri": "https://localhost:8080/"
        },
        "id": "iAby7PsfYz4A",
        "outputId": "c5df3bdf-19b5-4c66-9395-a814b0c75bca"
      },
      "source": [
        "df.isnull().sum()"
      ],
      "execution_count": 31,
      "outputs": [
        {
          "output_type": "execute_result",
          "data": {
            "text/plain": [
              "MedInc        0\n",
              "HouseAge      0\n",
              "AveRooms      0\n",
              "AveBedrms     0\n",
              "Population    0\n",
              "AveOccup      0\n",
              "Latitude      0\n",
              "Longitude     0\n",
              "target        0\n",
              "dtype: int64"
            ]
          },
          "metadata": {
            "tags": []
          },
          "execution_count": 31
        }
      ]
    },
    {
      "cell_type": "code",
      "metadata": {
        "colab": {
          "base_uri": "https://localhost:8080/",
          "height": 300
        },
        "id": "5SAAH7GCZO-J",
        "outputId": "9b31dcef-c6de-451b-e31a-abcda97f0a9f"
      },
      "source": [
        "df.describe()"
      ],
      "execution_count": 32,
      "outputs": [
        {
          "output_type": "execute_result",
          "data": {
            "text/html": [
              "<div>\n",
              "<style scoped>\n",
              "    .dataframe tbody tr th:only-of-type {\n",
              "        vertical-align: middle;\n",
              "    }\n",
              "\n",
              "    .dataframe tbody tr th {\n",
              "        vertical-align: top;\n",
              "    }\n",
              "\n",
              "    .dataframe thead th {\n",
              "        text-align: right;\n",
              "    }\n",
              "</style>\n",
              "<table border=\"1\" class=\"dataframe\">\n",
              "  <thead>\n",
              "    <tr style=\"text-align: right;\">\n",
              "      <th></th>\n",
              "      <th>MedInc</th>\n",
              "      <th>HouseAge</th>\n",
              "      <th>AveRooms</th>\n",
              "      <th>AveBedrms</th>\n",
              "      <th>Population</th>\n",
              "      <th>AveOccup</th>\n",
              "      <th>Latitude</th>\n",
              "      <th>Longitude</th>\n",
              "      <th>target</th>\n",
              "    </tr>\n",
              "  </thead>\n",
              "  <tbody>\n",
              "    <tr>\n",
              "      <th>count</th>\n",
              "      <td>20640.000000</td>\n",
              "      <td>20640.000000</td>\n",
              "      <td>20640.000000</td>\n",
              "      <td>20640.000000</td>\n",
              "      <td>20640.000000</td>\n",
              "      <td>20640.000000</td>\n",
              "      <td>20640.000000</td>\n",
              "      <td>20640.000000</td>\n",
              "      <td>20640.000000</td>\n",
              "    </tr>\n",
              "    <tr>\n",
              "      <th>mean</th>\n",
              "      <td>3.870671</td>\n",
              "      <td>28.639486</td>\n",
              "      <td>5.429000</td>\n",
              "      <td>1.096675</td>\n",
              "      <td>1425.476744</td>\n",
              "      <td>3.070655</td>\n",
              "      <td>35.631861</td>\n",
              "      <td>-119.569704</td>\n",
              "      <td>2.068558</td>\n",
              "    </tr>\n",
              "    <tr>\n",
              "      <th>std</th>\n",
              "      <td>1.899822</td>\n",
              "      <td>12.585558</td>\n",
              "      <td>2.474173</td>\n",
              "      <td>0.473911</td>\n",
              "      <td>1132.462122</td>\n",
              "      <td>10.386050</td>\n",
              "      <td>2.135952</td>\n",
              "      <td>2.003532</td>\n",
              "      <td>1.153956</td>\n",
              "    </tr>\n",
              "    <tr>\n",
              "      <th>min</th>\n",
              "      <td>0.499900</td>\n",
              "      <td>1.000000</td>\n",
              "      <td>0.846154</td>\n",
              "      <td>0.333333</td>\n",
              "      <td>3.000000</td>\n",
              "      <td>0.692308</td>\n",
              "      <td>32.540000</td>\n",
              "      <td>-124.350000</td>\n",
              "      <td>0.149990</td>\n",
              "    </tr>\n",
              "    <tr>\n",
              "      <th>25%</th>\n",
              "      <td>2.563400</td>\n",
              "      <td>18.000000</td>\n",
              "      <td>4.440716</td>\n",
              "      <td>1.006079</td>\n",
              "      <td>787.000000</td>\n",
              "      <td>2.429741</td>\n",
              "      <td>33.930000</td>\n",
              "      <td>-121.800000</td>\n",
              "      <td>1.196000</td>\n",
              "    </tr>\n",
              "    <tr>\n",
              "      <th>50%</th>\n",
              "      <td>3.534800</td>\n",
              "      <td>29.000000</td>\n",
              "      <td>5.229129</td>\n",
              "      <td>1.048780</td>\n",
              "      <td>1166.000000</td>\n",
              "      <td>2.818116</td>\n",
              "      <td>34.260000</td>\n",
              "      <td>-118.490000</td>\n",
              "      <td>1.797000</td>\n",
              "    </tr>\n",
              "    <tr>\n",
              "      <th>75%</th>\n",
              "      <td>4.743250</td>\n",
              "      <td>37.000000</td>\n",
              "      <td>6.052381</td>\n",
              "      <td>1.099526</td>\n",
              "      <td>1725.000000</td>\n",
              "      <td>3.282261</td>\n",
              "      <td>37.710000</td>\n",
              "      <td>-118.010000</td>\n",
              "      <td>2.647250</td>\n",
              "    </tr>\n",
              "    <tr>\n",
              "      <th>max</th>\n",
              "      <td>15.000100</td>\n",
              "      <td>52.000000</td>\n",
              "      <td>141.909091</td>\n",
              "      <td>34.066667</td>\n",
              "      <td>35682.000000</td>\n",
              "      <td>1243.333333</td>\n",
              "      <td>41.950000</td>\n",
              "      <td>-114.310000</td>\n",
              "      <td>5.000010</td>\n",
              "    </tr>\n",
              "  </tbody>\n",
              "</table>\n",
              "</div>"
            ],
            "text/plain": [
              "             MedInc      HouseAge  ...     Longitude        target\n",
              "count  20640.000000  20640.000000  ...  20640.000000  20640.000000\n",
              "mean       3.870671     28.639486  ...   -119.569704      2.068558\n",
              "std        1.899822     12.585558  ...      2.003532      1.153956\n",
              "min        0.499900      1.000000  ...   -124.350000      0.149990\n",
              "25%        2.563400     18.000000  ...   -121.800000      1.196000\n",
              "50%        3.534800     29.000000  ...   -118.490000      1.797000\n",
              "75%        4.743250     37.000000  ...   -118.010000      2.647250\n",
              "max       15.000100     52.000000  ...   -114.310000      5.000010\n",
              "\n",
              "[8 rows x 9 columns]"
            ]
          },
          "metadata": {
            "tags": []
          },
          "execution_count": 32
        }
      ]
    },
    {
      "cell_type": "code",
      "metadata": {
        "colab": {
          "base_uri": "https://localhost:8080/",
          "height": 331
        },
        "id": "7DdGUtPnZRZ8",
        "outputId": "4455c41d-11d8-4b4c-b7e0-06c51ac2552a"
      },
      "source": [
        "df.corr()"
      ],
      "execution_count": 33,
      "outputs": [
        {
          "output_type": "execute_result",
          "data": {
            "text/html": [
              "<div>\n",
              "<style scoped>\n",
              "    .dataframe tbody tr th:only-of-type {\n",
              "        vertical-align: middle;\n",
              "    }\n",
              "\n",
              "    .dataframe tbody tr th {\n",
              "        vertical-align: top;\n",
              "    }\n",
              "\n",
              "    .dataframe thead th {\n",
              "        text-align: right;\n",
              "    }\n",
              "</style>\n",
              "<table border=\"1\" class=\"dataframe\">\n",
              "  <thead>\n",
              "    <tr style=\"text-align: right;\">\n",
              "      <th></th>\n",
              "      <th>MedInc</th>\n",
              "      <th>HouseAge</th>\n",
              "      <th>AveRooms</th>\n",
              "      <th>AveBedrms</th>\n",
              "      <th>Population</th>\n",
              "      <th>AveOccup</th>\n",
              "      <th>Latitude</th>\n",
              "      <th>Longitude</th>\n",
              "      <th>target</th>\n",
              "    </tr>\n",
              "  </thead>\n",
              "  <tbody>\n",
              "    <tr>\n",
              "      <th>MedInc</th>\n",
              "      <td>1.000000</td>\n",
              "      <td>-0.119034</td>\n",
              "      <td>0.326895</td>\n",
              "      <td>-0.062040</td>\n",
              "      <td>0.004834</td>\n",
              "      <td>0.018766</td>\n",
              "      <td>-0.079809</td>\n",
              "      <td>-0.015176</td>\n",
              "      <td>0.688075</td>\n",
              "    </tr>\n",
              "    <tr>\n",
              "      <th>HouseAge</th>\n",
              "      <td>-0.119034</td>\n",
              "      <td>1.000000</td>\n",
              "      <td>-0.153277</td>\n",
              "      <td>-0.077747</td>\n",
              "      <td>-0.296244</td>\n",
              "      <td>0.013191</td>\n",
              "      <td>0.011173</td>\n",
              "      <td>-0.108197</td>\n",
              "      <td>0.105623</td>\n",
              "    </tr>\n",
              "    <tr>\n",
              "      <th>AveRooms</th>\n",
              "      <td>0.326895</td>\n",
              "      <td>-0.153277</td>\n",
              "      <td>1.000000</td>\n",
              "      <td>0.847621</td>\n",
              "      <td>-0.072213</td>\n",
              "      <td>-0.004852</td>\n",
              "      <td>0.106389</td>\n",
              "      <td>-0.027540</td>\n",
              "      <td>0.151948</td>\n",
              "    </tr>\n",
              "    <tr>\n",
              "      <th>AveBedrms</th>\n",
              "      <td>-0.062040</td>\n",
              "      <td>-0.077747</td>\n",
              "      <td>0.847621</td>\n",
              "      <td>1.000000</td>\n",
              "      <td>-0.066197</td>\n",
              "      <td>-0.006181</td>\n",
              "      <td>0.069721</td>\n",
              "      <td>0.013344</td>\n",
              "      <td>-0.046701</td>\n",
              "    </tr>\n",
              "    <tr>\n",
              "      <th>Population</th>\n",
              "      <td>0.004834</td>\n",
              "      <td>-0.296244</td>\n",
              "      <td>-0.072213</td>\n",
              "      <td>-0.066197</td>\n",
              "      <td>1.000000</td>\n",
              "      <td>0.069863</td>\n",
              "      <td>-0.108785</td>\n",
              "      <td>0.099773</td>\n",
              "      <td>-0.024650</td>\n",
              "    </tr>\n",
              "    <tr>\n",
              "      <th>AveOccup</th>\n",
              "      <td>0.018766</td>\n",
              "      <td>0.013191</td>\n",
              "      <td>-0.004852</td>\n",
              "      <td>-0.006181</td>\n",
              "      <td>0.069863</td>\n",
              "      <td>1.000000</td>\n",
              "      <td>0.002366</td>\n",
              "      <td>0.002476</td>\n",
              "      <td>-0.023737</td>\n",
              "    </tr>\n",
              "    <tr>\n",
              "      <th>Latitude</th>\n",
              "      <td>-0.079809</td>\n",
              "      <td>0.011173</td>\n",
              "      <td>0.106389</td>\n",
              "      <td>0.069721</td>\n",
              "      <td>-0.108785</td>\n",
              "      <td>0.002366</td>\n",
              "      <td>1.000000</td>\n",
              "      <td>-0.924664</td>\n",
              "      <td>-0.144160</td>\n",
              "    </tr>\n",
              "    <tr>\n",
              "      <th>Longitude</th>\n",
              "      <td>-0.015176</td>\n",
              "      <td>-0.108197</td>\n",
              "      <td>-0.027540</td>\n",
              "      <td>0.013344</td>\n",
              "      <td>0.099773</td>\n",
              "      <td>0.002476</td>\n",
              "      <td>-0.924664</td>\n",
              "      <td>1.000000</td>\n",
              "      <td>-0.045967</td>\n",
              "    </tr>\n",
              "    <tr>\n",
              "      <th>target</th>\n",
              "      <td>0.688075</td>\n",
              "      <td>0.105623</td>\n",
              "      <td>0.151948</td>\n",
              "      <td>-0.046701</td>\n",
              "      <td>-0.024650</td>\n",
              "      <td>-0.023737</td>\n",
              "      <td>-0.144160</td>\n",
              "      <td>-0.045967</td>\n",
              "      <td>1.000000</td>\n",
              "    </tr>\n",
              "  </tbody>\n",
              "</table>\n",
              "</div>"
            ],
            "text/plain": [
              "              MedInc  HouseAge  AveRooms  ...  Latitude  Longitude    target\n",
              "MedInc      1.000000 -0.119034  0.326895  ... -0.079809  -0.015176  0.688075\n",
              "HouseAge   -0.119034  1.000000 -0.153277  ...  0.011173  -0.108197  0.105623\n",
              "AveRooms    0.326895 -0.153277  1.000000  ...  0.106389  -0.027540  0.151948\n",
              "AveBedrms  -0.062040 -0.077747  0.847621  ...  0.069721   0.013344 -0.046701\n",
              "Population  0.004834 -0.296244 -0.072213  ... -0.108785   0.099773 -0.024650\n",
              "AveOccup    0.018766  0.013191 -0.004852  ...  0.002366   0.002476 -0.023737\n",
              "Latitude   -0.079809  0.011173  0.106389  ...  1.000000  -0.924664 -0.144160\n",
              "Longitude  -0.015176 -0.108197 -0.027540  ... -0.924664   1.000000 -0.045967\n",
              "target      0.688075  0.105623  0.151948  ... -0.144160  -0.045967  1.000000\n",
              "\n",
              "[9 rows x 9 columns]"
            ]
          },
          "metadata": {
            "tags": []
          },
          "execution_count": 33
        }
      ]
    },
    {
      "cell_type": "code",
      "metadata": {
        "colab": {
          "base_uri": "https://localhost:8080/",
          "height": 300
        },
        "id": "Cxzn6vmZZkDw",
        "outputId": "a1ea25bf-8452-49a9-b688-3e66e333da37"
      },
      "source": [
        "df[['MedInc', 'Target']].describe()"
      ],
      "execution_count": 64,
      "outputs": [
        {
          "output_type": "execute_result",
          "data": {
            "text/html": [
              "<div>\n",
              "<style scoped>\n",
              "    .dataframe tbody tr th:only-of-type {\n",
              "        vertical-align: middle;\n",
              "    }\n",
              "\n",
              "    .dataframe tbody tr th {\n",
              "        vertical-align: top;\n",
              "    }\n",
              "\n",
              "    .dataframe thead th {\n",
              "        text-align: right;\n",
              "    }\n",
              "</style>\n",
              "<table border=\"1\" class=\"dataframe\">\n",
              "  <thead>\n",
              "    <tr style=\"text-align: right;\">\n",
              "      <th></th>\n",
              "      <th>MedInc</th>\n",
              "      <th>Target</th>\n",
              "    </tr>\n",
              "  </thead>\n",
              "  <tbody>\n",
              "    <tr>\n",
              "      <th>count</th>\n",
              "      <td>20640.000000</td>\n",
              "      <td>20640.000000</td>\n",
              "    </tr>\n",
              "    <tr>\n",
              "      <th>mean</th>\n",
              "      <td>3.870671</td>\n",
              "      <td>2.068558</td>\n",
              "    </tr>\n",
              "    <tr>\n",
              "      <th>std</th>\n",
              "      <td>1.899822</td>\n",
              "      <td>1.153956</td>\n",
              "    </tr>\n",
              "    <tr>\n",
              "      <th>min</th>\n",
              "      <td>0.499900</td>\n",
              "      <td>0.149990</td>\n",
              "    </tr>\n",
              "    <tr>\n",
              "      <th>25%</th>\n",
              "      <td>2.563400</td>\n",
              "      <td>1.196000</td>\n",
              "    </tr>\n",
              "    <tr>\n",
              "      <th>50%</th>\n",
              "      <td>3.534800</td>\n",
              "      <td>1.797000</td>\n",
              "    </tr>\n",
              "    <tr>\n",
              "      <th>75%</th>\n",
              "      <td>4.743250</td>\n",
              "      <td>2.647250</td>\n",
              "    </tr>\n",
              "    <tr>\n",
              "      <th>max</th>\n",
              "      <td>15.000100</td>\n",
              "      <td>5.000010</td>\n",
              "    </tr>\n",
              "  </tbody>\n",
              "</table>\n",
              "</div>"
            ],
            "text/plain": [
              "             MedInc        Target\n",
              "count  20640.000000  20640.000000\n",
              "mean       3.870671      2.068558\n",
              "std        1.899822      1.153956\n",
              "min        0.499900      0.149990\n",
              "25%        2.563400      1.196000\n",
              "50%        3.534800      1.797000\n",
              "75%        4.743250      2.647250\n",
              "max       15.000100      5.000010"
            ]
          },
          "metadata": {
            "tags": []
          },
          "execution_count": 64
        }
      ]
    },
    {
      "cell_type": "code",
      "metadata": {
        "colab": {
          "base_uri": "https://localhost:8080/"
        },
        "id": "j2PwyAA7bpRI",
        "outputId": "884066d5-2d32-406f-af8e-52c639387e25"
      },
      "source": [
        "df = df[df.Target <5]\r\n",
        "df.shape"
      ],
      "execution_count": 65,
      "outputs": [
        {
          "output_type": "execute_result",
          "data": {
            "text/plain": [
              "(19648, 9)"
            ]
          },
          "metadata": {
            "tags": []
          },
          "execution_count": 65
        }
      ]
    },
    {
      "cell_type": "code",
      "metadata": {
        "colab": {
          "base_uri": "https://localhost:8080/"
        },
        "id": "e4r4BNAzbzaB",
        "outputId": "a6c98886-02cc-47c1-c46d-f65a1dd8bdf0"
      },
      "source": [
        "def Norm(x):\r\n",
        "  minx = x.min()\r\n",
        "  maxx = x.max()\r\n",
        "  return pd.Series([(i-minx)/(maxx - minx) for i in x])\r\n",
        "\r\n",
        "x = Norm(df.MedInc)\r\n",
        "y = Norm(df.Target)\r\n",
        "\r\n",
        "print('Maximum value of MedInc : {}'.format(x.max()))\r\n",
        "print('Maximum value of Target : {}'.format(y.max()))"
      ],
      "execution_count": 66,
      "outputs": [
        {
          "output_type": "stream",
          "text": [
            "Maximum value of MedInc : 1.0\n",
            "Maximum value of Target : 1.0\n"
          ],
          "name": "stdout"
        }
      ]
    },
    {
      "cell_type": "code",
      "metadata": {
        "colab": {
          "base_uri": "https://localhost:8080/",
          "height": 627
        },
        "id": "RyIN6QpMhfUV",
        "outputId": "c128b140-b445-4b5f-945f-e33d90e8f4a8"
      },
      "source": [
        "plt.figure(figsize=(10,10))\r\n",
        "plt.scatter(x, y, label='Data', c='Grey', s=9)\r\n",
        "plt.title('Correlation between Income and House price', fontsize=15)\r\n",
        "plt.xlabel('Income', fontsize=12)\r\n",
        "plt.ylabel('House Price', fontsize=12)\r\n",
        "plt.legend(loc='best', fontsize=15, borderpad=0.1 )\r\n",
        "plt.show()"
      ],
      "execution_count": 67,
      "outputs": [
        {
          "output_type": "display_data",
          "data": {
            "image/png": "[encoded data removed]",
            "text/plain": [
              "<Figure size 720x720 with 1 Axes>"
            ]
          },
          "metadata": {
            "tags": [],
            "needs_background": "light"
          }
        }
      ]
    },
    {
      "cell_type": "code",
      "metadata": {
        "colab": {
          "base_uri": "https://localhost:8080/"
        },
        "id": "_hEkFceclPOP",
        "outputId": "e45c7d44-f7e9-4cfc-8d2a-80aad9f47583"
      },
      "source": [
        "X = np.array(x).reshape((-1,1)) \r\n",
        "y = np.array(y)\r\n",
        "\r\n",
        "print(x.ndim) \r\n",
        "print(x.shape)\r\n",
        "print(X.ndim) \r\n",
        "print(X.shape)\r\n"
      ],
      "execution_count": 69,
      "outputs": [
        {
          "output_type": "stream",
          "text": [
            "1\n",
            "(19648,)\n",
            "2\n",
            "(19648, 1)\n"
          ],
          "name": "stdout"
        }
      ]
    },
    {
      "cell_type": "code",
      "metadata": {
        "id": "KHADHw8RllkY"
      },
      "source": [
        "model = LinearRegression(normalize=False, n_jobs=-1)\r\n"
      ],
      "execution_count": 70,
      "outputs": []
    },
    {
      "cell_type": "code",
      "metadata": {
        "colab": {
          "base_uri": "https://localhost:8080/"
        },
        "id": "bg2xifFnnIC7",
        "outputId": "5d3440bd-8d77-423c-c269-bcf6c67e1cdc"
      },
      "source": [
        "model.fit(X,y)"
      ],
      "execution_count": 71,
      "outputs": [
        {
          "output_type": "execute_result",
          "data": {
            "text/plain": [
              "LinearRegression(copy_X=True, fit_intercept=True, n_jobs=-1, normalize=False)"
            ]
          },
          "metadata": {
            "tags": []
          },
          "execution_count": 71
        }
      ]
    },
    {
      "cell_type": "code",
      "metadata": {
        "colab": {
          "base_uri": "https://localhost:8080/"
        },
        "id": "Ze-a0A3pnJtP",
        "outputId": "73b90087-54f9-4aa6-f5e1-f002ee4e969f"
      },
      "source": [
        "print('intercept: {}'.format(model.intercept_))\r\n",
        "print('slope: {}'.format(model.coef_))\r\n"
      ],
      "execution_count": 73,
      "outputs": [
        {
          "output_type": "stream",
          "text": [
            "intercept: 0.10336187126396168\n",
            "slope: [1.19772056]\n"
          ],
          "name": "stdout"
        }
      ]
    },
    {
      "cell_type": "code",
      "metadata": {
        "colab": {
          "base_uri": "https://localhost:8080/"
        },
        "id": "5A01xcw6ngtS",
        "outputId": "98801e27-01b0-4be3-b877-88c348674b25"
      },
      "source": [
        "y_pred = model.predict(X)\r\n",
        "print(y_pred)\r\n",
        "print(y_pred.ndim)"
      ],
      "execution_count": 74,
      "outputs": [
        {
          "output_type": "stream",
          "text": [
            "[0.74973383 0.74776795 0.66153326 ... 0.20249047 0.21630123 0.25936902]\n",
            "1\n"
          ],
          "name": "stdout"
        }
      ]
    },
    {
      "cell_type": "code",
      "metadata": {
        "colab": {
          "base_uri": "https://localhost:8080/"
        },
        "id": "dF2Q4MTknvxD",
        "outputId": "19c11eba-0e1d-4adb-e6a3-0b51a783fb80"
      },
      "source": [
        "y_pred = model.intercept_ + model.coef_ * X\r\n",
        "print('predicted response:', y_pred, sep='\\n')\r\n",
        "print(type(y_pred))\r\n",
        "print(y_pred.ndim)"
      ],
      "execution_count": 75,
      "outputs": [
        {
          "output_type": "stream",
          "text": [
            "predicted response:\n",
            "[[0.74973383]\n",
            " [0.74776795]\n",
            " [0.66153326]\n",
            " ...\n",
            " [0.20249047]\n",
            " [0.21630123]\n",
            " [0.25936902]]\n",
            "<class 'numpy.ndarray'>\n",
            "2\n"
          ],
          "name": "stdout"
        }
      ]
    },
    {
      "cell_type": "code",
      "metadata": {
        "colab": {
          "base_uri": "https://localhost:8080/",
          "height": 351
        },
        "id": "-9m_drD7oENr",
        "outputId": "985d8ce3-a592-4df5-bf5d-9599188fc66a"
      },
      "source": [
        "plt.figure(figsize=(10,5))\r\n",
        "plt.scatter(X, y, label='Data', c='grey', s=6)\r\n",
        "plt.plot(X, y_pred, c='#ff7702', lw=3, label='Regression')\r\n",
        "plt.title('Linear Regression', fontSize=14)\r\n",
        "plt.xlabel('Income', fontSize=11)\r\n",
        "plt.ylabel('Price', fontSize=11)\r\n",
        "plt.legend(frameon=True, loc=0, fontsize=10)\r\n",
        "plt.show()"
      ],
      "execution_count": 79,
      "outputs": [
        {
          "output_type": "display_data",
          "data": {
            "image/png": "[encoded data removed]",
            "text/plain": [
              "<Figure size 720x360 with 1 Axes>"
            ]
          },
          "metadata": {
            "tags": [],
            "needs_background": "light"
          }
        }
      ]
    }
  ]
}