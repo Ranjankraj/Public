{
  "nbformat": 4,
  "nbformat_minor": 0,
  "metadata": {
    "colab": {
      "name": "News_group_text_classifier.ipynb",
      "provenance": [],
      "authorship_tag": "ABX9TyNHI2IWCL8BG81XSpzat6ZO",
      "include_colab_link": true
    },
    "kernelspec": {
      "name": "python3",
      "display_name": "Python 3"
    }
  },
  "cells": [
    {
      "cell_type": "markdown",
      "metadata": {
        "id": "view-in-github",
        "colab_type": "text"
      },
      "source": [
        "<a href=\"https://colab.research.google.com/github/Ranjankraj/Shala/blob/main/News_group_text_classifier.ipynb\" target=\"_parent\"><img src=\"https://colab.research.google.com/assets/colab-badge.svg\" alt=\"Open In Colab\"/></a>"
      ]
    },
    {
      "cell_type": "code",
      "metadata": {
        "id": "mcQ0urjei3jg"
      },
      "source": [
        "import numpy as np\r\n",
        "import pandas as pd\r\n",
        "import matplotlib.pyplot as plt\r\n",
        "import seaborn as sns\r\n",
        "import sklearn.datasets "
      ],
      "execution_count": 2,
      "outputs": []
    },
    {
      "cell_type": "code",
      "metadata": {
        "id": "GpRonj3FjJ06"
      },
      "source": [
        "%matplotlib inline"
      ],
      "execution_count": 1,
      "outputs": []
    },
    {
      "cell_type": "code",
      "metadata": {
        "colab": {
          "base_uri": "https://localhost:8080/"
        },
        "id": "ddHkfHwxCALE",
        "outputId": "86f85501-9f73-438d-9247-1773b637728c"
      },
      "source": [
        "from google.colab import drive\n",
        "drive.mount('/content/drive')"
      ],
      "execution_count": null,
      "outputs": [
        {
          "output_type": "stream",
          "text": [
            "Mounted at /content/drive\n"
          ],
          "name": "stdout"
        }
      ]
    },
    {
      "cell_type": "code",
      "metadata": {
        "colab": {
          "base_uri": "https://localhost:8080/"
        },
        "id": "oijYEXTxIVac",
        "outputId": "f66bea1a-be06-4122-90e0-7abde679061f"
      },
      "source": [
        "!ls"
      ],
      "execution_count": null,
      "outputs": [
        {
          "output_type": "stream",
          "text": [
            "drive  sample_data\n"
          ],
          "name": "stdout"
        }
      ]
    },
    {
      "cell_type": "code",
      "metadata": {
        "colab": {
          "base_uri": "https://localhost:8080/"
        },
        "id": "DoYSFhg9GLDF",
        "outputId": "70071d68-6148-42df-f945-754ef390776a"
      },
      "source": [
        "%cd drive/MyDrive/Internship/extracted"
      ],
      "execution_count": null,
      "outputs": [
        {
          "output_type": "stream",
          "text": [
            "/content/drive/MyDrive/Internship/extracted\n"
          ],
          "name": "stdout"
        }
      ]
    },
    {
      "cell_type": "code",
      "metadata": {
        "colab": {
          "base_uri": "https://localhost:8080/"
        },
        "id": "G_0QbINXPTlR",
        "outputId": "4304bdf6-4f59-44ea-dd00-f46d4031bf4d"
      },
      "source": [
        "!ls"
      ],
      "execution_count": null,
      "outputs": [
        {
          "output_type": "stream",
          "text": [
            "20_newsgroups\n"
          ],
          "name": "stdout"
        }
      ]
    },
    {
      "cell_type": "code",
      "metadata": {
        "id": "Jtl-LRwnhZRL"
      },
      "source": [
        "# !unzip -u \"drive/MyDrive/Internship/20_newsgroups.zip\" -d \"drive/MyDrive/Internship/extracted\""
      ],
      "execution_count": null,
      "outputs": []
    },
    {
      "cell_type": "code",
      "metadata": {
        "id": "UXD4YnOKIhQp",
        "colab": {
          "base_uri": "https://localhost:8080/"
        },
        "outputId": "0133848d-79c1-4b12-8b03-e2ad74c2d557"
      },
      "source": [
        "main_path = 'drive/MyDrive/Internship/extracted/20_newsgroups'\r\n",
        "path_1 = 'drive/MyDrive/Internship/extracted/20_newsgroups/likes'\r\n",
        "\r\n",
        "path_2 = 'drive/MyDrive/Internship/extracted/20_newsgroups/dislikes'\r\n",
        "# files = sklearn.datasets.load_files(path)\r\n",
        "print(path_1, '\\n', path_2)"
      ],
      "execution_count": null,
      "outputs": [
        {
          "output_type": "stream",
          "text": [
            "drive/MyDrive/Internship/extracted/20_newsgroups/likes \n",
            " drive/MyDrive/Internship/extracted/20_newsgroups/dislikes\n"
          ],
          "name": "stdout"
        }
      ]
    },
    {
      "cell_type": "code",
      "metadata": {
        "id": "NuLSXibJS2X2"
      },
      "source": [
        "import os\r\n",
        "import glob"
      ],
      "execution_count": null,
      "outputs": []
    },
    {
      "cell_type": "code",
      "metadata": {
        "id": "5PK1aTEdL34i"
      },
      "source": [
        "# import glob, os\r\n",
        "\r\n",
        "# folder = path_1\r\n",
        "# for filename in glob.iglob(os.path.join(folder, '*')):\r\n",
        "#     os.rename(filename, filename + '.txt')"
      ],
      "execution_count": null,
      "outputs": []
    },
    {
      "cell_type": "code",
      "metadata": {
        "colab": {
          "base_uri": "https://localhost:8080/"
        },
        "id": "cdwiVoalQjmB",
        "outputId": "a565e7b8-775d-4ccc-fe26-264a8ec926e8"
      },
      "source": [
        "%cd likes"
      ],
      "execution_count": null,
      "outputs": [
        {
          "output_type": "stream",
          "text": [
            "/content/drive/My Drive/Internship/extracted/20_newsgroups/likes\n"
          ],
          "name": "stdout"
        }
      ]
    },
    {
      "cell_type": "code",
      "metadata": {
        "colab": {
          "base_uri": "https://localhost:8080/"
        },
        "id": "EY_Fie5tRmWa",
        "outputId": "30abd27a-892b-4729-e36e-55bd13f8ee85"
      },
      "source": [
        "%cd .."
      ],
      "execution_count": null,
      "outputs": [
        {
          "output_type": "stream",
          "text": [
            "/content/drive/My Drive/Internship/extracted/20_newsgroups\n"
          ],
          "name": "stdout"
        }
      ]
    },
    {
      "cell_type": "code",
      "metadata": {
        "colab": {
          "base_uri": "https://localhost:8080/",
          "height": 249
        },
        "id": "CMXOYOOlOtfQ",
        "outputId": "52239ed6-a8dc-407b-b143-39081be219be"
      },
      "source": [
        "import os, sys\r\n",
        "\r\n",
        "for filename in os.listdir(os.path.dirname(os.path.abspath(__file__))):\r\n",
        "  base_file, ext = os.path.splitext(filename)\r\n",
        "  if ext != \".txt\":\r\n",
        "    os.rename(filename, base_file + \".text\")"
      ],
      "execution_count": null,
      "outputs": [
        {
          "output_type": "error",
          "ename": "NameError",
          "evalue": "ignored",
          "traceback": [
            "\u001b[0;31m---------------------------------------------------------------------------\u001b[0m",
            "\u001b[0;31mNameError\u001b[0m                                 Traceback (most recent call last)",
            "\u001b[0;32m<ipython-input-42-209c241213bf>\u001b[0m in \u001b[0;36m<module>\u001b[0;34m()\u001b[0m\n\u001b[1;32m      1\u001b[0m \u001b[0;32mimport\u001b[0m \u001b[0mos\u001b[0m\u001b[0;34m,\u001b[0m \u001b[0msys\u001b[0m\u001b[0;34m\u001b[0m\u001b[0;34m\u001b[0m\u001b[0m\n\u001b[1;32m      2\u001b[0m \u001b[0;34m\u001b[0m\u001b[0m\n\u001b[0;32m----> 3\u001b[0;31m \u001b[0;32mfor\u001b[0m \u001b[0mfilename\u001b[0m \u001b[0;32min\u001b[0m \u001b[0mos\u001b[0m\u001b[0;34m.\u001b[0m\u001b[0mlistdir\u001b[0m\u001b[0;34m(\u001b[0m\u001b[0mos\u001b[0m\u001b[0;34m.\u001b[0m\u001b[0mpath\u001b[0m\u001b[0;34m.\u001b[0m\u001b[0mdirname\u001b[0m\u001b[0;34m(\u001b[0m\u001b[0mos\u001b[0m\u001b[0;34m.\u001b[0m\u001b[0mpath\u001b[0m\u001b[0;34m.\u001b[0m\u001b[0mabspath\u001b[0m\u001b[0;34m(\u001b[0m\u001b[0m__file__\u001b[0m\u001b[0;34m)\u001b[0m\u001b[0;34m)\u001b[0m\u001b[0;34m)\u001b[0m\u001b[0;34m:\u001b[0m\u001b[0;34m\u001b[0m\u001b[0;34m\u001b[0m\u001b[0m\n\u001b[0m\u001b[1;32m      4\u001b[0m   \u001b[0mbase_file\u001b[0m\u001b[0;34m,\u001b[0m \u001b[0mext\u001b[0m \u001b[0;34m=\u001b[0m \u001b[0mos\u001b[0m\u001b[0;34m.\u001b[0m\u001b[0mpath\u001b[0m\u001b[0;34m.\u001b[0m\u001b[0msplitext\u001b[0m\u001b[0;34m(\u001b[0m\u001b[0mfilename\u001b[0m\u001b[0;34m)\u001b[0m\u001b[0;34m\u001b[0m\u001b[0;34m\u001b[0m\u001b[0m\n\u001b[1;32m      5\u001b[0m   \u001b[0;32mif\u001b[0m \u001b[0mext\u001b[0m \u001b[0;34m!=\u001b[0m \u001b[0;34m\".txt\"\u001b[0m\u001b[0;34m:\u001b[0m\u001b[0;34m\u001b[0m\u001b[0;34m\u001b[0m\u001b[0m\n",
            "\u001b[0;31mNameError\u001b[0m: name '__file__' is not defined"
          ]
        }
      ]
    },
    {
      "cell_type": "code",
      "metadata": {
        "id": "5JDNIkRPRToQ"
      },
      "source": [
        "dir =('likes')\r\n",
        "for i in os.listdir(dir):\r\n",
        "    files = os.path.join(dir,i)\r\n",
        "    # split= os.path.splitext(files)\r\n",
        "    root, ext = os.path.splitext(files)\r\n",
        "    if ext != '.txt':\r\n",
        "       os.rename(files, root +'.txt')\r\n",
        "       print((files))"
      ],
      "execution_count": null,
      "outputs": []
    },
    {
      "cell_type": "code",
      "metadata": {
        "id": "_mW2WJ8RTShZ"
      },
      "source": [
        "from pathlib import Path\r\n",
        "\r\n",
        "for i in os.listdir(dir):\r\n",
        "    files = os.path.join(dir,i)\r\n",
        "    # filename = \"mysequence.fasta\"\r\n",
        "    new_filename = Path(files).stem + \".txt\"\r\n",
        "    print((new_filename))\r\n"
      ],
      "execution_count": null,
      "outputs": []
    },
    {
      "cell_type": "code",
      "metadata": {
        "colab": {
          "base_uri": "https://localhost:8080/"
        },
        "id": "mGWXA8NnVO6y",
        "outputId": "100f0be3-0894-4df2-955e-30978c95a541"
      },
      "source": [
        "os.path.splitext(path_1) \r\n",
        "\r\n",
        "print(path)"
      ],
      "execution_count": null,
      "outputs": [
        {
          "output_type": "stream",
          "text": [
            "drive/MyDrive/Internship/extracted/20_newsgroups\n"
          ],
          "name": "stdout"
        }
      ]
    },
    {
      "cell_type": "code",
      "metadata": {
        "id": "krGUx5stQp4F"
      },
      "source": [
        "def reorganize_dataset(path):\r\n",
        "    \r\n",
        "    #classifing comp and rec as likes and others as dislikes\r\n",
        "    likes = ['rec.sport.hockey', 'rec.motorcycles', 'rec.autos', 'rec.sport.baseball', 'comp.graphics', 'comp.os.ms-windows.misc', 'comp.sys.ibm.pc.hardware', 'comp.sys.mac.hardware', 'comp.windows.x']\r\n",
        "    dislikes = ['alt.atheism', 'misc.forsale',  'sci.med', 'sci.space', 'sci.crypt', 'sci.electronics', 'soc.religion.christian', 'talk.politics.guns', 'talk.politics.mideast', 'talk.politics.misc', 'talk.religion.misc']\r\n",
        "\r\n",
        "    folders = glob.glob(os.path.join(path, '*'))\r\n",
        "    if len(folders) == 2:\r\n",
        "        return\r\n",
        "    else:\r\n",
        "        # create `likes` and `dislikes` directories\r\n",
        "        if not os.path.exists(os.path.join(path, 'likes')):\r\n",
        "            os.makedirs(os.path.join(path, 'likes'))\r\n",
        "        if not os.path.exists(os.path.join(path, 'dislikes')):\r\n",
        "            os.makedirs(os.path.join(path, 'dislikes'))\r\n",
        "\r\n",
        "        for like in likes:\r\n",
        "            files = glob.glob(os.path.join(path, like, '*'))\r\n",
        "            for f in files:\r\n",
        "                parts = f.split(os.sep)\r\n",
        "                name = parts[len(parts) - 1]\r\n",
        "                newname = like + '_' + name\r\n",
        "                os.rename(f, os.path.join(path, 'likes', newname))\r\n",
        "            os.rmdir(os.path.join(path, like))\r\n",
        "\r\n",
        "        for like in dislikes:\r\n",
        "            files = glob.glob(os.path.join(path, like, '*'))\r\n",
        "            for f in files:\r\n",
        "                parts = f.split(os.sep)\r\n",
        "                name = parts[len(parts) - 1]\r\n",
        "                newname = like + '_' + name\r\n",
        "                os.rename(f, os.path.join(path, 'dislikes', newname))\r\n",
        "            os.rmdir(os.path.join(path, like))"
      ],
      "execution_count": null,
      "outputs": []
    },
    {
      "cell_type": "code",
      "metadata": {
        "id": "PyCwXLLh-Gao"
      },
      "source": [
        "files_1 = sklearn.datasets.load_files('likes')\r\n",
        "# files_2 = sklearn.datasets.load_files(path_2)\r\n"
      ],
      "execution_count": null,
      "outputs": []
    },
    {
      "cell_type": "code",
      "metadata": {
        "colab": {
          "base_uri": "https://localhost:8080/"
        },
        "id": "DpPDKqkwTtrY",
        "outputId": "3c6d6c1b-ea75-49be-a3e4-747dc93dacf5"
      },
      "source": [
        "print(type(files_1))"
      ],
      "execution_count": null,
      "outputs": [
        {
          "output_type": "stream",
          "text": [
            "<class 'sklearn.utils.Bunch'>\n"
          ],
          "name": "stdout"
        }
      ]
    },
    {
      "cell_type": "code",
      "metadata": {
        "id": "wswzrSp7C5Ho"
      },
      "source": [
        "def find_incompatible_files(files):\r\n",
        "    \"\"\"\r\n",
        "    Finds the filenames that are incompatible with `CountVectorizer`. These files are usually not compatible with UTF8!\r\n",
        "    parameter `path` is the absolute or relative path of the training data's root directory.\r\n",
        "    returns a list of strings.\r\n",
        "    \"\"\"\r\n",
        "\r\n",
        "    count_vector = sklearn.feature_extraction.text.CountVectorizer()\r\n",
        "    # files = sklearn.datasets.load_files(path)\r\n",
        "    num = []\r\n",
        "    for i in range(len(files.filenames)):\r\n",
        "        try:\r\n",
        "            count_vector.fit_transform(files.data[i:i + 1])\r\n",
        "        except UnicodeDecodeError:\r\n",
        "            num.append(files.filenames[i])\r\n",
        "        except TypeError:\r\n",
        "            num.append(files.filenames[i])\r\n",
        "        except ValueError:\r\n",
        "            pass\r\n",
        "\r\n",
        "    return num"
      ],
      "execution_count": null,
      "outputs": []
    },
    {
      "cell_type": "code",
      "metadata": {
        "id": "6FuvqvOsDt8I"
      },
      "source": [
        "incompatible_files_1 = find_incompatible_files(files_1)\r\n",
        "\r\n",
        "incompatible_files_2 = find_incompatible_files(files_2)"
      ],
      "execution_count": null,
      "outputs": []
    },
    {
      "cell_type": "code",
      "metadata": {
        "colab": {
          "base_uri": "https://localhost:8080/"
        },
        "id": "_OQr8NRrD5-X",
        "outputId": "2bbbb429-2950-4754-d020-d2b860d6db83"
      },
      "source": [
        "print(incompatible_files_1)"
      ],
      "execution_count": null,
      "outputs": [
        {
          "output_type": "stream",
          "text": [
            "[]\n"
          ],
          "name": "stdout"
        }
      ]
    },
    {
      "cell_type": "code",
      "metadata": {
        "colab": {
          "base_uri": "https://localhost:8080/",
          "height": 174
        },
        "id": "KYglANQLEM94",
        "outputId": "feeabf4f-f7fe-4a6b-9308-28a7063df1b2"
      },
      "source": [
        "print(files_1)"
      ],
      "execution_count": null,
      "outputs": [
        {
          "output_type": "error",
          "ename": "NameError",
          "evalue": "ignored",
          "traceback": [
            "\u001b[0;31m---------------------------------------------------------------------------\u001b[0m",
            "\u001b[0;31mNameError\u001b[0m                                 Traceback (most recent call last)",
            "\u001b[0;32m<ipython-input-1-8b17208d288a>\u001b[0m in \u001b[0;36m<module>\u001b[0;34m()\u001b[0m\n\u001b[0;32m----> 1\u001b[0;31m \u001b[0mprint\u001b[0m\u001b[0;34m(\u001b[0m\u001b[0mfiles_1\u001b[0m\u001b[0;34m)\u001b[0m\u001b[0;34m\u001b[0m\u001b[0;34m\u001b[0m\u001b[0m\n\u001b[0m",
            "\u001b[0;31mNameError\u001b[0m: name 'files_1' is not defined"
          ]
        }
      ]
    },
    {
      "cell_type": "code",
      "metadata": {
        "colab": {
          "base_uri": "https://localhost:8080/"
        },
        "id": "vMm2BnFkNm2w",
        "outputId": "19c9cf38-b03e-4a92-ba48-1f8409560253"
      },
      "source": [
        "print(files_1)"
      ],
      "execution_count": null,
      "outputs": [
        {
          "output_type": "stream",
          "text": [
            "{'data': [], 'filenames': array([], dtype=float64), 'target_names': [], 'target': array([], dtype=float64), 'DESCR': None}\n"
          ],
          "name": "stdout"
        }
      ]
    }
  ]
}