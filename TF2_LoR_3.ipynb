{
  "nbformat": 4,
  "nbformat_minor": 0,
  "metadata": {
    "colab": {
      "name": "TF2_LoR_3.ipynb",
      "provenance": [],
      "authorship_tag": "ABX9TyOexYLhbNrZS3/0zDIEk21k",
      "include_colab_link": true
    },
    "kernelspec": {
      "name": "python3",
      "display_name": "Python 3"
    }
  },
  "cells": [
    {
      "cell_type": "markdown",
      "metadata": {
        "id": "view-in-github",
        "colab_type": "text"
      },
      "source": [
        "<a href=\"https://colab.research.google.com/github/Ranjankraj/Shala/blob/main/TF2_LoR_3.ipynb\" target=\"_parent\"><img src=\"https://colab.research.google.com/assets/colab-badge.svg\" alt=\"Open In Colab\"/></a>"
      ]
    },
    {
      "cell_type": "code",
      "metadata": {
        "colab": {
          "base_uri": "https://localhost:8080/"
        },
        "id": "E1kcQfl7UPk6",
        "outputId": "97c447ae-c6f2-412d-cdab-264c2c68de53"
      },
      "source": [
        "import tensorflow as tf\r\n",
        "\r\n",
        "print(tf.__version__)"
      ],
      "execution_count": 29,
      "outputs": [
        {
          "output_type": "stream",
          "text": [
            "2.4.0\n"
          ],
          "name": "stdout"
        }
      ]
    },
    {
      "cell_type": "code",
      "metadata": {
        "id": "Am379y9AU4ec"
      },
      "source": [
        "mnist = tf.keras.datasets.mnist\r\n",
        "\r\n",
        "(x_train, y_train), (x_test, y_test) = mnist.load_data()"
      ],
      "execution_count": 30,
      "outputs": []
    },
    {
      "cell_type": "code",
      "metadata": {
        "id": "ZktrPk4JVmBP"
      },
      "source": [
        "num_classes = 10  #0 to 9 digits\r\n",
        "num_features = 784  #28*28"
      ],
      "execution_count": 31,
      "outputs": []
    },
    {
      "cell_type": "code",
      "metadata": {
        "id": "DNY8dOn2WENB"
      },
      "source": [
        "import numpy as np\r\n",
        "\r\n",
        "#convert data into float as we need W, b in float and originally, they are of int type\r\n",
        "x_train, x_test = np.array(x_train, np.float32), np.array(x_test, np.float32)\r\n",
        "\r\n",
        "#flatten images to 1D vector of 748 features (28*28)\r\n",
        "x_train, x_test = x_train.reshape([-1, num_features]), x_test.reshape([-1, num_features])\r\n",
        "\r\n",
        "#normalize images to [0.0 to 1.0] from [0, 255]\r\n",
        "x_train, x_test = x_train/255. , x_test/255."
      ],
      "execution_count": 32,
      "outputs": []
    },
    {
      "cell_type": "code",
      "metadata": {
        "id": "OdDCgpQFYPfM"
      },
      "source": [
        "# logistic regression model equation y = sigmoid(WX + b)\r\n",
        "def logistic_regression(X, W, b):\r\n",
        "    # apply softmax to normalize the logits to a probability distribution.\r\n",
        "    return tf.nn.softmax(tf.add(tf.matmul(X, W), b))\r\n",
        "\r\n",
        "# cross-entropy loss function\r\n",
        "def cross_entropy(y_pred, y_true):\r\n",
        "    # encode label to a one hot vector\r\n",
        "    y_true = tf.one_hot(y_true, depth=num_classes)\r\n",
        "    # clip prediction values to avoid log(0) error\r\n",
        "    y_pred = tf.clip_by_value(y_pred, 1e-9, 1.)\r\n",
        "    # compute cross-entropy\r\n",
        "    return tf.reduce_mean(-tf.reduce_sum(y_true * tf.math.log(y_pred), 1))\r\n",
        "\r\n",
        "# accuracy metric\r\n",
        "def accuracy(y_pred, y_true):\r\n",
        "    # predicted class is the index of highest score in prediction vector (i.e. argmax)\r\n",
        "    correct_prediction = tf.equal(tf.argmax(y_pred, 1), tf.cast(y_true, tf.int64))\r\n",
        "    return tf.reduce_mean(tf.cast(correct_prediction, tf.float32))"
      ],
      "execution_count": 33,
      "outputs": []
    },
    {
      "cell_type": "code",
      "metadata": {
        "id": "B9pMqSrdcoXm"
      },
      "source": [
        "# Stochastic Gradient Descent optimizer\r\n",
        "learning_rate = 0.01\r\n",
        "optimizer = tf.optimizers.SGD(learning_rate)\r\n",
        "\r\n",
        "# optimization function\r\n",
        "def run_optimization(X, y, W, b):\r\n",
        "    # wrap computation inside a GradientTape for automatic differentiation\r\n",
        "    with tf.GradientTape() as g:\r\n",
        "        pred = logistic_regression(X, W, b)\r\n",
        "        loss = cross_entropy(pred, y)\r\n",
        "\r\n",
        "    # compute gradients\r\n",
        "    gradients = g.gradient(loss, [W, b])\r\n",
        "\r\n",
        "    # update W and b following gradients\r\n",
        "    optimizer.apply_gradients(zip(gradients, [W, b]))"
      ],
      "execution_count": 34,
      "outputs": []
    },
    {
      "cell_type": "code",
      "metadata": {
        "colab": {
          "base_uri": "https://localhost:8080/"
        },
        "id": "fvev-pF8dDFg",
        "outputId": "93dc9a32-cf34-43e2-ea94-244fa2e141c2"
      },
      "source": [
        "# training parameters\r\n",
        "batch_size = 256\r\n",
        "training_steps = 1000\r\n",
        "display_step = 50\r\n",
        "\r\n",
        "# use tf.data API to shuffle and batch data.\r\n",
        "train_data = tf.data.Dataset.from_tensor_slices((x_train, y_train))\r\n",
        "train_data = train_data.repeat().shuffle(5000).batch(batch_size).prefetch(1)\r\n",
        "\r\n",
        "# weight of shape [784, 10], the 28*28 image features, and total number of classes.\r\n",
        "W = tf.Variable(tf.ones([num_features, num_classes]), name=\"weight\")\r\n",
        "# bias of shape [10], the total number of classes.\r\n",
        "b = tf.Variable(tf.zeros([num_classes]), name=\"bias\")\r\n",
        "\r\n",
        "# run training for the given number of steps\r\n",
        "for step, (batch_x, batch_y) in enumerate(train_data.take(training_steps), 1):\r\n",
        "    # run the optimization to update W and b values\r\n",
        "    run_optimization(batch_x, batch_y, W, b)\r\n",
        "\r\n",
        "    # display optimization progress every few steps\r\n",
        "    if step % display_step == 0:\r\n",
        "        pred = logistic_regression(batch_x, W, b)\r\n",
        "        loss = cross_entropy(pred, batch_y)\r\n",
        "        acc = accuracy(pred, batch_y)\r\n",
        "        print(\"step: %i, loss: %f, accuracy: %f\" % (step, loss, acc))\r\n",
        "    \r\n",
        "    # stop with specific accuracy criteria\r\n",
        "    #if acc > CONST:\r\n",
        "    #    break"
      ],
      "execution_count": 35,
      "outputs": [
        {
          "output_type": "stream",
          "text": [
            "step: 50, loss: 1.868433, accuracy: 0.714844\n",
            "step: 100, loss: 1.572342, accuracy: 0.832031\n",
            "step: 150, loss: 1.336132, accuracy: 0.816406\n",
            "step: 200, loss: 1.205417, accuracy: 0.812500\n",
            "step: 250, loss: 1.120483, accuracy: 0.808594\n",
            "step: 300, loss: 0.949352, accuracy: 0.832031\n",
            "step: 350, loss: 0.933055, accuracy: 0.816406\n",
            "step: 400, loss: 0.840989, accuracy: 0.843750\n",
            "step: 450, loss: 0.747231, accuracy: 0.890625\n",
            "step: 500, loss: 0.812020, accuracy: 0.843750\n",
            "step: 550, loss: 0.720981, accuracy: 0.843750\n",
            "step: 600, loss: 0.704919, accuracy: 0.867188\n",
            "step: 650, loss: 0.694608, accuracy: 0.863281\n",
            "step: 700, loss: 0.629784, accuracy: 0.890625\n",
            "step: 750, loss: 0.795430, accuracy: 0.835938\n",
            "step: 800, loss: 0.641923, accuracy: 0.867188\n",
            "step: 850, loss: 0.657243, accuracy: 0.851562\n",
            "step: 900, loss: 0.756264, accuracy: 0.828125\n",
            "step: 950, loss: 0.600320, accuracy: 0.863281\n",
            "step: 1000, loss: 0.576246, accuracy: 0.871094\n"
          ],
          "name": "stdout"
        }
      ]
    },
    {
      "cell_type": "code",
      "metadata": {
        "colab": {
          "base_uri": "https://localhost:8080/"
        },
        "id": "ZDI7O0GkfSPp",
        "outputId": "f107ce1f-41e2-40a3-b566-0f1cb38544a0"
      },
      "source": [
        "# In the above optput, the accuracy improves and then declines because of using SGD as it takes only 1 data point at each epoch\r\n",
        "# test model on validation set\r\n",
        "pred = logistic_regression(x_test, W, b)\r\n",
        "print(\"Test Accuracy: %f\" % accuracy(pred, y_test))"
      ],
      "execution_count": 36,
      "outputs": [
        {
          "output_type": "stream",
          "text": [
            "Test Accuracy: 0.869000\n"
          ],
          "name": "stdout"
        }
      ]
    },
    {
      "cell_type": "code",
      "metadata": {
        "colab": {
          "base_uri": "https://localhost:8080/",
          "height": 239
        },
        "id": "vMGX5J9xgy1R",
        "outputId": "85a70535-6582-4526-86f2-dec6d97c2349"
      },
      "source": [
        "%matplotlib inline\r\n",
        "import matplotlib.pyplot as plt\r\n",
        "import numpy as np\r\n",
        "\r\n",
        "# set up matplotlib fig, and size it to fit 3x4 pics\r\n",
        "nrows = 1\r\n",
        "ncols = 5\r\n",
        "fig = plt.gcf()\r\n",
        "fig.set_size_inches(ncols*4, nrows*4)\r\n",
        "\r\n",
        "# predict images from validation set\r\n",
        "n_images = 5\r\n",
        "test_images = x_test[:n_images]\r\n",
        "predictions = logistic_regression(test_images, W, b)\r\n",
        "\r\n",
        "# visualize image and model prediction\r\n",
        "for i in range(n_images):\r\n",
        "    # set up subplot; subplot indices start at 1\r\n",
        "    sp = plt.subplot(nrows, ncols, i + 1, title=\"pred: %i\" % np.argmax(predictions.numpy()[i]))\r\n",
        "    sp.axis('Off') # don't show axes (or gridlines)\r\n",
        "    plt.imshow(np.reshape(test_images[i], [28, 28]), cmap='gray')\r\n",
        "\r\n",
        "plt.show()"
      ],
      "execution_count": 37,
      "outputs": [
        {
          "output_type": "display_data",
          "data": {
            "image/png": "[encoded data removed]",
            "text/plain": [
              "<Figure size 1440x288 with 5 Axes>"
            ]
          },
          "metadata": {
            "tags": [],
            "needs_background": "light"
          }
        }
      ]
    }
  ]
}