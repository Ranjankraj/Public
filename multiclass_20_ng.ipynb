{
  "nbformat": 4,
  "nbformat_minor": 0,
  "metadata": {
    "accelerator": "GPU",
    "colab": {
      "name": "multiclass_20_ng.ipynb",
      "provenance": [],
      "collapsed_sections": [],
      "authorship_tag": "ABX9TyOGpA6hcRVeEU1c+ExNlEyF",
      "include_colab_link": true
    },
    "kernelspec": {
      "display_name": "Python 3",
      "name": "python3"
    }
  },
  "cells": [
    {
      "cell_type": "markdown",
      "metadata": {
        "id": "view-in-github",
        "colab_type": "text"
      },
      "source": [
        "<a href=\"https://colab.research.google.com/github/Ranjankraj/Shala/blob/main/multiclass_20_ng.ipynb\" target=\"_parent\"><img src=\"https://colab.research.google.com/assets/colab-badge.svg\" alt=\"Open In Colab\"/></a>"
      ]
    },
    {
      "cell_type": "code",
      "metadata": {
        "colab": {
          "base_uri": "https://localhost:8080/"
        },
        "id": "CXiXplqjdnUv",
        "outputId": "726ac043-89d0-457c-d001-7e0ba15ac087"
      },
      "source": [
        "#Classification of 20_newsgroup consisting of around 20000 files with 20 classes with Naive bayes and LSTM\r\n",
        "\r\n",
        "#Mounting drive \r\n",
        "from google.colab import drive\r\n",
        "drive.mount('/content/drive')"
      ],
      "execution_count": null,
      "outputs": [
        {
          "output_type": "stream",
          "text": [
            "Mounted at /content/drive\n"
          ],
          "name": "stdout"
        }
      ]
    },
    {
      "cell_type": "code",
      "metadata": {
        "id": "zSj86iV2gaNR"
      },
      "source": [
        "# !unzip  \"/content/20_newsgroups.zip\""
      ],
      "execution_count": null,
      "outputs": []
    },
    {
      "cell_type": "code",
      "metadata": {
        "id": "WrTgmanbdXmU"
      },
      "source": [
        "#After manually uploading zip file\r\n",
        "!unzip -u \"/content/20_newsgroups.zip\" -d \"/content/Internship/\""
      ],
      "execution_count": null,
      "outputs": []
    },
    {
      "cell_type": "code",
      "metadata": {
        "colab": {
          "base_uri": "https://localhost:8080/"
        },
        "id": "JxyXtbbwi8fU",
        "outputId": "43796ac4-ce9c-40cc-9555-7b6040f6837a"
      },
      "source": [
        "!ls"
      ],
      "execution_count": 3,
      "outputs": [
        {
          "output_type": "stream",
          "text": [
            "20_newsgroups.zip  Internship  sample_data\n"
          ],
          "name": "stdout"
        }
      ]
    },
    {
      "cell_type": "code",
      "metadata": {
        "id": "Vgg97b63eGnd"
      },
      "source": [
        "from os import listdir\r\n",
        "from os.path import isfile, join\r\n",
        "# import string"
      ],
      "execution_count": 4,
      "outputs": []
    },
    {
      "cell_type": "code",
      "metadata": {
        "id": "wM4sI9VEeOWM"
      },
      "source": [
        "my_path = \"/content/Internship/20_newsgroups\"\r\n",
        "\r\n",
        "#creating a list of folder names to make valid pathnames later\r\n",
        "folders = [f for f in listdir(my_path)]"
      ],
      "execution_count": 5,
      "outputs": []
    },
    {
      "cell_type": "code",
      "metadata": {
        "colab": {
          "base_uri": "https://localhost:8080/"
        },
        "id": "GBlAvlAYeuQM",
        "outputId": "b9351555-2c44-41fa-94ff-ff572f89db9d"
      },
      "source": [
        "folders"
      ],
      "execution_count": 6,
      "outputs": [
        {
          "output_type": "execute_result",
          "data": {
            "text/plain": [
              "['talk.politics.guns',\n",
              " 'talk.politics.misc',\n",
              " 'comp.graphics',\n",
              " 'sci.electronics',\n",
              " 'talk.politics.mideast',\n",
              " 'sci.crypt',\n",
              " 'rec.autos',\n",
              " 'alt.atheism',\n",
              " 'soc.religion.christian',\n",
              " 'talk.religion.misc',\n",
              " 'comp.sys.ibm.pc.hardware',\n",
              " 'comp.sys.mac.hardware',\n",
              " 'rec.sport.baseball',\n",
              " 'sci.med',\n",
              " 'sci.space',\n",
              " 'rec.motorcycles',\n",
              " 'misc.forsale',\n",
              " 'comp.os.ms-windows.misc',\n",
              " 'comp.windows.x',\n",
              " 'rec.sport.hockey']"
            ]
          },
          "metadata": {
            "tags": []
          },
          "execution_count": 6
        }
      ]
    },
    {
      "cell_type": "code",
      "metadata": {
        "colab": {
          "base_uri": "https://localhost:8080/"
        },
        "id": "F5CyFjoVfKSc",
        "outputId": "5d7ca5dd-8a46-40d6-8b38-d7f5a1ce5438"
      },
      "source": [
        "print(len(folders))"
      ],
      "execution_count": 7,
      "outputs": [
        {
          "output_type": "stream",
          "text": [
            "20\n"
          ],
          "name": "stdout"
        }
      ]
    },
    {
      "cell_type": "code",
      "metadata": {
        "id": "BqC06Irbs1Pn"
      },
      "source": [
        "#function to remove incompatible files\r\n",
        "import os\r\n",
        "import sklearn.datasets\r\n",
        "def find_incompatible_files(path):\r\n",
        "    \"\"\"\r\n",
        "    Finds the filenames that are incompatible with `CountVectorizer`. These files are usually not compatible with UTF8!\r\n",
        "    parameter `path` is the absolute or relative path of the training data's root directory.\r\n",
        "    \"\"\"\r\n",
        "\r\n",
        "    count_vector = sklearn.feature_extraction.text.CountVectorizer()\r\n",
        "    files = sklearn.datasets.load_files(path)\r\n",
        "    num = []\r\n",
        "    for i in range(len(files.filenames)):\r\n",
        "        try:\r\n",
        "            count_vector.fit_transform(files.data[i:i + 1])\r\n",
        "        except UnicodeDecodeError:\r\n",
        "            num.append(files.filenames[i])\r\n",
        "            os.remove(files.filenames[i])\r\n",
        "        except ValueError:\r\n",
        "            pass\r\n",
        "\r\n",
        "    return num\r\n"
      ],
      "execution_count": 8,
      "outputs": []
    },
    {
      "cell_type": "code",
      "metadata": {
        "id": "s4wTSL1EtzxP"
      },
      "source": [
        "#Removing incompatible files\r\n",
        "val = find_incompatible_files(my_path)"
      ],
      "execution_count": 9,
      "outputs": []
    },
    {
      "cell_type": "code",
      "metadata": {
        "colab": {
          "base_uri": "https://localhost:8080/"
        },
        "id": "JVY8oXoUHuBi",
        "outputId": "e8e44d7d-2c83-4569-c9be-41655f6102f4"
      },
      "source": [
        "#printing no. of incompatible files removed\r\n",
        "\r\n",
        "print(len(val))"
      ],
      "execution_count": 10,
      "outputs": [
        {
          "output_type": "stream",
          "text": [
            "73\n"
          ],
          "name": "stdout"
        }
      ]
    },
    {
      "cell_type": "code",
      "metadata": {
        "id": "nKf-cweofQZc"
      },
      "source": [
        "#creating a 2D list to store list of all files in different folders\r\n",
        "\r\n",
        "files = []\r\n",
        "for folder_name in folders:\r\n",
        "    folder_path = join(my_path, folder_name)\r\n",
        "    files.append([f for f in listdir(folder_path)])"
      ],
      "execution_count": 11,
      "outputs": []
    },
    {
      "cell_type": "code",
      "metadata": {
        "colab": {
          "base_uri": "https://localhost:8080/"
        },
        "id": "uHz0QeWZfylM",
        "outputId": "2b70806c-5b0f-41e7-a47b-39850f2fc0e9"
      },
      "source": [
        "#There is around 20000 files or data points to read from\r\n",
        "sum(len(files[i]) for i in range(20))"
      ],
      "execution_count": 12,
      "outputs": [
        {
          "output_type": "execute_result",
          "data": {
            "text/plain": [
              "19924"
            ]
          },
          "metadata": {
            "tags": []
          },
          "execution_count": 12
        }
      ]
    },
    {
      "cell_type": "code",
      "metadata": {
        "id": "DVbdp-atjSKV"
      },
      "source": [
        "pathname_list = []\r\n",
        "for fo in range(len(folders)):\r\n",
        "    for fi in files[fo]:\r\n",
        "        pathname_list.append(join(my_path, join(folders[fo], fi)))"
      ],
      "execution_count": 13,
      "outputs": []
    },
    {
      "cell_type": "code",
      "metadata": {
        "colab": {
          "base_uri": "https://localhost:8080/"
        },
        "id": "4JT9rAI-jZXi",
        "outputId": "03a8b1d2-4ac8-43c0-8a5c-0927c9f6dbd4"
      },
      "source": [
        "len(pathname_list)"
      ],
      "execution_count": 14,
      "outputs": [
        {
          "output_type": "execute_result",
          "data": {
            "text/plain": [
              "19924"
            ]
          },
          "metadata": {
            "tags": []
          },
          "execution_count": 14
        }
      ]
    },
    {
      "cell_type": "code",
      "metadata": {
        "id": "F4-kWBNOjbq0"
      },
      "source": [
        "#making an array containing the classes each of the documents belong to\r\n",
        "\r\n",
        "Y = []\r\n",
        "for folder_name in folders:\r\n",
        "    folder_path = join(my_path, folder_name)\r\n",
        "    num_of_files= len(listdir(folder_path))\r\n",
        "    for i in range(num_of_files):\r\n",
        "        Y.append(folder_name)"
      ],
      "execution_count": 15,
      "outputs": []
    },
    {
      "cell_type": "code",
      "metadata": {
        "colab": {
          "base_uri": "https://localhost:8080/"
        },
        "id": "g0OtSmZaji2Z",
        "outputId": "21a531cf-9f2e-4f77-df0a-96c3efe8dfcf"
      },
      "source": [
        "len(Y)"
      ],
      "execution_count": 16,
      "outputs": [
        {
          "output_type": "execute_result",
          "data": {
            "text/plain": [
              "19924"
            ]
          },
          "metadata": {
            "tags": []
          },
          "execution_count": 16
        }
      ]
    },
    {
      "cell_type": "code",
      "metadata": {
        "id": "5cBaW3e7AFsy"
      },
      "source": [
        "# function for reading data\r\n",
        "\r\n",
        "def ps(doc):\r\n",
        "      f = open(doc)\r\n",
        "      data= f.read()\r\n",
        "      return data"
      ],
      "execution_count": 17,
      "outputs": []
    },
    {
      "cell_type": "code",
      "metadata": {
        "id": "EizFX_xTF2Z5"
      },
      "source": [
        "#Reading & storing data from all the files \r\n",
        "\r\n",
        "import glob\r\n",
        "import os.path\r\n",
        "import string \r\n",
        "\r\n",
        "X_data = []\r\n",
        "\r\n",
        "for i in range(len(pathname_list)):\r\n",
        "  for file in glob.glob(pathname_list[i]):\r\n",
        "      \r\n",
        "      data = ps(file)\r\n",
        "      X_data.append(data)"
      ],
      "execution_count": 18,
      "outputs": []
    },
    {
      "cell_type": "code",
      "metadata": {
        "colab": {
          "base_uri": "https://localhost:8080/"
        },
        "id": "9uDdIgyOHLYi",
        "outputId": "821c35c2-945b-4842-c37f-fc9c8dc71e7c"
      },
      "source": [
        "print(len(X_data))"
      ],
      "execution_count": 19,
      "outputs": [
        {
          "output_type": "stream",
          "text": [
            "19924\n"
          ],
          "name": "stdout"
        }
      ]
    },
    {
      "cell_type": "code",
      "metadata": {
        "colab": {
          "base_uri": "https://localhost:8080/"
        },
        "id": "OLXLrUBRHUaS",
        "outputId": "e6e586c0-f35e-4e42-ceef-144ae2862dd5"
      },
      "source": [
        "#Sample of texts in one file \r\n",
        "\r\n",
        "print(X_data[1234])"
      ],
      "execution_count": 20,
      "outputs": [
        {
          "output_type": "stream",
          "text": [
            "Xref: cantaloupe.srv.cs.cmu.edu talk.politics.misc:178544 alt.sex:111457\n",
            "Newsgroups: talk.politics.misc,ca.politics,ba.politics,alt.sex\n",
            "Path: cantaloupe.srv.cs.cmu.edu!das-news.harvard.edu!noc.near.net!uunet!pipex!ibmpcug!exnet!exnet2!sys1\n",
            "From: sys1@exnet.co.uk (Xavier Gallagher)\n",
            "Subject: Re: Using California's Antidiscrimination: The Sort Of Case I Predicted\n",
            "Message-ID: <C5Jv9A.F1B@exnet.co.uk>\n",
            "Organization: ExNet Systems Ltd Public Access News, London, UK\n",
            "References: <15266@optilink.COM> <1993Apr08.092954.13507@armory.com> <15312@optilink.COM>\n",
            "Date: Fri, 16 Apr 1993 00:12:44 GMT\n",
            "Lines: 26\n",
            "\n",
            "In article <15312@optilink.COM> cramer@optilink.COM (Clayton Cramer) writes:\n",
            ">In article <1993Apr08.092954.13507@armory.com>, rstevew@armory.com (Richard Steven Walz) writes:\n",
            "># Face it, Clayton, he was not found guilty, and so what if gays sometimes\n",
            "># make it consensually with 16 year old boys. There ARE 16 year old gays, you\n",
            "># know. And as I recall, the case of the state rested on the testimony of one\n",
            "># \"victim\" who declined to testify, even under threat. I have had teens since\n",
            "># I was 40, and so have a lot of people. Face it Clayton, you're just a jerk!\n",
            "># -RSW\n",
            "># -- \n",
            "># * Richard STEVEn Walz   rstevew@deeptht.armory.com   (408) 429-1200  *\n",
            "># * 515 Maple Street #1   * Without safe and free abortion women are   *\n",
            "># * Santa Cruz, CA 95060    organ-surrogates to unwanted parasites.*   *\n",
            ">\n",
            ">I am always amazed to see people admit to breaking the law -- and\n",
            ">putting their address in the signature.  Please tell us more about \n",
            ">this.  Were they 13?  14?  Would you like to make a statement for\n",
            ">the district attorney?\n",
            "\n",
            "I had sex with a 13 year old boy, it was great, we did *everything*,\n",
            "well, a hell of a lot.  It was fun anyway.  Oh, and before you turn \n",
            "purple with rage I was 12 at the time.\n",
            ">-- \n",
            ">Clayton E. Cramer {uunet,pyramid}!optilink!cramer  My opinions, all mine!\n",
            ">Relations between people to be by mutual consent, or not at all.\n",
            "\n",
            "\n",
            "\n"
          ],
          "name": "stdout"
        }
      ]
    },
    {
      "cell_type": "code",
      "metadata": {
        "colab": {
          "base_uri": "https://localhost:8080/",
          "height": 225
        },
        "id": "JL8GwnYXJPVE",
        "outputId": "0d58aa51-e1e2-4ab2-9a98-ac5f8e915656"
      },
      "source": [
        "#Organising data in pandas dataframe to work with\r\n",
        "\r\n",
        "import pandas as pd\r\n",
        "\r\n",
        "df1 = pd.DataFrame(X_data, columns=['Text'])\r\n",
        "df2 = pd.DataFrame(Y, columns=['Labels'])\r\n",
        "\r\n",
        "df = pd.concat([df1, df2], axis=1)\r\n",
        "print(len(df))\r\n",
        "df.head()"
      ],
      "execution_count": 21,
      "outputs": [
        {
          "output_type": "stream",
          "text": [
            "19924\n"
          ],
          "name": "stdout"
        },
        {
          "output_type": "execute_result",
          "data": {
            "text/html": [
              "<div>\n",
              "<style scoped>\n",
              "    .dataframe tbody tr th:only-of-type {\n",
              "        vertical-align: middle;\n",
              "    }\n",
              "\n",
              "    .dataframe tbody tr th {\n",
              "        vertical-align: top;\n",
              "    }\n",
              "\n",
              "    .dataframe thead th {\n",
              "        text-align: right;\n",
              "    }\n",
              "</style>\n",
              "<table border=\"1\" class=\"dataframe\">\n",
              "  <thead>\n",
              "    <tr style=\"text-align: right;\">\n",
              "      <th></th>\n",
              "      <th>Text</th>\n",
              "      <th>Labels</th>\n",
              "    </tr>\n",
              "  </thead>\n",
              "  <tbody>\n",
              "    <tr>\n",
              "      <th>0</th>\n",
              "      <td>Newsgroups: talk.politics.guns\\nPath: cantalou...</td>\n",
              "      <td>talk.politics.guns</td>\n",
              "    </tr>\n",
              "    <tr>\n",
              "      <th>1</th>\n",
              "      <td>Newsgroups: talk.politics.guns\\nPath: cantalou...</td>\n",
              "      <td>talk.politics.guns</td>\n",
              "    </tr>\n",
              "    <tr>\n",
              "      <th>2</th>\n",
              "      <td>Xref: cantaloupe.srv.cs.cmu.edu talk.politics....</td>\n",
              "      <td>talk.politics.guns</td>\n",
              "    </tr>\n",
              "    <tr>\n",
              "      <th>3</th>\n",
              "      <td>Xref: cantaloupe.srv.cs.cmu.edu talk.politics....</td>\n",
              "      <td>talk.politics.guns</td>\n",
              "    </tr>\n",
              "    <tr>\n",
              "      <th>4</th>\n",
              "      <td>Newsgroups: talk.politics.guns\\nPath: cantalou...</td>\n",
              "      <td>talk.politics.guns</td>\n",
              "    </tr>\n",
              "  </tbody>\n",
              "</table>\n",
              "</div>"
            ],
            "text/plain": [
              "                                                Text              Labels\n",
              "0  Newsgroups: talk.politics.guns\\nPath: cantalou...  talk.politics.guns\n",
              "1  Newsgroups: talk.politics.guns\\nPath: cantalou...  talk.politics.guns\n",
              "2  Xref: cantaloupe.srv.cs.cmu.edu talk.politics....  talk.politics.guns\n",
              "3  Xref: cantaloupe.srv.cs.cmu.edu talk.politics....  talk.politics.guns\n",
              "4  Newsgroups: talk.politics.guns\\nPath: cantalou...  talk.politics.guns"
            ]
          },
          "metadata": {
            "tags": []
          },
          "execution_count": 21
        }
      ]
    },
    {
      "cell_type": "code",
      "metadata": {
        "colab": {
          "base_uri": "https://localhost:8080/"
        },
        "id": "RKy9n1YsH2bZ",
        "outputId": "3c843bad-0350-4999-e09a-bacc1d49ec31"
      },
      "source": [
        "# Cleaning the texts\r\n",
        "import re\r\n",
        "import nltk\r\n",
        "nltk.download('stopwords')\r\n",
        "from nltk.corpus import stopwords\r\n",
        "from nltk.stem.porter import PorterStemmer\r\n",
        "\r\n",
        "corpus = []\r\n",
        "\r\n",
        "for i in range(len(X_data)):\r\n",
        "    review = re.sub('[^a-zA-Z]', ' ', df['Text'][i])\r\n",
        "    review = review.lower()\r\n",
        "    review = review.split()\r\n",
        "    ps = PorterStemmer()\r\n",
        "    review = [ps.stem(word) for word in review if not word in set(stopwords.words('english')) and len(word)>3]\r\n",
        "    review = ' '.join(review)\r\n",
        "    corpus.append(review)"
      ],
      "execution_count": 22,
      "outputs": [
        {
          "output_type": "stream",
          "text": [
            "[nltk_data] Downloading package stopwords to /root/nltk_data...\n",
            "[nltk_data]   Unzipping corpora/stopwords.zip.\n"
          ],
          "name": "stdout"
        }
      ]
    },
    {
      "cell_type": "code",
      "metadata": {
        "id": "ljaj6zCzgFiV"
      },
      "source": [
        "df.Text = corpus"
      ],
      "execution_count": 30,
      "outputs": []
    },
    {
      "cell_type": "code",
      "metadata": {
        "colab": {
          "base_uri": "https://localhost:8080/"
        },
        "id": "EpuXR1X-VLPU",
        "outputId": "3ca550c5-0f23-4c0a-a4ec-6aca07ff6482"
      },
      "source": [
        "df.Labels.value_counts()"
      ],
      "execution_count": 24,
      "outputs": [
        {
          "output_type": "execute_result",
          "data": {
            "text/plain": [
              "comp.os.ms-windows.misc     1000\n",
              "talk.politics.mideast       1000\n",
              "talk.politics.guns          1000\n",
              "rec.motorcycles             1000\n",
              "talk.politics.misc          1000\n",
              "sci.crypt                    999\n",
              "sci.med                      997\n",
              "talk.religion.misc           997\n",
              "sci.space                    997\n",
              "soc.religion.christian       997\n",
              "misc.forsale                 996\n",
              "comp.windows.x               996\n",
              "rec.autos                    996\n",
              "comp.sys.ibm.pc.hardware     995\n",
              "comp.graphics                995\n",
              "sci.electronics              994\n",
              "rec.sport.hockey             994\n",
              "alt.atheism                  993\n",
              "rec.sport.baseball           993\n",
              "comp.sys.mac.hardware        985\n",
              "Name: Labels, dtype: int64"
            ]
          },
          "metadata": {
            "tags": []
          },
          "execution_count": 24
        }
      ]
    },
    {
      "cell_type": "code",
      "metadata": {
        "colab": {
          "base_uri": "https://localhost:8080/"
        },
        "id": "btg6KNt9aTKi",
        "outputId": "bfa1891f-4b34-4bb6-aef1-a09e71ad6898"
      },
      "source": [
        "df.Labels = df.Labels.astype('category')\r\n",
        "\r\n",
        "df.dtypes"
      ],
      "execution_count": 31,
      "outputs": [
        {
          "output_type": "execute_result",
          "data": {
            "text/plain": [
              "Text        object\n",
              "Labels    category\n",
              "Code          int8\n",
              "dtype: object"
            ]
          },
          "metadata": {
            "tags": []
          },
          "execution_count": 31
        }
      ]
    },
    {
      "cell_type": "code",
      "metadata": {
        "colab": {
          "base_uri": "https://localhost:8080/",
          "height": 206
        },
        "id": "TSxL0hv8cZDd",
        "outputId": "71160f11-7fe3-45db-b367-4a2e459d7d8a"
      },
      "source": [
        "df['Code'] = df.Labels.cat.codes\r\n",
        "df.head()"
      ],
      "execution_count": 32,
      "outputs": [
        {
          "output_type": "execute_result",
          "data": {
            "text/html": [
              "<div>\n",
              "<style scoped>\n",
              "    .dataframe tbody tr th:only-of-type {\n",
              "        vertical-align: middle;\n",
              "    }\n",
              "\n",
              "    .dataframe tbody tr th {\n",
              "        vertical-align: top;\n",
              "    }\n",
              "\n",
              "    .dataframe thead th {\n",
              "        text-align: right;\n",
              "    }\n",
              "</style>\n",
              "<table border=\"1\" class=\"dataframe\">\n",
              "  <thead>\n",
              "    <tr style=\"text-align: right;\">\n",
              "      <th></th>\n",
              "      <th>Text</th>\n",
              "      <th>Labels</th>\n",
              "      <th>Code</th>\n",
              "    </tr>\n",
              "  </thead>\n",
              "  <tbody>\n",
              "    <tr>\n",
              "      <th>0</th>\n",
              "      <td>newsgroup talk polit gun path cantaloup news h...</td>\n",
              "      <td>talk.politics.guns</td>\n",
              "      <td>16</td>\n",
              "    </tr>\n",
              "    <tr>\n",
              "      <th>1</th>\n",
              "      <td>newsgroup talk polit gun path cantaloup crabap...</td>\n",
              "      <td>talk.politics.guns</td>\n",
              "      <td>16</td>\n",
              "    </tr>\n",
              "    <tr>\n",
              "      <th>2</th>\n",
              "      <td>xref cantaloup talk polit gun rush limbaugh ne...</td>\n",
              "      <td>talk.politics.guns</td>\n",
              "      <td>16</td>\n",
              "    </tr>\n",
              "    <tr>\n",
              "      <th>3</th>\n",
              "      <td>xref cantaloup talk polit gun cultur rush limb...</td>\n",
              "      <td>talk.politics.guns</td>\n",
              "      <td>16</td>\n",
              "    </tr>\n",
              "    <tr>\n",
              "      <th>4</th>\n",
              "      <td>newsgroup talk polit gun path cantaloup magnes...</td>\n",
              "      <td>talk.politics.guns</td>\n",
              "      <td>16</td>\n",
              "    </tr>\n",
              "  </tbody>\n",
              "</table>\n",
              "</div>"
            ],
            "text/plain": [
              "                                                Text              Labels  Code\n",
              "0  newsgroup talk polit gun path cantaloup news h...  talk.politics.guns    16\n",
              "1  newsgroup talk polit gun path cantaloup crabap...  talk.politics.guns    16\n",
              "2  xref cantaloup talk polit gun rush limbaugh ne...  talk.politics.guns    16\n",
              "3  xref cantaloup talk polit gun cultur rush limb...  talk.politics.guns    16\n",
              "4  newsgroup talk polit gun path cantaloup magnes...  talk.politics.guns    16"
            ]
          },
          "metadata": {
            "tags": []
          },
          "execution_count": 32
        }
      ]
    },
    {
      "cell_type": "code",
      "metadata": {
        "id": "Msw9FDHHiS3M"
      },
      "source": [
        "from sklearn.model_selection import train_test_split\r\n",
        "\r\n",
        "X = df.Text\r\n",
        "y = df.Code\r\n",
        "X_train, X_test, y_train, y_test = train_test_split(X, y, train_size=0.75, random_state = 123, shuffle=True)"
      ],
      "execution_count": 33,
      "outputs": []
    },
    {
      "cell_type": "code",
      "metadata": {
        "id": "3DXSEDf73GXY"
      },
      "source": [
        "from sklearn.feature_extraction.text import CountVectorizer\r\n",
        "from sklearn.ensemble import RandomForestClassifier\r\n",
        "from sklearn.pipeline import Pipeline\r\n",
        "from sklearn.metrics import accuracy_score"
      ],
      "execution_count": 34,
      "outputs": []
    },
    {
      "cell_type": "code",
      "metadata": {
        "id": "ftgc3ga73Ie_"
      },
      "source": [
        "def accuracy_summary(pipeline, X_train, y_train, X_test, y_test):\r\n",
        "    get_fit = pipeline.fit(X_train, y_train)\r\n",
        "    y_pred1 = get_fit.predict(X_test)\r\n",
        "    accuracy1 = accuracy_score(y_test, y_pred)\r\n",
        "    y_pred2 = get_fit.predict(X_train)\r\n",
        "    accuracy2 = accuracy_score(y_train, y_pred)\r\n",
        "    print(\"accuracy score for test: {0:.2f}%\".format(accuracy1*100))\r\n",
        "    print(\"accuracy score for train: {0:.2f}%\".format(accuracy2*100))\r\n",
        "    return accuracy"
      ],
      "execution_count": 35,
      "outputs": []
    },
    {
      "cell_type": "code",
      "metadata": {
        "id": "kxgFw-rq3P1o"
      },
      "source": [
        "import numpy as np\r\n",
        "cv = CountVectorizer()\r\n",
        "rf = RandomForestClassifier()\r\n",
        "n_features = np.arange(10000,25001,5000)\r\n",
        "\r\n",
        "def nfeature_accuracy_checker(vectorizer=cv, n_features=n_features, ngram_range=(1, 1), classifier=rf):\r\n",
        "    result = []\r\n",
        "    print(classifier)\r\n",
        "    print(\"\\n\")\r\n",
        "    for n in n_features:\r\n",
        "        vectorizer.set_params(max_features=n, ngram_range=ngram_range)\r\n",
        "        checker_pipeline = Pipeline([\r\n",
        "            ('vectorizer', vectorizer),\r\n",
        "            ('classifier', classifier)\r\n",
        "        ])\r\n",
        "        print(\"Test result for {} features\".format(n))\r\n",
        "        nfeature_accuracy = accuracy_summary(checker_pipeline, X_train, y_train, X_test, y_test)\r\n",
        "        result.append((n,nfeature_accuracy))\r\n",
        "    return result"
      ],
      "execution_count": 39,
      "outputs": []
    },
    {
      "cell_type": "code",
      "metadata": {
        "id": "cHjCy7IY5Ct3"
      },
      "source": [
        "from sklearn.feature_extraction.text import TfidfVectorizer\r\n",
        "tfidf = TfidfVectorizer()"
      ],
      "execution_count": 40,
      "outputs": []
    },
    {
      "cell_type": "code",
      "metadata": {
        "colab": {
          "base_uri": "https://localhost:8080/"
        },
        "id": "-WOUVYc65IYn",
        "outputId": "7979a2d6-368d-41af-f29e-22cf5cfc23ef"
      },
      "source": [
        "print(\"Result for trigram by random forrest (Tfidf)\\n\")\r\n",
        "feature_result_tgt = nfeature_accuracy_checker(vectorizer=tfidf,ngram_range=(1, 3))"
      ],
      "execution_count": 41,
      "outputs": [
        {
          "output_type": "stream",
          "text": [
            "Result for trigram with stop words (Tfidf)\n",
            "\n",
            "RandomForestClassifier(bootstrap=True, ccp_alpha=0.0, class_weight=None,\n",
            "                       criterion='gini', max_depth=None, max_features='auto',\n",
            "                       max_leaf_nodes=None, max_samples=None,\n",
            "                       min_impurity_decrease=0.0, min_impurity_split=None,\n",
            "                       min_samples_leaf=1, min_samples_split=2,\n",
            "                       min_weight_fraction_leaf=0.0, n_estimators=100,\n",
            "                       n_jobs=None, oob_score=False, random_state=None,\n",
            "                       verbose=0, warm_start=False)\n",
            "\n",
            "\n",
            "Test result for 10000 features\n",
            "accuracy score: 93.35%\n",
            "Test result for 15000 features\n",
            "accuracy score: 93.72%\n",
            "Test result for 20000 features\n",
            "accuracy score: 93.54%\n",
            "Test result for 25000 features\n",
            "accuracy score: 93.64%\n"
          ],
          "name": "stdout"
        }
      ]
    },
    {
      "cell_type": "code",
      "metadata": {
        "id": "iTib62wDALsr"
      },
      "source": [
        "#Storing list of all the words\r\n",
        "import pandas\r\n",
        "\r\n",
        "list_of_all_words = []\r\n",
        "\r\n",
        "for i in range(len(pathname_list)):\r\n",
        "  for file in glob.glob(pathname_list[i]):\r\n",
        "      \r\n",
        "      words = ps(file)\r\n",
        "      for word in words:\r\n",
        "        list_of_all_words.append(word)\r\n"
      ],
      "execution_count": null,
      "outputs": []
    },
    {
      "cell_type": "code",
      "metadata": {
        "colab": {
          "base_uri": "https://localhost:8080/"
        },
        "id": "CeIRYEBKA7ME",
        "outputId": "ef6cc172-355a-456a-a07e-fa7435f1a8b2"
      },
      "source": [
        "import numpy as np\r\n",
        "\r\n",
        "np_list_of_all_words = np.asarray(list_of_all_words)\r\n",
        "\r\n",
        "words, counts = np.unique(np_list_of_all_words, return_counts=True)\r\n",
        "len(words)"
      ],
      "execution_count": null,
      "outputs": [
        {
          "output_type": "execute_result",
          "data": {
            "text/plain": [
              "95960"
            ]
          },
          "metadata": {
            "tags": []
          },
          "execution_count": 102
        }
      ]
    },
    {
      "cell_type": "code",
      "metadata": {
        "id": "_smrOnBpC2N1"
      },
      "source": [
        "def count(word):\r\n",
        "  d_fq = []\r\n",
        "  for i in range(len(pathname_list)):\r\n",
        "    for file in glob.glob(pathname_list[i]):\r\n",
        "\r\n",
        "        f = open(file)\r\n",
        "        data= f.read()\r\n",
        "        words = cleanDoc(data)\r\n",
        "        if word in words:\r\n",
        "          d_fq.append(pathname_list[i])\r\n",
        "  return len(d_fq)"
      ],
      "execution_count": null,
      "outputs": []
    },
    {
      "cell_type": "code",
      "metadata": {
        "id": "G8gm5U0FTzx_"
      },
      "source": [
        "#dictionary will contain unique words mapped with their document frequency\r\n",
        "d_words = {}\r\n",
        "\r\n",
        "for word in words: d_words[word] = count(word)"
      ],
      "execution_count": null,
      "outputs": []
    },
    {
      "cell_type": "code",
      "metadata": {
        "id": "ZSra35jNDb5-"
      },
      "source": [
        "print(d_words)"
      ],
      "execution_count": null,
      "outputs": []
    },
    {
      "cell_type": "code",
      "metadata": {
        "id": "5CgPxa2GEAPd"
      },
      "source": [
        "#Sorting dictionary\r\n",
        "import operator\r\n",
        "\r\n",
        "sorted_d = dict( sorted(d_words.items(), key=operator.itemgetter(1),reverse=True))"
      ],
      "execution_count": null,
      "outputs": []
    },
    {
      "cell_type": "code",
      "metadata": {
        "id": "PNOz-rSVFAE-"
      },
      "source": [
        "#choosing 500 to 1000 words by document frequency\r\n",
        "dict_items = sorted_d.keys()\r\n",
        "\r\n",
        "f_t = list(dict_items)[500:1001]\r\n",
        "\r\n",
        "print(f_t)"
      ],
      "execution_count": null,
      "outputs": []
    },
    {
      "cell_type": "code",
      "metadata": {
        "id": "zv5VoFZwFzZ3"
      },
      "source": [
        "#We can loop over the below function to find Probability(word|class)\r\n",
        "\r\n",
        "def prob(word,class):\r\n",
        "  d_fq = []\r\n",
        "  \r\n",
        "  for folder_name in folders:\r\n",
        "    if class == folder_name:\r\n",
        "      files = []\r\n",
        "      folder_path = join(my_path, folder_name)\r\n",
        "      files.append([f for f in listdir(folder_path)])\r\n",
        "      pathname_list = []\r\n",
        "      for fi in files[fo]:\r\n",
        "          pathname_list.append(join(my_path, join(folders[fo], fi)))\r\n",
        "      for i in range(len(pathname_list)):\r\n",
        "        for file in glob.glob(pathname_list[i]):\r\n",
        "\r\n",
        "          f = open(file)\r\n",
        "          data= f.read()\r\n",
        "          words = cleanDoc(data)\r\n",
        "          if word in words:\r\n",
        "            d_fq.append(pathname_list[i])\r\n",
        "\r\n",
        "          return ((len(d_fq))/(len(pathname_list)))\r\n",
        "\r\n",
        "\r\n",
        "w = 'article'\r\n",
        "c = 'alt.atheism'\r\n",
        "\r\n",
        "prob(w,c)"
      ],
      "execution_count": null,
      "outputs": []
    },
    {
      "cell_type": "code",
      "metadata": {
        "colab": {
          "base_uri": "https://localhost:8080/"
        },
        "id": "cgxaLTC7unw7",
        "outputId": "4b2c665d-e768-451d-ff31-70392edab6e6"
      },
      "source": [
        "#fitting the model \r\n",
        "\r\n",
        "from sklearn.naive_bayes import MultinomialNB\r\n",
        "clf = MultinomialNB()"
      ],
      "execution_count": null,
      "outputs": [
        {
          "output_type": "execute_result",
          "data": {
            "text/plain": [
              "MultinomialNB(alpha=1.0, class_prior=None, fit_prior=True)"
            ]
          },
          "metadata": {
            "tags": []
          },
          "execution_count": 128
        }
      ]
    },
    {
      "cell_type": "code",
      "metadata": {
        "id": "NPhF_CnO8nXf"
      },
      "source": [
        "print(\"Result for trigram by naive bayes (Tfidf)\\n\")\r\n",
        "feature_result_tgt = nfeature_accuracy_checker(vectorizer=tfidf,ngram_range=(1, 3), classifier=clf)"
      ],
      "execution_count": null,
      "outputs": []
    },
    {
      "cell_type": "code",
      "metadata": {
        "id": "VFjGjL2l84j5"
      },
      "source": [
        "clf.fit(X_train, Y_train)"
      ],
      "execution_count": null,
      "outputs": []
    },
    {
      "cell_type": "code",
      "metadata": {
        "id": "hj-8FPfvuoWz"
      },
      "source": [
        "Y_predict = clf.predict(X_test)"
      ],
      "execution_count": null,
      "outputs": []
    },
    {
      "cell_type": "code",
      "metadata": {
        "colab": {
          "base_uri": "https://localhost:8080/"
        },
        "id": "QY8iHjuaus_c",
        "outputId": "73128cb5-a9ae-4934-8292-df68e77686db"
      },
      "source": [
        "#accuracy for test data\r\n",
        "clf.score(X_test, Y_test)"
      ],
      "execution_count": null,
      "outputs": [
        {
          "output_type": "execute_result",
          "data": {
            "text/plain": [
              "0.7751455531017868"
            ]
          },
          "metadata": {
            "tags": []
          },
          "execution_count": 130
        }
      ]
    },
    {
      "cell_type": "code",
      "metadata": {
        "colab": {
          "base_uri": "https://localhost:8080/"
        },
        "id": "1uAFsednuxoy",
        "outputId": "d121bade-f138-494e-ff36-6bbc315390ae"
      },
      "source": [
        "#printing report on test\r\n",
        "from sklearn.metrics import classification_report, confusion_matrix, accuracy_score\r\n",
        "print(classification_report(Y_test, Y_predict))"
      ],
      "execution_count": null,
      "outputs": [
        {
          "output_type": "stream",
          "text": [
            "                          precision    recall  f1-score   support\n",
            "\n",
            "             alt.atheism       0.74      0.76      0.75       251\n",
            "           comp.graphics       0.66      0.66      0.66       267\n",
            " comp.os.ms-windows.misc       0.65      0.64      0.65       256\n",
            "comp.sys.ibm.pc.hardware       0.60      0.65      0.63       233\n",
            "   comp.sys.mac.hardware       0.71      0.71      0.71       267\n",
            "          comp.windows.x       0.79      0.70      0.74       245\n",
            "            misc.forsale       0.71      0.68      0.69       249\n",
            "               rec.autos       0.73      0.82      0.77       236\n",
            "         rec.motorcycles       0.81      0.88      0.84       234\n",
            "      rec.sport.baseball       0.87      0.85      0.86       250\n",
            "        rec.sport.hockey       0.84      0.96      0.90       228\n",
            "               sci.crypt       0.88      0.92      0.90       239\n",
            "         sci.electronics       0.73      0.69      0.71       272\n",
            "                 sci.med       0.94      0.85      0.89       246\n",
            "               sci.space       0.91      0.85      0.88       259\n",
            "  soc.religion.christian       0.85      0.89      0.87       237\n",
            "      talk.politics.guns       0.77      0.88      0.82       244\n",
            "   talk.politics.mideast       0.95      0.91      0.93       260\n",
            "      talk.politics.misc       0.77      0.71      0.74       276\n",
            "      talk.religion.misc       0.59      0.53      0.56       232\n",
            "\n",
            "                accuracy                           0.78      4981\n",
            "               macro avg       0.78      0.78      0.78      4981\n",
            "            weighted avg       0.78      0.78      0.77      4981\n",
            "\n"
          ],
          "name": "stdout"
        }
      ]
    },
    {
      "cell_type": "code",
      "metadata": {
        "id": "nWHiHGRcu86j"
      },
      "source": [
        "Y_predict_tr = clf.predict(X_train)"
      ],
      "execution_count": null,
      "outputs": []
    },
    {
      "cell_type": "code",
      "metadata": {
        "colab": {
          "base_uri": "https://localhost:8080/"
        },
        "id": "VKz13UqFu-7a",
        "outputId": "2688cdda-ca70-4e38-df10-2de7d456944f"
      },
      "source": [
        "#accuracy for training data\r\n",
        "\r\n",
        "clf.score(X_train, Y_train)"
      ],
      "execution_count": null,
      "outputs": [
        {
          "output_type": "execute_result",
          "data": {
            "text/plain": [
              "0.8584621561935354"
            ]
          },
          "metadata": {
            "tags": []
          },
          "execution_count": 133
        }
      ]
    },
    {
      "cell_type": "code",
      "metadata": {
        "colab": {
          "base_uri": "https://localhost:8080/"
        },
        "id": "0X9p00MMvB7D",
        "outputId": "e08dfc09-1407-42e2-997e-ae31f2167bc6"
      },
      "source": [
        "#printing report on training set\r\n",
        "print(classification_report(Y_train, Y_predict_tr))"
      ],
      "execution_count": null,
      "outputs": [
        {
          "output_type": "stream",
          "text": [
            "                          precision    recall  f1-score   support\n",
            "\n",
            "             alt.atheism       0.80      0.87      0.83       742\n",
            "           comp.graphics       0.80      0.78      0.79       728\n",
            " comp.os.ms-windows.misc       0.80      0.83      0.81       744\n",
            "comp.sys.ibm.pc.hardware       0.78      0.78      0.78       762\n",
            "   comp.sys.mac.hardware       0.79      0.83      0.81       718\n",
            "          comp.windows.x       0.89      0.83      0.86       751\n",
            "            misc.forsale       0.82      0.82      0.82       747\n",
            "               rec.autos       0.86      0.89      0.87       760\n",
            "         rec.motorcycles       0.88      0.93      0.91       766\n",
            "      rec.sport.baseball       0.91      0.93      0.92       743\n",
            "        rec.sport.hockey       0.91      0.96      0.94       766\n",
            "               sci.crypt       0.92      0.92      0.92       760\n",
            "         sci.electronics       0.85      0.84      0.85       722\n",
            "                 sci.med       0.95      0.87      0.90       751\n",
            "               sci.space       0.93      0.90      0.91       738\n",
            "  soc.religion.christian       0.93      0.92      0.92       760\n",
            "      talk.politics.guns       0.84      0.91      0.88       756\n",
            "   talk.politics.mideast       0.94      0.93      0.93       740\n",
            "      talk.politics.misc       0.81      0.77      0.79       724\n",
            "      talk.religion.misc       0.77      0.66      0.71       765\n",
            "\n",
            "                accuracy                           0.86     14943\n",
            "               macro avg       0.86      0.86      0.86     14943\n",
            "            weighted avg       0.86      0.86      0.86     14943\n",
            "\n"
          ],
          "name": "stdout"
        }
      ]
    },
    {
      "cell_type": "code",
      "metadata": {
        "id": "WXfN6ggmhkLr"
      },
      "source": [
        "#Building multiclass classification LSTM model\r\n",
        "\r\n",
        "from keras.layers import Dense, Embedding, LSTM, SpatialDropout1D, Bidirectional\r\n",
        "from keras.models import Sequential\r\n",
        "from keras.callbacks import EarlyStopping\r\n",
        "from keras.preprocessing.sequence import pad_sequences"
      ],
      "execution_count": null,
      "outputs": []
    },
    {
      "cell_type": "code",
      "metadata": {
        "id": "dIDDoJUrjGU_"
      },
      "source": [
        "n_most_common_words = 4000\r\n",
        "epochs = 10\r\n",
        "emb_dim = 128\r\n",
        "batch_size = 500\r\n",
        "max_len = 200\r\n",
        "\r\n",
        "X_train = pad_sequences(X_train, padding='post', maxlen=max_len)\r\n",
        "X_test = pad_sequences(X_test, padding='post', maxlen=max_len)"
      ],
      "execution_count": null,
      "outputs": []
    },
    {
      "cell_type": "code",
      "metadata": {
        "id": "-1Bxk3rBk6-6"
      },
      "source": [
        "#Fitting layers for LSTM \r\n",
        "model = Sequential()\r\n",
        "model.add(Embedding(n_most_common_words, emb_dim, input_length=X_train.shape[1]))\r\n",
        "model.add(SpatialDropout1D(0.4))\r\n",
        "model.add(Bidirectional(LSTM(128, dropout=0.4, recurrent_dropout=0.4)))\r\n",
        "model.add(Dense(20, activation='softmax'))\r\n",
        "model.compile(optimizer='adam', loss='categorical_crossentropy', metrics=['acc'])\r\n",
        "clsi = model.fit(X_train, Y_train, epochs=epochs, batch_size=batch_size, validation_split=0.2, callback=[EarlyStopping(monitor='val_loss', mode='auto')])\r\n"
      ],
      "execution_count": null,
      "outputs": []
    },
    {
      "cell_type": "code",
      "metadata": {
        "id": "gUYWHllwngPI"
      },
      "source": [
        "#metrics of the test set is calculated\r\n",
        "accr_1 = model.evaluate(X_test, Y_test)"
      ],
      "execution_count": null,
      "outputs": []
    },
    {
      "cell_type": "code",
      "metadata": {
        "id": "hHYYnkA5nzuW"
      },
      "source": [
        "#metrics of the train set is calculated\r\n",
        "accr_2 = model.evaluate(X_train, Y_train)"
      ],
      "execution_count": null,
      "outputs": []
    }
  ]
}